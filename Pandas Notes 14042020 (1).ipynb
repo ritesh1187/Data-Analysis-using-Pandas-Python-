{
 "cells": [
  {
   "cell_type": "markdown",
   "metadata": {},
   "source": [
    "# Pandas"
   ]
  },
  {
   "cell_type": "markdown",
   "metadata": {},
   "source": [
    "Pandas is an open source library and is built on top of NumPy. It is one of the most important libraries when it comes to data\n",
    "analysis. It has an in-built visulaization features and allows to access data from various sources. "
   ]
  },
  {
   "cell_type": "markdown",
   "metadata": {},
   "source": [
    "We shall be covering following topics:\n",
    "1) Series\n",
    "2) DataFrames\n",
    "3) Adding or dropping a column/ row\n",
    "4) Row selection (loc functions)\n",
    "5) Filtering data \n",
    "6) Missing Values\n",
    "7) Groupby\n",
    "8) Concatenation and Merging\n",
    "9) Operations"
   ]
  },
  {
   "cell_type": "markdown",
   "metadata": {},
   "source": [
    "### Series"
   ]
  },
  {
   "cell_type": "markdown",
   "metadata": {},
   "source": [
    "Series are one dimensional objects like labelled array and can hold data of any data type (int, float, string, ...)"
   ]
  },
  {
   "cell_type": "code",
   "execution_count": 1,
   "metadata": {},
   "outputs": [],
   "source": [
    "import pandas as pd\n",
    "import numpy as np"
   ]
  },
  {
   "cell_type": "markdown",
   "metadata": {},
   "source": [
    "#### Creating a series"
   ]
  },
  {
   "cell_type": "markdown",
   "metadata": {},
   "source": [
    "Syntax - pandas.Series( data, index, dtype, copy)\n",
    "except data all other arguments are optional"
   ]
  },
  {
   "cell_type": "code",
   "execution_count": 2,
   "metadata": {},
   "outputs": [
    {
     "data": {
      "text/plain": [
       "0    1\n",
       "1    2\n",
       "2    3\n",
       "dtype: int64"
      ]
     },
     "execution_count": 2,
     "metadata": {},
     "output_type": "execute_result"
    }
   ],
   "source": [
    "# Creating a simple series\n",
    "pd.Series((1,2,3)) "
   ]
  },
  {
   "cell_type": "code",
   "execution_count": 3,
   "metadata": {},
   "outputs": [
    {
     "data": {
      "text/plain": [
       "a    1\n",
       "b    2\n",
       "c    3\n",
       "dtype: int64"
      ]
     },
     "execution_count": 3,
     "metadata": {},
     "output_type": "execute_result"
    }
   ],
   "source": [
    "# Creating series with lables\n",
    "pd.Series([1,2,3], ['a','b','c']) "
   ]
  },
  {
   "cell_type": "code",
   "execution_count": 4,
   "metadata": {},
   "outputs": [
    {
     "data": {
      "text/plain": [
       "0    14.0\n",
       "1    25.0\n",
       "2    39.0\n",
       "dtype: float64"
      ]
     },
     "execution_count": 4,
     "metadata": {},
     "output_type": "execute_result"
    }
   ],
   "source": [
    "#Creating series with lables and data type\n",
    "pd.Series([14,25,39], [0,1,2], float)"
   ]
  },
  {
   "cell_type": "code",
   "execution_count": 5,
   "metadata": {},
   "outputs": [
    {
     "data": {
      "text/plain": [
       "6      6\n",
       "4      4\n",
       "8      8\n",
       "90    90\n",
       "dtype: int32"
      ]
     },
     "execution_count": 5,
     "metadata": {},
     "output_type": "execute_result"
    }
   ],
   "source": [
    "# Creating a series where index is same as data\n",
    "data = np.array([6,4,8,90])\n",
    "pd.Series(data,data)"
   ]
  },
  {
   "cell_type": "code",
   "execution_count": 6,
   "metadata": {},
   "outputs": [
    {
     "data": {
      "text/plain": [
       "1    23\n",
       "2    23\n",
       "3    23\n",
       "4    23\n",
       "dtype: int64"
      ]
     },
     "execution_count": 6,
     "metadata": {},
     "output_type": "execute_result"
    }
   ],
   "source": [
    "# Scalar series object\n",
    "pd.Series(23, [1,2,3,4])"
   ]
  },
  {
   "cell_type": "markdown",
   "metadata": {},
   "source": [
    "#### Lookups using Indexes"
   ]
  },
  {
   "cell_type": "code",
   "execution_count": 7,
   "metadata": {},
   "outputs": [],
   "source": [
    "# Creating a sample series object\n",
    "ser1 = pd.Series([34,45,789], ['james', 'tony', 'rex'])"
   ]
  },
  {
   "cell_type": "code",
   "execution_count": 8,
   "metadata": {},
   "outputs": [
    {
     "data": {
      "text/plain": [
       "james     34\n",
       "tony      45\n",
       "rex      789\n",
       "dtype: int64"
      ]
     },
     "execution_count": 8,
     "metadata": {},
     "output_type": "execute_result"
    }
   ],
   "source": [
    "ser1"
   ]
  },
  {
   "cell_type": "markdown",
   "metadata": {},
   "source": [
    "##### Lookup using index name/ label"
   ]
  },
  {
   "cell_type": "code",
   "execution_count": 9,
   "metadata": {},
   "outputs": [
    {
     "data": {
      "text/plain": [
       "789"
      ]
     },
     "execution_count": 9,
     "metadata": {},
     "output_type": "execute_result"
    }
   ],
   "source": [
    "# Fetching single elements by index\n",
    "ser1['rex']"
   ]
  },
  {
   "cell_type": "code",
   "execution_count": 10,
   "metadata": {},
   "outputs": [
    {
     "data": {
      "text/plain": [
       "rex      789\n",
       "james     34\n",
       "dtype: int64"
      ]
     },
     "execution_count": 10,
     "metadata": {},
     "output_type": "execute_result"
    }
   ],
   "source": [
    "# Double square brackets to fetch more than one element\n",
    "ser1[['rex', 'james']]"
   ]
  },
  {
   "cell_type": "markdown",
   "metadata": {},
   "source": [
    "##### Lookup using index position"
   ]
  },
  {
   "cell_type": "code",
   "execution_count": 11,
   "metadata": {},
   "outputs": [
    {
     "data": {
      "text/plain": [
       "james    34\n",
       "tony     45\n",
       "dtype: int64"
      ]
     },
     "execution_count": 11,
     "metadata": {},
     "output_type": "execute_result"
    }
   ],
   "source": [
    "ser1[:2] # Includes 0th index and 1st index"
   ]
  },
  {
   "cell_type": "code",
   "execution_count": 12,
   "metadata": {},
   "outputs": [
    {
     "data": {
      "text/plain": [
       "james    34\n",
       "dtype: int64"
      ]
     },
     "execution_count": 12,
     "metadata": {},
     "output_type": "execute_result"
    }
   ],
   "source": [
    "ser1[:1] # 0th index only"
   ]
  },
  {
   "cell_type": "code",
   "execution_count": 13,
   "metadata": {},
   "outputs": [
    {
     "data": {
      "text/plain": [
       "789"
      ]
     },
     "execution_count": 13,
     "metadata": {},
     "output_type": "execute_result"
    }
   ],
   "source": [
    "ser1[-1] # last element"
   ]
  },
  {
   "cell_type": "markdown",
   "metadata": {},
   "source": [
    "##### Applying mathematical operations on Series"
   ]
  },
  {
   "cell_type": "code",
   "execution_count": 14,
   "metadata": {},
   "outputs": [],
   "source": [
    "ser1 = pd.Series([32,3,2], ['k', 'p', 'r'])"
   ]
  },
  {
   "cell_type": "code",
   "execution_count": 15,
   "metadata": {},
   "outputs": [],
   "source": [
    "ser2 = pd.Series([4,30,29, 12], ['k', 'p', 'r', 's'])"
   ]
  },
  {
   "cell_type": "code",
   "execution_count": 16,
   "metadata": {},
   "outputs": [
    {
     "data": {
      "text/plain": [
       "k    36.0\n",
       "p    33.0\n",
       "r    31.0\n",
       "s     NaN\n",
       "dtype: float64"
      ]
     },
     "execution_count": 16,
     "metadata": {},
     "output_type": "execute_result"
    }
   ],
   "source": [
    "# Adding series objects. Indexes that are not present in one of the series will return NaN in the output\n",
    "ser1+ser2"
   ]
  },
  {
   "cell_type": "markdown",
   "metadata": {},
   "source": [
    "### DataFrames"
   ]
  },
  {
   "cell_type": "markdown",
   "metadata": {},
   "source": [
    "DataFrames store data in row x column format.\n",
    "Syntax - pd.DataFrame( data, index, columns, dtype, copy)\n",
    "where,\n",
    "data - actual data\n",
    "index - row labels\n",
    "columns - headers\n",
    "dtype - data type\n",
    "copy - used for copying data, by default it is FALSE"
   ]
  },
  {
   "cell_type": "markdown",
   "metadata": {},
   "source": [
    "Let us start by creating a simple DataFrame"
   ]
  },
  {
   "cell_type": "code",
   "execution_count": 507,
   "metadata": {},
   "outputs": [],
   "source": [
    "# Here we are creating a DataFrame with five rows and four columns. Here index have been given custom names\n",
    "df = pd.DataFrame(np.random.randn(5,4), index = [9,8,7,6,5], columns = ['a', 'b', 'c', 'd'])"
   ]
  },
  {
   "cell_type": "code",
   "execution_count": 508,
   "metadata": {},
   "outputs": [
    {
     "data": {
      "text/html": [
       "<div>\n",
       "<style scoped>\n",
       "    .dataframe tbody tr th:only-of-type {\n",
       "        vertical-align: middle;\n",
       "    }\n",
       "\n",
       "    .dataframe tbody tr th {\n",
       "        vertical-align: top;\n",
       "    }\n",
       "\n",
       "    .dataframe thead th {\n",
       "        text-align: right;\n",
       "    }\n",
       "</style>\n",
       "<table border=\"1\" class=\"dataframe\">\n",
       "  <thead>\n",
       "    <tr style=\"text-align: right;\">\n",
       "      <th></th>\n",
       "      <th>a</th>\n",
       "      <th>b</th>\n",
       "      <th>c</th>\n",
       "      <th>d</th>\n",
       "    </tr>\n",
       "  </thead>\n",
       "  <tbody>\n",
       "    <tr>\n",
       "      <th>9</th>\n",
       "      <td>-1.628955</td>\n",
       "      <td>0.544509</td>\n",
       "      <td>-0.113831</td>\n",
       "      <td>0.579082</td>\n",
       "    </tr>\n",
       "    <tr>\n",
       "      <th>8</th>\n",
       "      <td>0.036843</td>\n",
       "      <td>-0.993996</td>\n",
       "      <td>0.417418</td>\n",
       "      <td>-0.045647</td>\n",
       "    </tr>\n",
       "    <tr>\n",
       "      <th>7</th>\n",
       "      <td>-0.105751</td>\n",
       "      <td>-0.841282</td>\n",
       "      <td>1.263340</td>\n",
       "      <td>0.982564</td>\n",
       "    </tr>\n",
       "    <tr>\n",
       "      <th>6</th>\n",
       "      <td>0.613603</td>\n",
       "      <td>-0.307633</td>\n",
       "      <td>-0.067419</td>\n",
       "      <td>0.223460</td>\n",
       "    </tr>\n",
       "    <tr>\n",
       "      <th>5</th>\n",
       "      <td>2.057287</td>\n",
       "      <td>2.198455</td>\n",
       "      <td>-0.501855</td>\n",
       "      <td>-0.104383</td>\n",
       "    </tr>\n",
       "  </tbody>\n",
       "</table>\n",
       "</div>"
      ],
      "text/plain": [
       "          a         b         c         d\n",
       "9 -1.628955  0.544509 -0.113831  0.579082\n",
       "8  0.036843 -0.993996  0.417418 -0.045647\n",
       "7 -0.105751 -0.841282  1.263340  0.982564\n",
       "6  0.613603 -0.307633 -0.067419  0.223460\n",
       "5  2.057287  2.198455 -0.501855 -0.104383"
      ]
     },
     "execution_count": 508,
     "metadata": {},
     "output_type": "execute_result"
    }
   ],
   "source": [
    "df"
   ]
  },
  {
   "cell_type": "markdown",
   "metadata": {},
   "source": [
    "If you dont specify index labels, it will by default start from 0. Let us try with an example"
   ]
  },
  {
   "cell_type": "code",
   "execution_count": 509,
   "metadata": {},
   "outputs": [],
   "source": [
    "df = pd.DataFrame(np.random.randn(5,4), columns = ['a', 'b', 'c', 'd'])"
   ]
  },
  {
   "cell_type": "code",
   "execution_count": 510,
   "metadata": {},
   "outputs": [
    {
     "data": {
      "text/html": [
       "<div>\n",
       "<style scoped>\n",
       "    .dataframe tbody tr th:only-of-type {\n",
       "        vertical-align: middle;\n",
       "    }\n",
       "\n",
       "    .dataframe tbody tr th {\n",
       "        vertical-align: top;\n",
       "    }\n",
       "\n",
       "    .dataframe thead th {\n",
       "        text-align: right;\n",
       "    }\n",
       "</style>\n",
       "<table border=\"1\" class=\"dataframe\">\n",
       "  <thead>\n",
       "    <tr style=\"text-align: right;\">\n",
       "      <th></th>\n",
       "      <th>a</th>\n",
       "      <th>b</th>\n",
       "      <th>c</th>\n",
       "      <th>d</th>\n",
       "    </tr>\n",
       "  </thead>\n",
       "  <tbody>\n",
       "    <tr>\n",
       "      <th>0</th>\n",
       "      <td>0.897543</td>\n",
       "      <td>-1.044133</td>\n",
       "      <td>-1.887178</td>\n",
       "      <td>-1.375657</td>\n",
       "    </tr>\n",
       "    <tr>\n",
       "      <th>1</th>\n",
       "      <td>1.056311</td>\n",
       "      <td>0.873259</td>\n",
       "      <td>0.615070</td>\n",
       "      <td>-1.281747</td>\n",
       "    </tr>\n",
       "    <tr>\n",
       "      <th>2</th>\n",
       "      <td>0.663415</td>\n",
       "      <td>-0.772728</td>\n",
       "      <td>1.001137</td>\n",
       "      <td>-0.080061</td>\n",
       "    </tr>\n",
       "    <tr>\n",
       "      <th>3</th>\n",
       "      <td>0.371415</td>\n",
       "      <td>-0.638752</td>\n",
       "      <td>0.201842</td>\n",
       "      <td>-0.083424</td>\n",
       "    </tr>\n",
       "    <tr>\n",
       "      <th>4</th>\n",
       "      <td>0.520677</td>\n",
       "      <td>0.186007</td>\n",
       "      <td>0.265135</td>\n",
       "      <td>1.360632</td>\n",
       "    </tr>\n",
       "  </tbody>\n",
       "</table>\n",
       "</div>"
      ],
      "text/plain": [
       "          a         b         c         d\n",
       "0  0.897543 -1.044133 -1.887178 -1.375657\n",
       "1  1.056311  0.873259  0.615070 -1.281747\n",
       "2  0.663415 -0.772728  1.001137 -0.080061\n",
       "3  0.371415 -0.638752  0.201842 -0.083424\n",
       "4  0.520677  0.186007  0.265135  1.360632"
      ]
     },
     "execution_count": 510,
     "metadata": {},
     "output_type": "execute_result"
    }
   ],
   "source": [
    "df"
   ]
  },
  {
   "cell_type": "markdown",
   "metadata": {},
   "source": [
    "Let us create a more meaningful DataFrame and do some operations on it"
   ]
  },
  {
   "cell_type": "code",
   "execution_count": 511,
   "metadata": {},
   "outputs": [],
   "source": [
    "df = pd.DataFrame([[101, 'James', 50000, 'Chicago'], [201, 'Tom', 35000, 'New York'], [301, 'Starc', 20000, 'Dallas'], \n",
    "                  [401, 'Phil', 100000, 'Los Angeles'], [501, 'Rick', 42000, 'San Francisco']], \n",
    "                  columns = ['ID', 'Name', 'Income', 'City'])"
   ]
  },
  {
   "cell_type": "code",
   "execution_count": 512,
   "metadata": {},
   "outputs": [
    {
     "data": {
      "text/html": [
       "<div>\n",
       "<style scoped>\n",
       "    .dataframe tbody tr th:only-of-type {\n",
       "        vertical-align: middle;\n",
       "    }\n",
       "\n",
       "    .dataframe tbody tr th {\n",
       "        vertical-align: top;\n",
       "    }\n",
       "\n",
       "    .dataframe thead th {\n",
       "        text-align: right;\n",
       "    }\n",
       "</style>\n",
       "<table border=\"1\" class=\"dataframe\">\n",
       "  <thead>\n",
       "    <tr style=\"text-align: right;\">\n",
       "      <th></th>\n",
       "      <th>ID</th>\n",
       "      <th>Name</th>\n",
       "      <th>Income</th>\n",
       "      <th>City</th>\n",
       "    </tr>\n",
       "  </thead>\n",
       "  <tbody>\n",
       "    <tr>\n",
       "      <th>0</th>\n",
       "      <td>101</td>\n",
       "      <td>James</td>\n",
       "      <td>50000</td>\n",
       "      <td>Chicago</td>\n",
       "    </tr>\n",
       "    <tr>\n",
       "      <th>1</th>\n",
       "      <td>201</td>\n",
       "      <td>Tom</td>\n",
       "      <td>35000</td>\n",
       "      <td>New York</td>\n",
       "    </tr>\n",
       "    <tr>\n",
       "      <th>2</th>\n",
       "      <td>301</td>\n",
       "      <td>Starc</td>\n",
       "      <td>20000</td>\n",
       "      <td>Dallas</td>\n",
       "    </tr>\n",
       "    <tr>\n",
       "      <th>3</th>\n",
       "      <td>401</td>\n",
       "      <td>Phil</td>\n",
       "      <td>100000</td>\n",
       "      <td>Los Angeles</td>\n",
       "    </tr>\n",
       "    <tr>\n",
       "      <th>4</th>\n",
       "      <td>501</td>\n",
       "      <td>Rick</td>\n",
       "      <td>42000</td>\n",
       "      <td>San Francisco</td>\n",
       "    </tr>\n",
       "  </tbody>\n",
       "</table>\n",
       "</div>"
      ],
      "text/plain": [
       "    ID   Name  Income           City\n",
       "0  101  James   50000        Chicago\n",
       "1  201    Tom   35000       New York\n",
       "2  301  Starc   20000         Dallas\n",
       "3  401   Phil  100000    Los Angeles\n",
       "4  501   Rick   42000  San Francisco"
      ]
     },
     "execution_count": 512,
     "metadata": {},
     "output_type": "execute_result"
    }
   ],
   "source": [
    "df"
   ]
  },
  {
   "cell_type": "markdown",
   "metadata": {},
   "source": [
    "The above dataframe can also be created in following manner"
   ]
  },
  {
   "cell_type": "code",
   "execution_count": 513,
   "metadata": {},
   "outputs": [],
   "source": [
    "data = [[101, 'James', 50000, 'Chicago'], [201, 'Tom', 35000, 'New York'], [301, 'Starc', 20000, 'Dallas'], \n",
    "                  [401, 'Phil', 100000, 'Los Angeles'], [501, 'Rick', 42000, 'San Francisco']]"
   ]
  },
  {
   "cell_type": "code",
   "execution_count": 514,
   "metadata": {},
   "outputs": [],
   "source": [
    "columns = ['ID', 'Name', 'Income', 'City']"
   ]
  },
  {
   "cell_type": "code",
   "execution_count": 515,
   "metadata": {},
   "outputs": [],
   "source": [
    "df = pd.DataFrame(data, columns = columns)"
   ]
  },
  {
   "cell_type": "code",
   "execution_count": 516,
   "metadata": {},
   "outputs": [
    {
     "data": {
      "text/html": [
       "<div>\n",
       "<style scoped>\n",
       "    .dataframe tbody tr th:only-of-type {\n",
       "        vertical-align: middle;\n",
       "    }\n",
       "\n",
       "    .dataframe tbody tr th {\n",
       "        vertical-align: top;\n",
       "    }\n",
       "\n",
       "    .dataframe thead th {\n",
       "        text-align: right;\n",
       "    }\n",
       "</style>\n",
       "<table border=\"1\" class=\"dataframe\">\n",
       "  <thead>\n",
       "    <tr style=\"text-align: right;\">\n",
       "      <th></th>\n",
       "      <th>ID</th>\n",
       "      <th>Name</th>\n",
       "      <th>Income</th>\n",
       "      <th>City</th>\n",
       "    </tr>\n",
       "  </thead>\n",
       "  <tbody>\n",
       "    <tr>\n",
       "      <th>0</th>\n",
       "      <td>101</td>\n",
       "      <td>James</td>\n",
       "      <td>50000</td>\n",
       "      <td>Chicago</td>\n",
       "    </tr>\n",
       "    <tr>\n",
       "      <th>1</th>\n",
       "      <td>201</td>\n",
       "      <td>Tom</td>\n",
       "      <td>35000</td>\n",
       "      <td>New York</td>\n",
       "    </tr>\n",
       "    <tr>\n",
       "      <th>2</th>\n",
       "      <td>301</td>\n",
       "      <td>Starc</td>\n",
       "      <td>20000</td>\n",
       "      <td>Dallas</td>\n",
       "    </tr>\n",
       "    <tr>\n",
       "      <th>3</th>\n",
       "      <td>401</td>\n",
       "      <td>Phil</td>\n",
       "      <td>100000</td>\n",
       "      <td>Los Angeles</td>\n",
       "    </tr>\n",
       "    <tr>\n",
       "      <th>4</th>\n",
       "      <td>501</td>\n",
       "      <td>Rick</td>\n",
       "      <td>42000</td>\n",
       "      <td>San Francisco</td>\n",
       "    </tr>\n",
       "  </tbody>\n",
       "</table>\n",
       "</div>"
      ],
      "text/plain": [
       "    ID   Name  Income           City\n",
       "0  101  James   50000        Chicago\n",
       "1  201    Tom   35000       New York\n",
       "2  301  Starc   20000         Dallas\n",
       "3  401   Phil  100000    Los Angeles\n",
       "4  501   Rick   42000  San Francisco"
      ]
     },
     "execution_count": 516,
     "metadata": {},
     "output_type": "execute_result"
    }
   ],
   "source": [
    "df"
   ]
  },
  {
   "cell_type": "markdown",
   "metadata": {},
   "source": [
    "Let us select a column and check the type"
   ]
  },
  {
   "cell_type": "code",
   "execution_count": 517,
   "metadata": {},
   "outputs": [
    {
     "data": {
      "text/plain": [
       "pandas.core.series.Series"
      ]
     },
     "execution_count": 517,
     "metadata": {},
     "output_type": "execute_result"
    }
   ],
   "source": [
    "type(df['ID'])"
   ]
  },
  {
   "cell_type": "markdown",
   "metadata": {},
   "source": [
    "So we can see here that a single column is of series type, so DataFrames are nothing but series of columns joined together"
   ]
  },
  {
   "cell_type": "markdown",
   "metadata": {},
   "source": [
    "#### Column Selection"
   ]
  },
  {
   "cell_type": "markdown",
   "metadata": {},
   "source": [
    "There are two ways by which you can select a column in Pandas\n",
    "Method 1: Similar to SQL df.column_name\n",
    "          This method will enable you to pick only one column at a time. So refrain yourself from using this method\n",
    "Method 2: Using square brckets df.['column_name']\n",
    "          This is the most colmmonly method used for selecting columns. You can select single column or multiple columns using\n",
    "          this method"
   ]
  },
  {
   "cell_type": "markdown",
   "metadata": {},
   "source": [
    "Method 1: df.column_name"
   ]
  },
  {
   "cell_type": "code",
   "execution_count": 518,
   "metadata": {},
   "outputs": [
    {
     "data": {
      "text/plain": [
       "0    101\n",
       "1    201\n",
       "2    301\n",
       "3    401\n",
       "4    501\n",
       "Name: ID, dtype: int64"
      ]
     },
     "execution_count": 518,
     "metadata": {},
     "output_type": "execute_result"
    }
   ],
   "source": [
    "# Picking ID column\n",
    "df.ID"
   ]
  },
  {
   "cell_type": "markdown",
   "metadata": {},
   "source": [
    "Method 2: df['column_name']"
   ]
  },
  {
   "cell_type": "code",
   "execution_count": 519,
   "metadata": {},
   "outputs": [
    {
     "data": {
      "text/plain": [
       "0    101\n",
       "1    201\n",
       "2    301\n",
       "3    401\n",
       "4    501\n",
       "Name: ID, dtype: int64"
      ]
     },
     "execution_count": 519,
     "metadata": {},
     "output_type": "execute_result"
    }
   ],
   "source": [
    "# Picking ID columns\n",
    "df['ID']"
   ]
  },
  {
   "cell_type": "code",
   "execution_count": 520,
   "metadata": {},
   "outputs": [
    {
     "data": {
      "text/html": [
       "<div>\n",
       "<style scoped>\n",
       "    .dataframe tbody tr th:only-of-type {\n",
       "        vertical-align: middle;\n",
       "    }\n",
       "\n",
       "    .dataframe tbody tr th {\n",
       "        vertical-align: top;\n",
       "    }\n",
       "\n",
       "    .dataframe thead th {\n",
       "        text-align: right;\n",
       "    }\n",
       "</style>\n",
       "<table border=\"1\" class=\"dataframe\">\n",
       "  <thead>\n",
       "    <tr style=\"text-align: right;\">\n",
       "      <th></th>\n",
       "      <th>ID</th>\n",
       "      <th>City</th>\n",
       "    </tr>\n",
       "  </thead>\n",
       "  <tbody>\n",
       "    <tr>\n",
       "      <th>0</th>\n",
       "      <td>101</td>\n",
       "      <td>Chicago</td>\n",
       "    </tr>\n",
       "    <tr>\n",
       "      <th>1</th>\n",
       "      <td>201</td>\n",
       "      <td>New York</td>\n",
       "    </tr>\n",
       "    <tr>\n",
       "      <th>2</th>\n",
       "      <td>301</td>\n",
       "      <td>Dallas</td>\n",
       "    </tr>\n",
       "    <tr>\n",
       "      <th>3</th>\n",
       "      <td>401</td>\n",
       "      <td>Los Angeles</td>\n",
       "    </tr>\n",
       "    <tr>\n",
       "      <th>4</th>\n",
       "      <td>501</td>\n",
       "      <td>San Francisco</td>\n",
       "    </tr>\n",
       "  </tbody>\n",
       "</table>\n",
       "</div>"
      ],
      "text/plain": [
       "    ID           City\n",
       "0  101        Chicago\n",
       "1  201       New York\n",
       "2  301         Dallas\n",
       "3  401    Los Angeles\n",
       "4  501  San Francisco"
      ]
     },
     "execution_count": 520,
     "metadata": {},
     "output_type": "execute_result"
    }
   ],
   "source": [
    "# Picking multiple columns\n",
    "df[['ID', 'City']]"
   ]
  },
  {
   "cell_type": "markdown",
   "metadata": {},
   "source": [
    "Make sure that you use double square brackets will selecting more than one column, else it will throw an error"
   ]
  },
  {
   "cell_type": "markdown",
   "metadata": {},
   "source": [
    "#### Adding a new column to your DataFrame"
   ]
  },
  {
   "cell_type": "markdown",
   "metadata": {},
   "source": [
    "Normally column is added by applying conditions on existing columns. For example while preparing dataset for building a model you may want to create a new column by applying some formula on existing column. For example calculating annual income from monthly income. Let us try doing this here"
   ]
  },
  {
   "cell_type": "code",
   "execution_count": 521,
   "metadata": {},
   "outputs": [],
   "source": [
    "# Getting annual income by multiplying monthly income by 12\n",
    "df['Annual_Income'] = df['Income'] * 12"
   ]
  },
  {
   "cell_type": "code",
   "execution_count": 522,
   "metadata": {},
   "outputs": [
    {
     "data": {
      "text/html": [
       "<div>\n",
       "<style scoped>\n",
       "    .dataframe tbody tr th:only-of-type {\n",
       "        vertical-align: middle;\n",
       "    }\n",
       "\n",
       "    .dataframe tbody tr th {\n",
       "        vertical-align: top;\n",
       "    }\n",
       "\n",
       "    .dataframe thead th {\n",
       "        text-align: right;\n",
       "    }\n",
       "</style>\n",
       "<table border=\"1\" class=\"dataframe\">\n",
       "  <thead>\n",
       "    <tr style=\"text-align: right;\">\n",
       "      <th></th>\n",
       "      <th>ID</th>\n",
       "      <th>Name</th>\n",
       "      <th>Income</th>\n",
       "      <th>City</th>\n",
       "      <th>Annual_Income</th>\n",
       "    </tr>\n",
       "  </thead>\n",
       "  <tbody>\n",
       "    <tr>\n",
       "      <th>0</th>\n",
       "      <td>101</td>\n",
       "      <td>James</td>\n",
       "      <td>50000</td>\n",
       "      <td>Chicago</td>\n",
       "      <td>600000</td>\n",
       "    </tr>\n",
       "    <tr>\n",
       "      <th>1</th>\n",
       "      <td>201</td>\n",
       "      <td>Tom</td>\n",
       "      <td>35000</td>\n",
       "      <td>New York</td>\n",
       "      <td>420000</td>\n",
       "    </tr>\n",
       "    <tr>\n",
       "      <th>2</th>\n",
       "      <td>301</td>\n",
       "      <td>Starc</td>\n",
       "      <td>20000</td>\n",
       "      <td>Dallas</td>\n",
       "      <td>240000</td>\n",
       "    </tr>\n",
       "    <tr>\n",
       "      <th>3</th>\n",
       "      <td>401</td>\n",
       "      <td>Phil</td>\n",
       "      <td>100000</td>\n",
       "      <td>Los Angeles</td>\n",
       "      <td>1200000</td>\n",
       "    </tr>\n",
       "    <tr>\n",
       "      <th>4</th>\n",
       "      <td>501</td>\n",
       "      <td>Rick</td>\n",
       "      <td>42000</td>\n",
       "      <td>San Francisco</td>\n",
       "      <td>504000</td>\n",
       "    </tr>\n",
       "  </tbody>\n",
       "</table>\n",
       "</div>"
      ],
      "text/plain": [
       "    ID   Name  Income           City  Annual_Income\n",
       "0  101  James   50000        Chicago         600000\n",
       "1  201    Tom   35000       New York         420000\n",
       "2  301  Starc   20000         Dallas         240000\n",
       "3  401   Phil  100000    Los Angeles        1200000\n",
       "4  501   Rick   42000  San Francisco         504000"
      ]
     },
     "execution_count": 522,
     "metadata": {},
     "output_type": "execute_result"
    }
   ],
   "source": [
    "df"
   ]
  },
  {
   "cell_type": "markdown",
   "metadata": {},
   "source": [
    "Let us create one more column from Income"
   ]
  },
  {
   "cell_type": "markdown",
   "metadata": {},
   "source": [
    "We will use here np.where function. This is exactly same as if() function in excel. Similar to if() function you can have nested\n",
    "np.where() function in numpy"
   ]
  },
  {
   "cell_type": "code",
   "execution_count": 527,
   "metadata": {},
   "outputs": [],
   "source": [
    "df['Income_Bin'] = np.where(df['Income'] <= 35000, 'a.<=35k',\n",
    "                           (np.where(df['Income'] <= 50000, 'b.>35k-<=50k', 'c.>50k')))"
   ]
  },
  {
   "cell_type": "code",
   "execution_count": 528,
   "metadata": {},
   "outputs": [
    {
     "data": {
      "text/html": [
       "<div>\n",
       "<style scoped>\n",
       "    .dataframe tbody tr th:only-of-type {\n",
       "        vertical-align: middle;\n",
       "    }\n",
       "\n",
       "    .dataframe tbody tr th {\n",
       "        vertical-align: top;\n",
       "    }\n",
       "\n",
       "    .dataframe thead th {\n",
       "        text-align: right;\n",
       "    }\n",
       "</style>\n",
       "<table border=\"1\" class=\"dataframe\">\n",
       "  <thead>\n",
       "    <tr style=\"text-align: right;\">\n",
       "      <th></th>\n",
       "      <th>ID</th>\n",
       "      <th>Name</th>\n",
       "      <th>Income</th>\n",
       "      <th>City</th>\n",
       "      <th>Annual_Income</th>\n",
       "      <th>Income_Bin</th>\n",
       "    </tr>\n",
       "  </thead>\n",
       "  <tbody>\n",
       "    <tr>\n",
       "      <th>0</th>\n",
       "      <td>101</td>\n",
       "      <td>James</td>\n",
       "      <td>50000</td>\n",
       "      <td>Chicago</td>\n",
       "      <td>600000</td>\n",
       "      <td>b.&gt;35k-&lt;=50k</td>\n",
       "    </tr>\n",
       "    <tr>\n",
       "      <th>1</th>\n",
       "      <td>201</td>\n",
       "      <td>Tom</td>\n",
       "      <td>35000</td>\n",
       "      <td>New York</td>\n",
       "      <td>420000</td>\n",
       "      <td>a.&lt;=35k</td>\n",
       "    </tr>\n",
       "    <tr>\n",
       "      <th>2</th>\n",
       "      <td>301</td>\n",
       "      <td>Starc</td>\n",
       "      <td>20000</td>\n",
       "      <td>Dallas</td>\n",
       "      <td>240000</td>\n",
       "      <td>a.&lt;=35k</td>\n",
       "    </tr>\n",
       "    <tr>\n",
       "      <th>3</th>\n",
       "      <td>401</td>\n",
       "      <td>Phil</td>\n",
       "      <td>100000</td>\n",
       "      <td>Los Angeles</td>\n",
       "      <td>1200000</td>\n",
       "      <td>c.&gt;50k</td>\n",
       "    </tr>\n",
       "    <tr>\n",
       "      <th>4</th>\n",
       "      <td>501</td>\n",
       "      <td>Rick</td>\n",
       "      <td>42000</td>\n",
       "      <td>San Francisco</td>\n",
       "      <td>504000</td>\n",
       "      <td>b.&gt;35k-&lt;=50k</td>\n",
       "    </tr>\n",
       "  </tbody>\n",
       "</table>\n",
       "</div>"
      ],
      "text/plain": [
       "    ID   Name  Income           City  Annual_Income    Income_Bin\n",
       "0  101  James   50000        Chicago         600000  b.>35k-<=50k\n",
       "1  201    Tom   35000       New York         420000       a.<=35k\n",
       "2  301  Starc   20000         Dallas         240000       a.<=35k\n",
       "3  401   Phil  100000    Los Angeles        1200000        c.>50k\n",
       "4  501   Rick   42000  San Francisco         504000  b.>35k-<=50k"
      ]
     },
     "execution_count": 528,
     "metadata": {},
     "output_type": "execute_result"
    }
   ],
   "source": [
    "df"
   ]
  },
  {
   "cell_type": "markdown",
   "metadata": {},
   "source": [
    "There are many ways by which you can create such columns; one of the methods that is most commonly used are functions"
   ]
  },
  {
   "cell_type": "markdown",
   "metadata": {},
   "source": [
    "#### Dropping a column from DataFrame"
   ]
  },
  {
   "cell_type": "markdown",
   "metadata": {},
   "source": [
    "We will use df.drop() function. It can be used for dropping column as well as the row. Let us start with dropping a column"
   ]
  },
  {
   "cell_type": "code",
   "execution_count": 529,
   "metadata": {},
   "outputs": [
    {
     "data": {
      "text/html": [
       "<div>\n",
       "<style scoped>\n",
       "    .dataframe tbody tr th:only-of-type {\n",
       "        vertical-align: middle;\n",
       "    }\n",
       "\n",
       "    .dataframe tbody tr th {\n",
       "        vertical-align: top;\n",
       "    }\n",
       "\n",
       "    .dataframe thead th {\n",
       "        text-align: right;\n",
       "    }\n",
       "</style>\n",
       "<table border=\"1\" class=\"dataframe\">\n",
       "  <thead>\n",
       "    <tr style=\"text-align: right;\">\n",
       "      <th></th>\n",
       "      <th>ID</th>\n",
       "      <th>Name</th>\n",
       "      <th>Income</th>\n",
       "      <th>City</th>\n",
       "      <th>Annual_Income</th>\n",
       "    </tr>\n",
       "  </thead>\n",
       "  <tbody>\n",
       "    <tr>\n",
       "      <th>0</th>\n",
       "      <td>101</td>\n",
       "      <td>James</td>\n",
       "      <td>50000</td>\n",
       "      <td>Chicago</td>\n",
       "      <td>600000</td>\n",
       "    </tr>\n",
       "    <tr>\n",
       "      <th>1</th>\n",
       "      <td>201</td>\n",
       "      <td>Tom</td>\n",
       "      <td>35000</td>\n",
       "      <td>New York</td>\n",
       "      <td>420000</td>\n",
       "    </tr>\n",
       "    <tr>\n",
       "      <th>2</th>\n",
       "      <td>301</td>\n",
       "      <td>Starc</td>\n",
       "      <td>20000</td>\n",
       "      <td>Dallas</td>\n",
       "      <td>240000</td>\n",
       "    </tr>\n",
       "    <tr>\n",
       "      <th>3</th>\n",
       "      <td>401</td>\n",
       "      <td>Phil</td>\n",
       "      <td>100000</td>\n",
       "      <td>Los Angeles</td>\n",
       "      <td>1200000</td>\n",
       "    </tr>\n",
       "    <tr>\n",
       "      <th>4</th>\n",
       "      <td>501</td>\n",
       "      <td>Rick</td>\n",
       "      <td>42000</td>\n",
       "      <td>San Francisco</td>\n",
       "      <td>504000</td>\n",
       "    </tr>\n",
       "  </tbody>\n",
       "</table>\n",
       "</div>"
      ],
      "text/plain": [
       "    ID   Name  Income           City  Annual_Income\n",
       "0  101  James   50000        Chicago         600000\n",
       "1  201    Tom   35000       New York         420000\n",
       "2  301  Starc   20000         Dallas         240000\n",
       "3  401   Phil  100000    Los Angeles        1200000\n",
       "4  501   Rick   42000  San Francisco         504000"
      ]
     },
     "execution_count": 529,
     "metadata": {},
     "output_type": "execute_result"
    }
   ],
   "source": [
    "# Dropping column Income_Bin\n",
    "df.drop(['Income_Bin'], axis = 1)"
   ]
  },
  {
   "cell_type": "markdown",
   "metadata": {},
   "source": [
    "Here axis = 1 means we are dropping a column. If you dont specify axis it will by default ir will drop row.\n",
    "So if you are not specifying axis = 1 and trying to drop a column, it will try to find a row with that row-index label. If not\n",
    "found it will throw an error"
   ]
  },
  {
   "cell_type": "markdown",
   "metadata": {},
   "source": [
    "One More important point to note here is with above command it will not make changes in the original DataFrame; though the \n",
    "result displayed here does not contain Income_Bin. Let us try and see if Income_Bin has been dropped from original DataFrame or\n",
    "not"
   ]
  },
  {
   "cell_type": "code",
   "execution_count": 530,
   "metadata": {},
   "outputs": [
    {
     "data": {
      "text/html": [
       "<div>\n",
       "<style scoped>\n",
       "    .dataframe tbody tr th:only-of-type {\n",
       "        vertical-align: middle;\n",
       "    }\n",
       "\n",
       "    .dataframe tbody tr th {\n",
       "        vertical-align: top;\n",
       "    }\n",
       "\n",
       "    .dataframe thead th {\n",
       "        text-align: right;\n",
       "    }\n",
       "</style>\n",
       "<table border=\"1\" class=\"dataframe\">\n",
       "  <thead>\n",
       "    <tr style=\"text-align: right;\">\n",
       "      <th></th>\n",
       "      <th>ID</th>\n",
       "      <th>Name</th>\n",
       "      <th>Income</th>\n",
       "      <th>City</th>\n",
       "      <th>Annual_Income</th>\n",
       "      <th>Income_Bin</th>\n",
       "    </tr>\n",
       "  </thead>\n",
       "  <tbody>\n",
       "    <tr>\n",
       "      <th>0</th>\n",
       "      <td>101</td>\n",
       "      <td>James</td>\n",
       "      <td>50000</td>\n",
       "      <td>Chicago</td>\n",
       "      <td>600000</td>\n",
       "      <td>b.&gt;35k-&lt;=50k</td>\n",
       "    </tr>\n",
       "    <tr>\n",
       "      <th>1</th>\n",
       "      <td>201</td>\n",
       "      <td>Tom</td>\n",
       "      <td>35000</td>\n",
       "      <td>New York</td>\n",
       "      <td>420000</td>\n",
       "      <td>a.&lt;=35k</td>\n",
       "    </tr>\n",
       "    <tr>\n",
       "      <th>2</th>\n",
       "      <td>301</td>\n",
       "      <td>Starc</td>\n",
       "      <td>20000</td>\n",
       "      <td>Dallas</td>\n",
       "      <td>240000</td>\n",
       "      <td>a.&lt;=35k</td>\n",
       "    </tr>\n",
       "    <tr>\n",
       "      <th>3</th>\n",
       "      <td>401</td>\n",
       "      <td>Phil</td>\n",
       "      <td>100000</td>\n",
       "      <td>Los Angeles</td>\n",
       "      <td>1200000</td>\n",
       "      <td>c.&gt;50k</td>\n",
       "    </tr>\n",
       "    <tr>\n",
       "      <th>4</th>\n",
       "      <td>501</td>\n",
       "      <td>Rick</td>\n",
       "      <td>42000</td>\n",
       "      <td>San Francisco</td>\n",
       "      <td>504000</td>\n",
       "      <td>b.&gt;35k-&lt;=50k</td>\n",
       "    </tr>\n",
       "  </tbody>\n",
       "</table>\n",
       "</div>"
      ],
      "text/plain": [
       "    ID   Name  Income           City  Annual_Income    Income_Bin\n",
       "0  101  James   50000        Chicago         600000  b.>35k-<=50k\n",
       "1  201    Tom   35000       New York         420000       a.<=35k\n",
       "2  301  Starc   20000         Dallas         240000       a.<=35k\n",
       "3  401   Phil  100000    Los Angeles        1200000        c.>50k\n",
       "4  501   Rick   42000  San Francisco         504000  b.>35k-<=50k"
      ]
     },
     "execution_count": 530,
     "metadata": {},
     "output_type": "execute_result"
    }
   ],
   "source": [
    "df"
   ]
  },
  {
   "cell_type": "markdown",
   "metadata": {},
   "source": [
    "So you can see here that original DataFrame has Income_Bin column. So in order to drop this column from original DataFrame, use\n",
    "\"inplace = True\" as an argument in the drop function. By default it is False"
   ]
  },
  {
   "cell_type": "code",
   "execution_count": 531,
   "metadata": {},
   "outputs": [],
   "source": [
    "df.drop(['Income_Bin'], axis = 1, inplace = True)"
   ]
  },
  {
   "cell_type": "code",
   "execution_count": 532,
   "metadata": {},
   "outputs": [
    {
     "data": {
      "text/html": [
       "<div>\n",
       "<style scoped>\n",
       "    .dataframe tbody tr th:only-of-type {\n",
       "        vertical-align: middle;\n",
       "    }\n",
       "\n",
       "    .dataframe tbody tr th {\n",
       "        vertical-align: top;\n",
       "    }\n",
       "\n",
       "    .dataframe thead th {\n",
       "        text-align: right;\n",
       "    }\n",
       "</style>\n",
       "<table border=\"1\" class=\"dataframe\">\n",
       "  <thead>\n",
       "    <tr style=\"text-align: right;\">\n",
       "      <th></th>\n",
       "      <th>ID</th>\n",
       "      <th>Name</th>\n",
       "      <th>Income</th>\n",
       "      <th>City</th>\n",
       "      <th>Annual_Income</th>\n",
       "    </tr>\n",
       "  </thead>\n",
       "  <tbody>\n",
       "    <tr>\n",
       "      <th>0</th>\n",
       "      <td>101</td>\n",
       "      <td>James</td>\n",
       "      <td>50000</td>\n",
       "      <td>Chicago</td>\n",
       "      <td>600000</td>\n",
       "    </tr>\n",
       "    <tr>\n",
       "      <th>1</th>\n",
       "      <td>201</td>\n",
       "      <td>Tom</td>\n",
       "      <td>35000</td>\n",
       "      <td>New York</td>\n",
       "      <td>420000</td>\n",
       "    </tr>\n",
       "    <tr>\n",
       "      <th>2</th>\n",
       "      <td>301</td>\n",
       "      <td>Starc</td>\n",
       "      <td>20000</td>\n",
       "      <td>Dallas</td>\n",
       "      <td>240000</td>\n",
       "    </tr>\n",
       "    <tr>\n",
       "      <th>3</th>\n",
       "      <td>401</td>\n",
       "      <td>Phil</td>\n",
       "      <td>100000</td>\n",
       "      <td>Los Angeles</td>\n",
       "      <td>1200000</td>\n",
       "    </tr>\n",
       "    <tr>\n",
       "      <th>4</th>\n",
       "      <td>501</td>\n",
       "      <td>Rick</td>\n",
       "      <td>42000</td>\n",
       "      <td>San Francisco</td>\n",
       "      <td>504000</td>\n",
       "    </tr>\n",
       "  </tbody>\n",
       "</table>\n",
       "</div>"
      ],
      "text/plain": [
       "    ID   Name  Income           City  Annual_Income\n",
       "0  101  James   50000        Chicago         600000\n",
       "1  201    Tom   35000       New York         420000\n",
       "2  301  Starc   20000         Dallas         240000\n",
       "3  401   Phil  100000    Los Angeles        1200000\n",
       "4  501   Rick   42000  San Francisco         504000"
      ]
     },
     "execution_count": 532,
     "metadata": {},
     "output_type": "execute_result"
    }
   ],
   "source": [
    "df"
   ]
  },
  {
   "cell_type": "markdown",
   "metadata": {},
   "source": [
    "Dropping mulitple columns from the dataframe"
   ]
  },
  {
   "cell_type": "code",
   "execution_count": 533,
   "metadata": {},
   "outputs": [],
   "source": [
    "df.drop(['Income', 'City'], axis = 1, inplace = True)"
   ]
  },
  {
   "cell_type": "code",
   "execution_count": 534,
   "metadata": {},
   "outputs": [
    {
     "data": {
      "text/html": [
       "<div>\n",
       "<style scoped>\n",
       "    .dataframe tbody tr th:only-of-type {\n",
       "        vertical-align: middle;\n",
       "    }\n",
       "\n",
       "    .dataframe tbody tr th {\n",
       "        vertical-align: top;\n",
       "    }\n",
       "\n",
       "    .dataframe thead th {\n",
       "        text-align: right;\n",
       "    }\n",
       "</style>\n",
       "<table border=\"1\" class=\"dataframe\">\n",
       "  <thead>\n",
       "    <tr style=\"text-align: right;\">\n",
       "      <th></th>\n",
       "      <th>ID</th>\n",
       "      <th>Name</th>\n",
       "      <th>Annual_Income</th>\n",
       "    </tr>\n",
       "  </thead>\n",
       "  <tbody>\n",
       "    <tr>\n",
       "      <th>0</th>\n",
       "      <td>101</td>\n",
       "      <td>James</td>\n",
       "      <td>600000</td>\n",
       "    </tr>\n",
       "    <tr>\n",
       "      <th>1</th>\n",
       "      <td>201</td>\n",
       "      <td>Tom</td>\n",
       "      <td>420000</td>\n",
       "    </tr>\n",
       "    <tr>\n",
       "      <th>2</th>\n",
       "      <td>301</td>\n",
       "      <td>Starc</td>\n",
       "      <td>240000</td>\n",
       "    </tr>\n",
       "    <tr>\n",
       "      <th>3</th>\n",
       "      <td>401</td>\n",
       "      <td>Phil</td>\n",
       "      <td>1200000</td>\n",
       "    </tr>\n",
       "    <tr>\n",
       "      <th>4</th>\n",
       "      <td>501</td>\n",
       "      <td>Rick</td>\n",
       "      <td>504000</td>\n",
       "    </tr>\n",
       "  </tbody>\n",
       "</table>\n",
       "</div>"
      ],
      "text/plain": [
       "    ID   Name  Annual_Income\n",
       "0  101  James         600000\n",
       "1  201    Tom         420000\n",
       "2  301  Starc         240000\n",
       "3  401   Phil        1200000\n",
       "4  501   Rick         504000"
      ]
     },
     "execution_count": 534,
     "metadata": {},
     "output_type": "execute_result"
    }
   ],
   "source": [
    "df"
   ]
  },
  {
   "cell_type": "markdown",
   "metadata": {},
   "source": [
    "#### Row Selection"
   ]
  },
  {
   "cell_type": "markdown",
   "metadata": {},
   "source": [
    "Rows can be selected based on following three methods:\n",
    "    1) Based in index position or label\n",
    "    2) By applying condition on single column or multiple columns\n",
    "    3) Selecting randomly\n",
    "Here we will discuss first two methods, third will be taken care in Machine Learning notes"
   ]
  },
  {
   "cell_type": "markdown",
   "metadata": {},
   "source": [
    "Method 1 - Based on index position or label\n",
    "Here we will see two functions - loc[] and iloc[]\n",
    "Pandas also has ix[] function, but we wont be getting into its details as it has deprecated"
   ]
  },
  {
   "cell_type": "markdown",
   "metadata": {},
   "source": [
    "##### First Function .loc[]\n",
    "gets rows (or columns) with particular labels from the index."
   ]
  },
  {
   "cell_type": "markdown",
   "metadata": {},
   "source": [
    "We already have one DataFrame df having default index 0,1,2,3... Let us create one more DataFrame with custom row index labels"
   ]
  },
  {
   "cell_type": "code",
   "execution_count": 66,
   "metadata": {},
   "outputs": [
    {
     "data": {
      "text/html": [
       "<div>\n",
       "<style scoped>\n",
       "    .dataframe tbody tr th:only-of-type {\n",
       "        vertical-align: middle;\n",
       "    }\n",
       "\n",
       "    .dataframe tbody tr th {\n",
       "        vertical-align: top;\n",
       "    }\n",
       "\n",
       "    .dataframe thead th {\n",
       "        text-align: right;\n",
       "    }\n",
       "</style>\n",
       "<table border=\"1\" class=\"dataframe\">\n",
       "  <thead>\n",
       "    <tr style=\"text-align: right;\">\n",
       "      <th></th>\n",
       "      <th>ID</th>\n",
       "      <th>Name</th>\n",
       "      <th>Income</th>\n",
       "      <th>City</th>\n",
       "    </tr>\n",
       "  </thead>\n",
       "  <tbody>\n",
       "    <tr>\n",
       "      <th>0</th>\n",
       "      <td>101</td>\n",
       "      <td>James</td>\n",
       "      <td>50000</td>\n",
       "      <td>Chicago</td>\n",
       "    </tr>\n",
       "    <tr>\n",
       "      <th>1</th>\n",
       "      <td>201</td>\n",
       "      <td>Tom</td>\n",
       "      <td>35000</td>\n",
       "      <td>New York</td>\n",
       "    </tr>\n",
       "    <tr>\n",
       "      <th>2</th>\n",
       "      <td>301</td>\n",
       "      <td>Starc</td>\n",
       "      <td>20000</td>\n",
       "      <td>Dallas</td>\n",
       "    </tr>\n",
       "    <tr>\n",
       "      <th>3</th>\n",
       "      <td>401</td>\n",
       "      <td>Phil</td>\n",
       "      <td>100000</td>\n",
       "      <td>Los Angeles</td>\n",
       "    </tr>\n",
       "    <tr>\n",
       "      <th>4</th>\n",
       "      <td>501</td>\n",
       "      <td>Rick</td>\n",
       "      <td>42000</td>\n",
       "      <td>San Francisco</td>\n",
       "    </tr>\n",
       "  </tbody>\n",
       "</table>\n",
       "</div>"
      ],
      "text/plain": [
       "    ID   Name  Income           City\n",
       "0  101  James   50000        Chicago\n",
       "1  201    Tom   35000       New York\n",
       "2  301  Starc   20000         Dallas\n",
       "3  401   Phil  100000    Los Angeles\n",
       "4  501   Rick   42000  San Francisco"
      ]
     },
     "execution_count": 66,
     "metadata": {},
     "output_type": "execute_result"
    }
   ],
   "source": [
    "df"
   ]
  },
  {
   "cell_type": "code",
   "execution_count": 538,
   "metadata": {},
   "outputs": [],
   "source": [
    "data = [[101, 'James', 50000, 'Chicago'], [201, 'Tom', 35000, 'New York'], [301, 'Starc', 20000, 'Dallas'], \n",
    "                  [401, 'Phil', 100000, 'Los Angeles'], [501, 'Rick', 42000, 'San Francisco']]"
   ]
  },
  {
   "cell_type": "code",
   "execution_count": 539,
   "metadata": {},
   "outputs": [],
   "source": [
    "columns = ['ID', 'Name', 'Income', 'City']"
   ]
  },
  {
   "cell_type": "code",
   "execution_count": 540,
   "metadata": {},
   "outputs": [],
   "source": [
    "df1 = pd.DataFrame(data, columns = columns, index = ('X', 'T', 'R', 'F', 'K'))"
   ]
  },
  {
   "cell_type": "code",
   "execution_count": 541,
   "metadata": {},
   "outputs": [
    {
     "data": {
      "text/html": [
       "<div>\n",
       "<style scoped>\n",
       "    .dataframe tbody tr th:only-of-type {\n",
       "        vertical-align: middle;\n",
       "    }\n",
       "\n",
       "    .dataframe tbody tr th {\n",
       "        vertical-align: top;\n",
       "    }\n",
       "\n",
       "    .dataframe thead th {\n",
       "        text-align: right;\n",
       "    }\n",
       "</style>\n",
       "<table border=\"1\" class=\"dataframe\">\n",
       "  <thead>\n",
       "    <tr style=\"text-align: right;\">\n",
       "      <th></th>\n",
       "      <th>ID</th>\n",
       "      <th>Name</th>\n",
       "      <th>Income</th>\n",
       "      <th>City</th>\n",
       "    </tr>\n",
       "  </thead>\n",
       "  <tbody>\n",
       "    <tr>\n",
       "      <th>X</th>\n",
       "      <td>101</td>\n",
       "      <td>James</td>\n",
       "      <td>50000</td>\n",
       "      <td>Chicago</td>\n",
       "    </tr>\n",
       "    <tr>\n",
       "      <th>T</th>\n",
       "      <td>201</td>\n",
       "      <td>Tom</td>\n",
       "      <td>35000</td>\n",
       "      <td>New York</td>\n",
       "    </tr>\n",
       "    <tr>\n",
       "      <th>R</th>\n",
       "      <td>301</td>\n",
       "      <td>Starc</td>\n",
       "      <td>20000</td>\n",
       "      <td>Dallas</td>\n",
       "    </tr>\n",
       "    <tr>\n",
       "      <th>F</th>\n",
       "      <td>401</td>\n",
       "      <td>Phil</td>\n",
       "      <td>100000</td>\n",
       "      <td>Los Angeles</td>\n",
       "    </tr>\n",
       "    <tr>\n",
       "      <th>K</th>\n",
       "      <td>501</td>\n",
       "      <td>Rick</td>\n",
       "      <td>42000</td>\n",
       "      <td>San Francisco</td>\n",
       "    </tr>\n",
       "  </tbody>\n",
       "</table>\n",
       "</div>"
      ],
      "text/plain": [
       "    ID   Name  Income           City\n",
       "X  101  James   50000        Chicago\n",
       "T  201    Tom   35000       New York\n",
       "R  301  Starc   20000         Dallas\n",
       "F  401   Phil  100000    Los Angeles\n",
       "K  501   Rick   42000  San Francisco"
      ]
     },
     "execution_count": 541,
     "metadata": {},
     "output_type": "execute_result"
    }
   ],
   "source": [
    "df1"
   ]
  },
  {
   "cell_type": "markdown",
   "metadata": {},
   "source": [
    "So now we have two DataFrames, one with default row lables and other with user defined row labels. Let us use loc function and \n",
    "understand how it works in row selection"
   ]
  },
  {
   "cell_type": "markdown",
   "metadata": {},
   "source": [
    "##### Part a - Selecting rows based on rows label"
   ]
  },
  {
   "cell_type": "code",
   "execution_count": 542,
   "metadata": {},
   "outputs": [
    {
     "data": {
      "text/plain": [
       "ID                  201\n",
       "Name                Tom\n",
       "Annual_Income    420000\n",
       "Name: 1, dtype: object"
      ]
     },
     "execution_count": 542,
     "metadata": {},
     "output_type": "execute_result"
    }
   ],
   "source": [
    "# Getting a row based on the row label\n",
    "df.loc[1]"
   ]
  },
  {
   "cell_type": "code",
   "execution_count": 543,
   "metadata": {},
   "outputs": [
    {
     "data": {
      "text/plain": [
       "ID           301\n",
       "Name       Starc\n",
       "Income     20000\n",
       "City      Dallas\n",
       "Name: R, dtype: object"
      ]
     },
     "execution_count": 543,
     "metadata": {},
     "output_type": "execute_result"
    }
   ],
   "source": [
    "# Getting a row based on the row label\n",
    "df1.loc['R']"
   ]
  },
  {
   "cell_type": "code",
   "execution_count": 544,
   "metadata": {},
   "outputs": [
    {
     "data": {
      "text/html": [
       "<div>\n",
       "<style scoped>\n",
       "    .dataframe tbody tr th:only-of-type {\n",
       "        vertical-align: middle;\n",
       "    }\n",
       "\n",
       "    .dataframe tbody tr th {\n",
       "        vertical-align: top;\n",
       "    }\n",
       "\n",
       "    .dataframe thead th {\n",
       "        text-align: right;\n",
       "    }\n",
       "</style>\n",
       "<table border=\"1\" class=\"dataframe\">\n",
       "  <thead>\n",
       "    <tr style=\"text-align: right;\">\n",
       "      <th></th>\n",
       "      <th>ID</th>\n",
       "      <th>Name</th>\n",
       "      <th>Annual_Income</th>\n",
       "    </tr>\n",
       "  </thead>\n",
       "  <tbody>\n",
       "    <tr>\n",
       "      <th>1</th>\n",
       "      <td>201</td>\n",
       "      <td>Tom</td>\n",
       "      <td>420000</td>\n",
       "    </tr>\n",
       "    <tr>\n",
       "      <th>2</th>\n",
       "      <td>301</td>\n",
       "      <td>Starc</td>\n",
       "      <td>240000</td>\n",
       "    </tr>\n",
       "    <tr>\n",
       "      <th>3</th>\n",
       "      <td>401</td>\n",
       "      <td>Phil</td>\n",
       "      <td>1200000</td>\n",
       "    </tr>\n",
       "  </tbody>\n",
       "</table>\n",
       "</div>"
      ],
      "text/plain": [
       "    ID   Name  Annual_Income\n",
       "1  201    Tom         420000\n",
       "2  301  Starc         240000\n",
       "3  401   Phil        1200000"
      ]
     },
     "execution_count": 544,
     "metadata": {},
     "output_type": "execute_result"
    }
   ],
   "source": [
    "# Getting rows upto a lable\n",
    "df.loc[1:3] # Here it will select rows with label 1,2 and 3"
   ]
  },
  {
   "cell_type": "code",
   "execution_count": 545,
   "metadata": {},
   "outputs": [
    {
     "data": {
      "text/html": [
       "<div>\n",
       "<style scoped>\n",
       "    .dataframe tbody tr th:only-of-type {\n",
       "        vertical-align: middle;\n",
       "    }\n",
       "\n",
       "    .dataframe tbody tr th {\n",
       "        vertical-align: top;\n",
       "    }\n",
       "\n",
       "    .dataframe thead th {\n",
       "        text-align: right;\n",
       "    }\n",
       "</style>\n",
       "<table border=\"1\" class=\"dataframe\">\n",
       "  <thead>\n",
       "    <tr style=\"text-align: right;\">\n",
       "      <th></th>\n",
       "      <th>ID</th>\n",
       "      <th>Name</th>\n",
       "      <th>Income</th>\n",
       "      <th>City</th>\n",
       "    </tr>\n",
       "  </thead>\n",
       "  <tbody>\n",
       "    <tr>\n",
       "      <th>T</th>\n",
       "      <td>201</td>\n",
       "      <td>Tom</td>\n",
       "      <td>35000</td>\n",
       "      <td>New York</td>\n",
       "    </tr>\n",
       "    <tr>\n",
       "      <th>R</th>\n",
       "      <td>301</td>\n",
       "      <td>Starc</td>\n",
       "      <td>20000</td>\n",
       "      <td>Dallas</td>\n",
       "    </tr>\n",
       "    <tr>\n",
       "      <th>F</th>\n",
       "      <td>401</td>\n",
       "      <td>Phil</td>\n",
       "      <td>100000</td>\n",
       "      <td>Los Angeles</td>\n",
       "    </tr>\n",
       "  </tbody>\n",
       "</table>\n",
       "</div>"
      ],
      "text/plain": [
       "    ID   Name  Income         City\n",
       "T  201    Tom   35000     New York\n",
       "R  301  Starc   20000       Dallas\n",
       "F  401   Phil  100000  Los Angeles"
      ]
     },
     "execution_count": 545,
     "metadata": {},
     "output_type": "execute_result"
    }
   ],
   "source": [
    "# Getting rows upto a lable\n",
    "df1.loc['T': 'F'] # Here it will select rows with label T,R and F"
   ]
  },
  {
   "cell_type": "markdown",
   "metadata": {},
   "source": [
    "###### Part b - Selecting rows and columns together by rows and columns label"
   ]
  },
  {
   "cell_type": "markdown",
   "metadata": {},
   "source": [
    ".loc[] function can also be used to select rows and columns together, it is a sort of subset of data. Consider the below \n",
    "example"
   ]
  },
  {
   "cell_type": "code",
   "execution_count": 546,
   "metadata": {},
   "outputs": [
    {
     "data": {
      "text/html": [
       "<div>\n",
       "<style scoped>\n",
       "    .dataframe tbody tr th:only-of-type {\n",
       "        vertical-align: middle;\n",
       "    }\n",
       "\n",
       "    .dataframe tbody tr th {\n",
       "        vertical-align: top;\n",
       "    }\n",
       "\n",
       "    .dataframe thead th {\n",
       "        text-align: right;\n",
       "    }\n",
       "</style>\n",
       "<table border=\"1\" class=\"dataframe\">\n",
       "  <thead>\n",
       "    <tr style=\"text-align: right;\">\n",
       "      <th></th>\n",
       "      <th>ID</th>\n",
       "      <th>Name</th>\n",
       "      <th>Income</th>\n",
       "    </tr>\n",
       "  </thead>\n",
       "  <tbody>\n",
       "    <tr>\n",
       "      <th>T</th>\n",
       "      <td>201</td>\n",
       "      <td>Tom</td>\n",
       "      <td>35000</td>\n",
       "    </tr>\n",
       "    <tr>\n",
       "      <th>R</th>\n",
       "      <td>301</td>\n",
       "      <td>Starc</td>\n",
       "      <td>20000</td>\n",
       "    </tr>\n",
       "    <tr>\n",
       "      <th>F</th>\n",
       "      <td>401</td>\n",
       "      <td>Phil</td>\n",
       "      <td>100000</td>\n",
       "    </tr>\n",
       "  </tbody>\n",
       "</table>\n",
       "</div>"
      ],
      "text/plain": [
       "    ID   Name  Income\n",
       "T  201    Tom   35000\n",
       "R  301  Starc   20000\n",
       "F  401   Phil  100000"
      ]
     },
     "execution_count": 546,
     "metadata": {},
     "output_type": "execute_result"
    }
   ],
   "source": [
    "# Selection 3 rows and 3 columns\n",
    "df1.loc[['T', 'R', 'F'], ['ID', 'Name', 'Income']]"
   ]
  },
  {
   "cell_type": "code",
   "execution_count": 547,
   "metadata": {},
   "outputs": [
    {
     "data": {
      "text/html": [
       "<div>\n",
       "<style scoped>\n",
       "    .dataframe tbody tr th:only-of-type {\n",
       "        vertical-align: middle;\n",
       "    }\n",
       "\n",
       "    .dataframe tbody tr th {\n",
       "        vertical-align: top;\n",
       "    }\n",
       "\n",
       "    .dataframe thead th {\n",
       "        text-align: right;\n",
       "    }\n",
       "</style>\n",
       "<table border=\"1\" class=\"dataframe\">\n",
       "  <thead>\n",
       "    <tr style=\"text-align: right;\">\n",
       "      <th></th>\n",
       "      <th>ID</th>\n",
       "      <th>Name</th>\n",
       "      <th>Income</th>\n",
       "    </tr>\n",
       "  </thead>\n",
       "  <tbody>\n",
       "    <tr>\n",
       "      <th>X</th>\n",
       "      <td>101</td>\n",
       "      <td>James</td>\n",
       "      <td>50000</td>\n",
       "    </tr>\n",
       "    <tr>\n",
       "      <th>T</th>\n",
       "      <td>201</td>\n",
       "      <td>Tom</td>\n",
       "      <td>35000</td>\n",
       "    </tr>\n",
       "    <tr>\n",
       "      <th>R</th>\n",
       "      <td>301</td>\n",
       "      <td>Starc</td>\n",
       "      <td>20000</td>\n",
       "    </tr>\n",
       "    <tr>\n",
       "      <th>F</th>\n",
       "      <td>401</td>\n",
       "      <td>Phil</td>\n",
       "      <td>100000</td>\n",
       "    </tr>\n",
       "  </tbody>\n",
       "</table>\n",
       "</div>"
      ],
      "text/plain": [
       "    ID   Name  Income\n",
       "X  101  James   50000\n",
       "T  201    Tom   35000\n",
       "R  301  Starc   20000\n",
       "F  401   Phil  100000"
      ]
     },
     "execution_count": 547,
     "metadata": {},
     "output_type": "execute_result"
    }
   ],
   "source": [
    "# One more way of selecting rows and columns\n",
    "df1.loc['X':'F', 'ID':'Income']"
   ]
  },
  {
   "cell_type": "markdown",
   "metadata": {},
   "source": [
    "###### Part c - Selection rows and columns based on condition"
   ]
  },
  {
   "cell_type": "markdown",
   "metadata": {},
   "source": [
    "This is similar to \"where\" function of SQL where you filter the data based on a condition applied on a single column or multiple columns. This fuunctionaility of .loc[] function is very useful for data preperation of predictive model development"
   ]
  },
  {
   "cell_type": "code",
   "execution_count": 548,
   "metadata": {},
   "outputs": [
    {
     "data": {
      "text/html": [
       "<div>\n",
       "<style scoped>\n",
       "    .dataframe tbody tr th:only-of-type {\n",
       "        vertical-align: middle;\n",
       "    }\n",
       "\n",
       "    .dataframe tbody tr th {\n",
       "        vertical-align: top;\n",
       "    }\n",
       "\n",
       "    .dataframe thead th {\n",
       "        text-align: right;\n",
       "    }\n",
       "</style>\n",
       "<table border=\"1\" class=\"dataframe\">\n",
       "  <thead>\n",
       "    <tr style=\"text-align: right;\">\n",
       "      <th></th>\n",
       "      <th>ID</th>\n",
       "      <th>Name</th>\n",
       "      <th>Income</th>\n",
       "      <th>City</th>\n",
       "    </tr>\n",
       "  </thead>\n",
       "  <tbody>\n",
       "    <tr>\n",
       "      <th>X</th>\n",
       "      <td>101</td>\n",
       "      <td>James</td>\n",
       "      <td>50000</td>\n",
       "      <td>Chicago</td>\n",
       "    </tr>\n",
       "  </tbody>\n",
       "</table>\n",
       "</div>"
      ],
      "text/plain": [
       "    ID   Name  Income     City\n",
       "X  101  James   50000  Chicago"
      ]
     },
     "execution_count": 548,
     "metadata": {},
     "output_type": "execute_result"
    }
   ],
   "source": [
    "# Create a subset with Name as James\n",
    "df1.loc[df1['Name'] == 'James']"
   ]
  },
  {
   "cell_type": "code",
   "execution_count": 549,
   "metadata": {},
   "outputs": [
    {
     "data": {
      "text/html": [
       "<div>\n",
       "<style scoped>\n",
       "    .dataframe tbody tr th:only-of-type {\n",
       "        vertical-align: middle;\n",
       "    }\n",
       "\n",
       "    .dataframe tbody tr th {\n",
       "        vertical-align: top;\n",
       "    }\n",
       "\n",
       "    .dataframe thead th {\n",
       "        text-align: right;\n",
       "    }\n",
       "</style>\n",
       "<table border=\"1\" class=\"dataframe\">\n",
       "  <thead>\n",
       "    <tr style=\"text-align: right;\">\n",
       "      <th></th>\n",
       "      <th>ID</th>\n",
       "      <th>Name</th>\n",
       "      <th>Income</th>\n",
       "      <th>City</th>\n",
       "    </tr>\n",
       "  </thead>\n",
       "  <tbody>\n",
       "    <tr>\n",
       "      <th>X</th>\n",
       "      <td>101</td>\n",
       "      <td>James</td>\n",
       "      <td>50000</td>\n",
       "      <td>Chicago</td>\n",
       "    </tr>\n",
       "    <tr>\n",
       "      <th>F</th>\n",
       "      <td>401</td>\n",
       "      <td>Phil</td>\n",
       "      <td>100000</td>\n",
       "      <td>Los Angeles</td>\n",
       "    </tr>\n",
       "  </tbody>\n",
       "</table>\n",
       "</div>"
      ],
      "text/plain": [
       "    ID   Name  Income         City\n",
       "X  101  James   50000      Chicago\n",
       "F  401   Phil  100000  Los Angeles"
      ]
     },
     "execution_count": 549,
     "metadata": {},
     "output_type": "execute_result"
    }
   ],
   "source": [
    "# Select records with Income >= 50000\n",
    "df1.loc[df1['Income'] >= 50000]"
   ]
  },
  {
   "cell_type": "code",
   "execution_count": 550,
   "metadata": {},
   "outputs": [
    {
     "data": {
      "text/html": [
       "<div>\n",
       "<style scoped>\n",
       "    .dataframe tbody tr th:only-of-type {\n",
       "        vertical-align: middle;\n",
       "    }\n",
       "\n",
       "    .dataframe tbody tr th {\n",
       "        vertical-align: top;\n",
       "    }\n",
       "\n",
       "    .dataframe thead th {\n",
       "        text-align: right;\n",
       "    }\n",
       "</style>\n",
       "<table border=\"1\" class=\"dataframe\">\n",
       "  <thead>\n",
       "    <tr style=\"text-align: right;\">\n",
       "      <th></th>\n",
       "      <th>ID</th>\n",
       "      <th>Name</th>\n",
       "      <th>Income</th>\n",
       "      <th>City</th>\n",
       "    </tr>\n",
       "  </thead>\n",
       "  <tbody>\n",
       "    <tr>\n",
       "      <th>F</th>\n",
       "      <td>401</td>\n",
       "      <td>Phil</td>\n",
       "      <td>100000</td>\n",
       "      <td>Los Angeles</td>\n",
       "    </tr>\n",
       "  </tbody>\n",
       "</table>\n",
       "</div>"
      ],
      "text/plain": [
       "    ID  Name  Income         City\n",
       "F  401  Phil  100000  Los Angeles"
      ]
     },
     "execution_count": 550,
     "metadata": {},
     "output_type": "execute_result"
    }
   ],
   "source": [
    "# Select records with Income >= 20000 and Name as Phil\n",
    "df1.loc[(df1['Income'] >= 20000) & (df1['Name'] == 'Phil')]"
   ]
  },
  {
   "cell_type": "markdown",
   "metadata": {},
   "source": [
    "##### Second function .iloc[]\n",
    "gets rows (or columns) at particular positions in the index (so it only takes integers)."
   ]
  },
  {
   "cell_type": "markdown",
   "metadata": {},
   "source": [
    ".iloc[] works based on the position of the rows and columns. By default when you create a DataFrame the rows and columns index\n",
    "starts from 0. Do notice here that it takes only integer as an argument, unlike .loc[] which takes labels as an argument.\n",
    "Below format will be used while applying .iloc[] function\n",
    "\n",
    "               Column\n",
    "           \n",
    "Row   0     1     2     3     4 \n",
    "        \n",
    " 0   22    34    45    34     1\n",
    "        \n",
    " 1   35    56    13    98    45\n",
    "        \n",
    " 2   90    76    21    67    31\n",
    "\n",
    "Let us see by trying few examples"
   ]
  },
  {
   "cell_type": "code",
   "execution_count": 551,
   "metadata": {},
   "outputs": [
    {
     "data": {
      "text/plain": [
       "ID                  101\n",
       "Name              James\n",
       "Annual_Income    600000\n",
       "Name: 0, dtype: object"
      ]
     },
     "execution_count": 551,
     "metadata": {},
     "output_type": "execute_result"
    }
   ],
   "source": [
    "# Applying .iloc[] on df dataFrame\n",
    "df.iloc[0]"
   ]
  },
  {
   "cell_type": "markdown",
   "metadata": {},
   "source": [
    "The above query has returned 0th row position of data in a series type. Remember that if single record is fetched then it\n",
    "will be returned as a series type"
   ]
  },
  {
   "cell_type": "code",
   "execution_count": 552,
   "metadata": {},
   "outputs": [
    {
     "data": {
      "text/html": [
       "<div>\n",
       "<style scoped>\n",
       "    .dataframe tbody tr th:only-of-type {\n",
       "        vertical-align: middle;\n",
       "    }\n",
       "\n",
       "    .dataframe tbody tr th {\n",
       "        vertical-align: top;\n",
       "    }\n",
       "\n",
       "    .dataframe thead th {\n",
       "        text-align: right;\n",
       "    }\n",
       "</style>\n",
       "<table border=\"1\" class=\"dataframe\">\n",
       "  <thead>\n",
       "    <tr style=\"text-align: right;\">\n",
       "      <th></th>\n",
       "      <th>ID</th>\n",
       "      <th>Name</th>\n",
       "      <th>Annual_Income</th>\n",
       "    </tr>\n",
       "  </thead>\n",
       "  <tbody>\n",
       "    <tr>\n",
       "      <th>0</th>\n",
       "      <td>101</td>\n",
       "      <td>James</td>\n",
       "      <td>600000</td>\n",
       "    </tr>\n",
       "    <tr>\n",
       "      <th>1</th>\n",
       "      <td>201</td>\n",
       "      <td>Tom</td>\n",
       "      <td>420000</td>\n",
       "    </tr>\n",
       "    <tr>\n",
       "      <th>2</th>\n",
       "      <td>301</td>\n",
       "      <td>Starc</td>\n",
       "      <td>240000</td>\n",
       "    </tr>\n",
       "  </tbody>\n",
       "</table>\n",
       "</div>"
      ],
      "text/plain": [
       "    ID   Name  Annual_Income\n",
       "0  101  James         600000\n",
       "1  201    Tom         420000\n",
       "2  301  Starc         240000"
      ]
     },
     "execution_count": 552,
     "metadata": {},
     "output_type": "execute_result"
    }
   ],
   "source": [
    "# Fetching multiple records from df by applying .iloc[] on df dataFrame\n",
    "df.iloc[:3]"
   ]
  },
  {
   "cell_type": "markdown",
   "metadata": {},
   "source": [
    "So if you notice here :x will alwasy return records till x-1 row indexes"
   ]
  },
  {
   "cell_type": "code",
   "execution_count": 553,
   "metadata": {},
   "outputs": [
    {
     "data": {
      "text/html": [
       "<div>\n",
       "<style scoped>\n",
       "    .dataframe tbody tr th:only-of-type {\n",
       "        vertical-align: middle;\n",
       "    }\n",
       "\n",
       "    .dataframe tbody tr th {\n",
       "        vertical-align: top;\n",
       "    }\n",
       "\n",
       "    .dataframe thead th {\n",
       "        text-align: right;\n",
       "    }\n",
       "</style>\n",
       "<table border=\"1\" class=\"dataframe\">\n",
       "  <thead>\n",
       "    <tr style=\"text-align: right;\">\n",
       "      <th></th>\n",
       "      <th>ID</th>\n",
       "      <th>Name</th>\n",
       "      <th>Annual_Income</th>\n",
       "    </tr>\n",
       "  </thead>\n",
       "  <tbody>\n",
       "    <tr>\n",
       "      <th>1</th>\n",
       "      <td>201</td>\n",
       "      <td>Tom</td>\n",
       "      <td>420000</td>\n",
       "    </tr>\n",
       "    <tr>\n",
       "      <th>2</th>\n",
       "      <td>301</td>\n",
       "      <td>Starc</td>\n",
       "      <td>240000</td>\n",
       "    </tr>\n",
       "    <tr>\n",
       "      <th>3</th>\n",
       "      <td>401</td>\n",
       "      <td>Phil</td>\n",
       "      <td>1200000</td>\n",
       "    </tr>\n",
       "  </tbody>\n",
       "</table>\n",
       "</div>"
      ],
      "text/plain": [
       "    ID   Name  Annual_Income\n",
       "1  201    Tom         420000\n",
       "2  301  Starc         240000\n",
       "3  401   Phil        1200000"
      ]
     },
     "execution_count": 553,
     "metadata": {},
     "output_type": "execute_result"
    }
   ],
   "source": [
    "# Return records with 1st index to 3rd index (row)\n",
    "df.iloc[1:4]"
   ]
  },
  {
   "cell_type": "code",
   "execution_count": 554,
   "metadata": {},
   "outputs": [
    {
     "data": {
      "text/html": [
       "<div>\n",
       "<style scoped>\n",
       "    .dataframe tbody tr th:only-of-type {\n",
       "        vertical-align: middle;\n",
       "    }\n",
       "\n",
       "    .dataframe tbody tr th {\n",
       "        vertical-align: top;\n",
       "    }\n",
       "\n",
       "    .dataframe thead th {\n",
       "        text-align: right;\n",
       "    }\n",
       "</style>\n",
       "<table border=\"1\" class=\"dataframe\">\n",
       "  <thead>\n",
       "    <tr style=\"text-align: right;\">\n",
       "      <th></th>\n",
       "      <th>Name</th>\n",
       "      <th>Annual_Income</th>\n",
       "    </tr>\n",
       "  </thead>\n",
       "  <tbody>\n",
       "    <tr>\n",
       "      <th>1</th>\n",
       "      <td>Tom</td>\n",
       "      <td>420000</td>\n",
       "    </tr>\n",
       "    <tr>\n",
       "      <th>2</th>\n",
       "      <td>Starc</td>\n",
       "      <td>240000</td>\n",
       "    </tr>\n",
       "    <tr>\n",
       "      <th>3</th>\n",
       "      <td>Phil</td>\n",
       "      <td>1200000</td>\n",
       "    </tr>\n",
       "  </tbody>\n",
       "</table>\n",
       "</div>"
      ],
      "text/plain": [
       "    Name  Annual_Income\n",
       "1    Tom         420000\n",
       "2  Starc         240000\n",
       "3   Phil        1200000"
      ]
     },
     "execution_count": 554,
     "metadata": {},
     "output_type": "execute_result"
    }
   ],
   "source": [
    "# Fetching selected rows and columns\n",
    "df.iloc[1:4, 1:3]\n",
    "# So here 1st, 2nd and 3rd index rows are picked and 1st and 2nd index columns are picked"
   ]
  },
  {
   "cell_type": "markdown",
   "metadata": {},
   "source": [
    "Let us apply this to df1 DataFrame which has user labeled row indexes"
   ]
  },
  {
   "cell_type": "code",
   "execution_count": 556,
   "metadata": {},
   "outputs": [
    {
     "data": {
      "text/html": [
       "<div>\n",
       "<style scoped>\n",
       "    .dataframe tbody tr th:only-of-type {\n",
       "        vertical-align: middle;\n",
       "    }\n",
       "\n",
       "    .dataframe tbody tr th {\n",
       "        vertical-align: top;\n",
       "    }\n",
       "\n",
       "    .dataframe thead th {\n",
       "        text-align: right;\n",
       "    }\n",
       "</style>\n",
       "<table border=\"1\" class=\"dataframe\">\n",
       "  <thead>\n",
       "    <tr style=\"text-align: right;\">\n",
       "      <th></th>\n",
       "      <th>ID</th>\n",
       "      <th>Name</th>\n",
       "      <th>Income</th>\n",
       "      <th>City</th>\n",
       "    </tr>\n",
       "  </thead>\n",
       "  <tbody>\n",
       "    <tr>\n",
       "      <th>X</th>\n",
       "      <td>101</td>\n",
       "      <td>James</td>\n",
       "      <td>50000</td>\n",
       "      <td>Chicago</td>\n",
       "    </tr>\n",
       "    <tr>\n",
       "      <th>T</th>\n",
       "      <td>201</td>\n",
       "      <td>Tom</td>\n",
       "      <td>35000</td>\n",
       "      <td>New York</td>\n",
       "    </tr>\n",
       "    <tr>\n",
       "      <th>R</th>\n",
       "      <td>301</td>\n",
       "      <td>Starc</td>\n",
       "      <td>20000</td>\n",
       "      <td>Dallas</td>\n",
       "    </tr>\n",
       "    <tr>\n",
       "      <th>F</th>\n",
       "      <td>401</td>\n",
       "      <td>Phil</td>\n",
       "      <td>100000</td>\n",
       "      <td>Los Angeles</td>\n",
       "    </tr>\n",
       "    <tr>\n",
       "      <th>K</th>\n",
       "      <td>501</td>\n",
       "      <td>Rick</td>\n",
       "      <td>42000</td>\n",
       "      <td>San Francisco</td>\n",
       "    </tr>\n",
       "  </tbody>\n",
       "</table>\n",
       "</div>"
      ],
      "text/plain": [
       "    ID   Name  Income           City\n",
       "X  101  James   50000        Chicago\n",
       "T  201    Tom   35000       New York\n",
       "R  301  Starc   20000         Dallas\n",
       "F  401   Phil  100000    Los Angeles\n",
       "K  501   Rick   42000  San Francisco"
      ]
     },
     "execution_count": 556,
     "metadata": {},
     "output_type": "execute_result"
    }
   ],
   "source": [
    "df1"
   ]
  },
  {
   "cell_type": "code",
   "execution_count": 557,
   "metadata": {},
   "outputs": [
    {
     "data": {
      "text/html": [
       "<div>\n",
       "<style scoped>\n",
       "    .dataframe tbody tr th:only-of-type {\n",
       "        vertical-align: middle;\n",
       "    }\n",
       "\n",
       "    .dataframe tbody tr th {\n",
       "        vertical-align: top;\n",
       "    }\n",
       "\n",
       "    .dataframe thead th {\n",
       "        text-align: right;\n",
       "    }\n",
       "</style>\n",
       "<table border=\"1\" class=\"dataframe\">\n",
       "  <thead>\n",
       "    <tr style=\"text-align: right;\">\n",
       "      <th></th>\n",
       "      <th>ID</th>\n",
       "      <th>Name</th>\n",
       "      <th>Income</th>\n",
       "      <th>City</th>\n",
       "    </tr>\n",
       "  </thead>\n",
       "  <tbody>\n",
       "    <tr>\n",
       "      <th>X</th>\n",
       "      <td>101</td>\n",
       "      <td>James</td>\n",
       "      <td>50000</td>\n",
       "      <td>Chicago</td>\n",
       "    </tr>\n",
       "    <tr>\n",
       "      <th>T</th>\n",
       "      <td>201</td>\n",
       "      <td>Tom</td>\n",
       "      <td>35000</td>\n",
       "      <td>New York</td>\n",
       "    </tr>\n",
       "    <tr>\n",
       "      <th>R</th>\n",
       "      <td>301</td>\n",
       "      <td>Starc</td>\n",
       "      <td>20000</td>\n",
       "      <td>Dallas</td>\n",
       "    </tr>\n",
       "  </tbody>\n",
       "</table>\n",
       "</div>"
      ],
      "text/plain": [
       "    ID   Name  Income      City\n",
       "X  101  James   50000   Chicago\n",
       "T  201    Tom   35000  New York\n",
       "R  301  Starc   20000    Dallas"
      ]
     },
     "execution_count": 557,
     "metadata": {},
     "output_type": "execute_result"
    }
   ],
   "source": [
    "# Fetching 0th, 1st and 2nd index row\n",
    "df1.iloc[:3]"
   ]
  },
  {
   "cell_type": "code",
   "execution_count": 558,
   "metadata": {},
   "outputs": [
    {
     "data": {
      "text/html": [
       "<div>\n",
       "<style scoped>\n",
       "    .dataframe tbody tr th:only-of-type {\n",
       "        vertical-align: middle;\n",
       "    }\n",
       "\n",
       "    .dataframe tbody tr th {\n",
       "        vertical-align: top;\n",
       "    }\n",
       "\n",
       "    .dataframe thead th {\n",
       "        text-align: right;\n",
       "    }\n",
       "</style>\n",
       "<table border=\"1\" class=\"dataframe\">\n",
       "  <thead>\n",
       "    <tr style=\"text-align: right;\">\n",
       "      <th></th>\n",
       "      <th>ID</th>\n",
       "      <th>Name</th>\n",
       "      <th>Income</th>\n",
       "    </tr>\n",
       "  </thead>\n",
       "  <tbody>\n",
       "    <tr>\n",
       "      <th>T</th>\n",
       "      <td>201</td>\n",
       "      <td>Tom</td>\n",
       "      <td>35000</td>\n",
       "    </tr>\n",
       "    <tr>\n",
       "      <th>R</th>\n",
       "      <td>301</td>\n",
       "      <td>Starc</td>\n",
       "      <td>20000</td>\n",
       "    </tr>\n",
       "  </tbody>\n",
       "</table>\n",
       "</div>"
      ],
      "text/plain": [
       "    ID   Name  Income\n",
       "T  201    Tom   35000\n",
       "R  301  Starc   20000"
      ]
     },
     "execution_count": 558,
     "metadata": {},
     "output_type": "execute_result"
    }
   ],
   "source": [
    "# Fetching 1st and 2nd row index and 0th, 1st and 2nd column index\n",
    "df1.iloc[1:3, :3]"
   ]
  },
  {
   "cell_type": "markdown",
   "metadata": {},
   "source": [
    "One important difference between .loc[] and .iloc[] is conditional filters. By using .loc[] you filter the data based on a \n",
    "specific column condition, where as in .iloc[] it is not possible. Generally for data preperation .loc[] is used"
   ]
  },
  {
   "cell_type": "markdown",
   "metadata": {},
   "source": [
    "#### Filtering data using conditions"
   ]
  },
  {
   "cell_type": "markdown",
   "metadata": {},
   "source": [
    "You can use .loc[] function for filtering the DataFrame and create a subset based on a condition. But there are many ways by \n",
    "which you can do this. let us learn one more technique on how you can achieve this"
   ]
  },
  {
   "cell_type": "code",
   "execution_count": 559,
   "metadata": {},
   "outputs": [],
   "source": [
    "# Consider following data Frame:\n",
    "data = [[101, 'James', 50000, 'Chicago'], [201, 'Tom', 35000, 'New York'], [301, 'Starc', 20000, 'Dallas'], \n",
    "        [401, 'Phil', 100000, 'Los Angeles'], [501, 'Rick', 42000, 'San Francisco'], [601, 'Harry', 135000, 'Vegas'],\n",
    "        [701, 'Jim', 25000, 'Los Angeles'], [801, 'Ricky', 75000, 'Chicago']]"
   ]
  },
  {
   "cell_type": "code",
   "execution_count": 560,
   "metadata": {},
   "outputs": [],
   "source": [
    "columns = ['ID', 'Name', 'Income', 'City']"
   ]
  },
  {
   "cell_type": "code",
   "execution_count": 561,
   "metadata": {},
   "outputs": [],
   "source": [
    "df = pd.DataFrame(data, columns = columns)"
   ]
  },
  {
   "cell_type": "code",
   "execution_count": 562,
   "metadata": {},
   "outputs": [
    {
     "data": {
      "text/html": [
       "<div>\n",
       "<style scoped>\n",
       "    .dataframe tbody tr th:only-of-type {\n",
       "        vertical-align: middle;\n",
       "    }\n",
       "\n",
       "    .dataframe tbody tr th {\n",
       "        vertical-align: top;\n",
       "    }\n",
       "\n",
       "    .dataframe thead th {\n",
       "        text-align: right;\n",
       "    }\n",
       "</style>\n",
       "<table border=\"1\" class=\"dataframe\">\n",
       "  <thead>\n",
       "    <tr style=\"text-align: right;\">\n",
       "      <th></th>\n",
       "      <th>ID</th>\n",
       "      <th>Name</th>\n",
       "      <th>Income</th>\n",
       "      <th>City</th>\n",
       "    </tr>\n",
       "  </thead>\n",
       "  <tbody>\n",
       "    <tr>\n",
       "      <th>0</th>\n",
       "      <td>101</td>\n",
       "      <td>James</td>\n",
       "      <td>50000</td>\n",
       "      <td>Chicago</td>\n",
       "    </tr>\n",
       "    <tr>\n",
       "      <th>1</th>\n",
       "      <td>201</td>\n",
       "      <td>Tom</td>\n",
       "      <td>35000</td>\n",
       "      <td>New York</td>\n",
       "    </tr>\n",
       "    <tr>\n",
       "      <th>2</th>\n",
       "      <td>301</td>\n",
       "      <td>Starc</td>\n",
       "      <td>20000</td>\n",
       "      <td>Dallas</td>\n",
       "    </tr>\n",
       "    <tr>\n",
       "      <th>3</th>\n",
       "      <td>401</td>\n",
       "      <td>Phil</td>\n",
       "      <td>100000</td>\n",
       "      <td>Los Angeles</td>\n",
       "    </tr>\n",
       "    <tr>\n",
       "      <th>4</th>\n",
       "      <td>501</td>\n",
       "      <td>Rick</td>\n",
       "      <td>42000</td>\n",
       "      <td>San Francisco</td>\n",
       "    </tr>\n",
       "    <tr>\n",
       "      <th>5</th>\n",
       "      <td>601</td>\n",
       "      <td>Harry</td>\n",
       "      <td>135000</td>\n",
       "      <td>Vegas</td>\n",
       "    </tr>\n",
       "    <tr>\n",
       "      <th>6</th>\n",
       "      <td>701</td>\n",
       "      <td>Jim</td>\n",
       "      <td>25000</td>\n",
       "      <td>Los Angeles</td>\n",
       "    </tr>\n",
       "    <tr>\n",
       "      <th>7</th>\n",
       "      <td>801</td>\n",
       "      <td>Ricky</td>\n",
       "      <td>75000</td>\n",
       "      <td>Chicago</td>\n",
       "    </tr>\n",
       "  </tbody>\n",
       "</table>\n",
       "</div>"
      ],
      "text/plain": [
       "    ID   Name  Income           City\n",
       "0  101  James   50000        Chicago\n",
       "1  201    Tom   35000       New York\n",
       "2  301  Starc   20000         Dallas\n",
       "3  401   Phil  100000    Los Angeles\n",
       "4  501   Rick   42000  San Francisco\n",
       "5  601  Harry  135000          Vegas\n",
       "6  701    Jim   25000    Los Angeles\n",
       "7  801  Ricky   75000        Chicago"
      ]
     },
     "execution_count": 562,
     "metadata": {},
     "output_type": "execute_result"
    }
   ],
   "source": [
    "df"
   ]
  },
  {
   "cell_type": "code",
   "execution_count": 563,
   "metadata": {},
   "outputs": [
    {
     "data": {
      "text/html": [
       "<div>\n",
       "<style scoped>\n",
       "    .dataframe tbody tr th:only-of-type {\n",
       "        vertical-align: middle;\n",
       "    }\n",
       "\n",
       "    .dataframe tbody tr th {\n",
       "        vertical-align: top;\n",
       "    }\n",
       "\n",
       "    .dataframe thead th {\n",
       "        text-align: right;\n",
       "    }\n",
       "</style>\n",
       "<table border=\"1\" class=\"dataframe\">\n",
       "  <thead>\n",
       "    <tr style=\"text-align: right;\">\n",
       "      <th></th>\n",
       "      <th>ID</th>\n",
       "      <th>Name</th>\n",
       "      <th>Income</th>\n",
       "      <th>City</th>\n",
       "    </tr>\n",
       "  </thead>\n",
       "  <tbody>\n",
       "    <tr>\n",
       "      <th>0</th>\n",
       "      <td>101</td>\n",
       "      <td>James</td>\n",
       "      <td>50000</td>\n",
       "      <td>Chicago</td>\n",
       "    </tr>\n",
       "    <tr>\n",
       "      <th>1</th>\n",
       "      <td>201</td>\n",
       "      <td>Tom</td>\n",
       "      <td>35000</td>\n",
       "      <td>New York</td>\n",
       "    </tr>\n",
       "    <tr>\n",
       "      <th>3</th>\n",
       "      <td>401</td>\n",
       "      <td>Phil</td>\n",
       "      <td>100000</td>\n",
       "      <td>Los Angeles</td>\n",
       "    </tr>\n",
       "    <tr>\n",
       "      <th>4</th>\n",
       "      <td>501</td>\n",
       "      <td>Rick</td>\n",
       "      <td>42000</td>\n",
       "      <td>San Francisco</td>\n",
       "    </tr>\n",
       "    <tr>\n",
       "      <th>5</th>\n",
       "      <td>601</td>\n",
       "      <td>Harry</td>\n",
       "      <td>135000</td>\n",
       "      <td>Vegas</td>\n",
       "    </tr>\n",
       "    <tr>\n",
       "      <th>7</th>\n",
       "      <td>801</td>\n",
       "      <td>Ricky</td>\n",
       "      <td>75000</td>\n",
       "      <td>Chicago</td>\n",
       "    </tr>\n",
       "  </tbody>\n",
       "</table>\n",
       "</div>"
      ],
      "text/plain": [
       "    ID   Name  Income           City\n",
       "0  101  James   50000        Chicago\n",
       "1  201    Tom   35000       New York\n",
       "3  401   Phil  100000    Los Angeles\n",
       "4  501   Rick   42000  San Francisco\n",
       "5  601  Harry  135000          Vegas\n",
       "7  801  Ricky   75000        Chicago"
      ]
     },
     "execution_count": 563,
     "metadata": {},
     "output_type": "execute_result"
    }
   ],
   "source": [
    "# Let us create a DataFrame from existing one where Income > 25000\n",
    "df[(df['Income'] > 25000)]"
   ]
  },
  {
   "cell_type": "markdown",
   "metadata": {},
   "source": [
    "So here we have all the records where Income >= 25000"
   ]
  },
  {
   "cell_type": "code",
   "execution_count": 564,
   "metadata": {},
   "outputs": [
    {
     "data": {
      "text/html": [
       "<div>\n",
       "<style scoped>\n",
       "    .dataframe tbody tr th:only-of-type {\n",
       "        vertical-align: middle;\n",
       "    }\n",
       "\n",
       "    .dataframe tbody tr th {\n",
       "        vertical-align: top;\n",
       "    }\n",
       "\n",
       "    .dataframe thead th {\n",
       "        text-align: right;\n",
       "    }\n",
       "</style>\n",
       "<table border=\"1\" class=\"dataframe\">\n",
       "  <thead>\n",
       "    <tr style=\"text-align: right;\">\n",
       "      <th></th>\n",
       "      <th>City</th>\n",
       "    </tr>\n",
       "  </thead>\n",
       "  <tbody>\n",
       "    <tr>\n",
       "      <th>0</th>\n",
       "      <td>Chicago</td>\n",
       "    </tr>\n",
       "    <tr>\n",
       "      <th>1</th>\n",
       "      <td>New York</td>\n",
       "    </tr>\n",
       "    <tr>\n",
       "      <th>3</th>\n",
       "      <td>Los Angeles</td>\n",
       "    </tr>\n",
       "    <tr>\n",
       "      <th>4</th>\n",
       "      <td>San Francisco</td>\n",
       "    </tr>\n",
       "    <tr>\n",
       "      <th>5</th>\n",
       "      <td>Vegas</td>\n",
       "    </tr>\n",
       "    <tr>\n",
       "      <th>7</th>\n",
       "      <td>Chicago</td>\n",
       "    </tr>\n",
       "  </tbody>\n",
       "</table>\n",
       "</div>"
      ],
      "text/plain": [
       "            City\n",
       "0        Chicago\n",
       "1       New York\n",
       "3    Los Angeles\n",
       "4  San Francisco\n",
       "5          Vegas\n",
       "7        Chicago"
      ]
     },
     "execution_count": 564,
     "metadata": {},
     "output_type": "execute_result"
    }
   ],
   "source": [
    "# Let us run the same query above, but selecting only few columns\n",
    "df[(df['Income'] > 25000)][['City']]"
   ]
  },
  {
   "cell_type": "markdown",
   "metadata": {},
   "source": [
    "So we just have to specify names of the columns after specifying the conditions. Just remember that while pulling out a single \n",
    "column put column name in double square brackets to have output as a DataFrame. Else it will be a series. Let us try this out"
   ]
  },
  {
   "cell_type": "code",
   "execution_count": 565,
   "metadata": {},
   "outputs": [
    {
     "data": {
      "text/plain": [
       "0          Chicago\n",
       "1         New York\n",
       "3      Los Angeles\n",
       "4    San Francisco\n",
       "5            Vegas\n",
       "7          Chicago\n",
       "Name: City, dtype: object"
      ]
     },
     "execution_count": 565,
     "metadata": {},
     "output_type": "execute_result"
    }
   ],
   "source": [
    "df[(df['Income'] > 25000)]['City']"
   ]
  },
  {
   "cell_type": "code",
   "execution_count": 566,
   "metadata": {},
   "outputs": [
    {
     "data": {
      "text/html": [
       "<div>\n",
       "<style scoped>\n",
       "    .dataframe tbody tr th:only-of-type {\n",
       "        vertical-align: middle;\n",
       "    }\n",
       "\n",
       "    .dataframe tbody tr th {\n",
       "        vertical-align: top;\n",
       "    }\n",
       "\n",
       "    .dataframe thead th {\n",
       "        text-align: right;\n",
       "    }\n",
       "</style>\n",
       "<table border=\"1\" class=\"dataframe\">\n",
       "  <thead>\n",
       "    <tr style=\"text-align: right;\">\n",
       "      <th></th>\n",
       "      <th>City</th>\n",
       "      <th>Name</th>\n",
       "    </tr>\n",
       "  </thead>\n",
       "  <tbody>\n",
       "    <tr>\n",
       "      <th>0</th>\n",
       "      <td>Chicago</td>\n",
       "      <td>James</td>\n",
       "    </tr>\n",
       "    <tr>\n",
       "      <th>1</th>\n",
       "      <td>New York</td>\n",
       "      <td>Tom</td>\n",
       "    </tr>\n",
       "    <tr>\n",
       "      <th>3</th>\n",
       "      <td>Los Angeles</td>\n",
       "      <td>Phil</td>\n",
       "    </tr>\n",
       "    <tr>\n",
       "      <th>4</th>\n",
       "      <td>San Francisco</td>\n",
       "      <td>Rick</td>\n",
       "    </tr>\n",
       "    <tr>\n",
       "      <th>5</th>\n",
       "      <td>Vegas</td>\n",
       "      <td>Harry</td>\n",
       "    </tr>\n",
       "    <tr>\n",
       "      <th>7</th>\n",
       "      <td>Chicago</td>\n",
       "      <td>Ricky</td>\n",
       "    </tr>\n",
       "  </tbody>\n",
       "</table>\n",
       "</div>"
      ],
      "text/plain": [
       "            City   Name\n",
       "0        Chicago  James\n",
       "1       New York    Tom\n",
       "3    Los Angeles   Phil\n",
       "4  San Francisco   Rick\n",
       "5          Vegas  Harry\n",
       "7        Chicago  Ricky"
      ]
     },
     "execution_count": 566,
     "metadata": {},
     "output_type": "execute_result"
    }
   ],
   "source": [
    "# Slecting multiple columns\n",
    "df[(df['Income'] > 25000)][['City', 'Name']]"
   ]
  },
  {
   "cell_type": "code",
   "execution_count": 567,
   "metadata": {},
   "outputs": [
    {
     "data": {
      "text/html": [
       "<div>\n",
       "<style scoped>\n",
       "    .dataframe tbody tr th:only-of-type {\n",
       "        vertical-align: middle;\n",
       "    }\n",
       "\n",
       "    .dataframe tbody tr th {\n",
       "        vertical-align: top;\n",
       "    }\n",
       "\n",
       "    .dataframe thead th {\n",
       "        text-align: right;\n",
       "    }\n",
       "</style>\n",
       "<table border=\"1\" class=\"dataframe\">\n",
       "  <thead>\n",
       "    <tr style=\"text-align: right;\">\n",
       "      <th></th>\n",
       "      <th>City</th>\n",
       "      <th>ID</th>\n",
       "      <th>Income</th>\n",
       "    </tr>\n",
       "  </thead>\n",
       "  <tbody>\n",
       "    <tr>\n",
       "      <th>0</th>\n",
       "      <td>Chicago</td>\n",
       "      <td>101</td>\n",
       "      <td>50000</td>\n",
       "    </tr>\n",
       "    <tr>\n",
       "      <th>7</th>\n",
       "      <td>Chicago</td>\n",
       "      <td>801</td>\n",
       "      <td>75000</td>\n",
       "    </tr>\n",
       "  </tbody>\n",
       "</table>\n",
       "</div>"
      ],
      "text/plain": [
       "      City   ID  Income\n",
       "0  Chicago  101   50000\n",
       "7  Chicago  801   75000"
      ]
     },
     "execution_count": 567,
     "metadata": {},
     "output_type": "execute_result"
    }
   ],
   "source": [
    "# Applying Multiple conditions (using and function)\n",
    "df[(df['Income'] > 25000) & (df['City'] == 'Chicago')][['City', 'ID', 'Income']]"
   ]
  },
  {
   "cell_type": "code",
   "execution_count": 568,
   "metadata": {},
   "outputs": [
    {
     "data": {
      "text/html": [
       "<div>\n",
       "<style scoped>\n",
       "    .dataframe tbody tr th:only-of-type {\n",
       "        vertical-align: middle;\n",
       "    }\n",
       "\n",
       "    .dataframe tbody tr th {\n",
       "        vertical-align: top;\n",
       "    }\n",
       "\n",
       "    .dataframe thead th {\n",
       "        text-align: right;\n",
       "    }\n",
       "</style>\n",
       "<table border=\"1\" class=\"dataframe\">\n",
       "  <thead>\n",
       "    <tr style=\"text-align: right;\">\n",
       "      <th></th>\n",
       "      <th>City</th>\n",
       "      <th>ID</th>\n",
       "      <th>Income</th>\n",
       "    </tr>\n",
       "  </thead>\n",
       "  <tbody>\n",
       "    <tr>\n",
       "      <th>0</th>\n",
       "      <td>Chicago</td>\n",
       "      <td>101</td>\n",
       "      <td>50000</td>\n",
       "    </tr>\n",
       "    <tr>\n",
       "      <th>1</th>\n",
       "      <td>New York</td>\n",
       "      <td>201</td>\n",
       "      <td>35000</td>\n",
       "    </tr>\n",
       "    <tr>\n",
       "      <th>3</th>\n",
       "      <td>Los Angeles</td>\n",
       "      <td>401</td>\n",
       "      <td>100000</td>\n",
       "    </tr>\n",
       "    <tr>\n",
       "      <th>4</th>\n",
       "      <td>San Francisco</td>\n",
       "      <td>501</td>\n",
       "      <td>42000</td>\n",
       "    </tr>\n",
       "    <tr>\n",
       "      <th>5</th>\n",
       "      <td>Vegas</td>\n",
       "      <td>601</td>\n",
       "      <td>135000</td>\n",
       "    </tr>\n",
       "    <tr>\n",
       "      <th>7</th>\n",
       "      <td>Chicago</td>\n",
       "      <td>801</td>\n",
       "      <td>75000</td>\n",
       "    </tr>\n",
       "  </tbody>\n",
       "</table>\n",
       "</div>"
      ],
      "text/plain": [
       "            City   ID  Income\n",
       "0        Chicago  101   50000\n",
       "1       New York  201   35000\n",
       "3    Los Angeles  401  100000\n",
       "4  San Francisco  501   42000\n",
       "5          Vegas  601  135000\n",
       "7        Chicago  801   75000"
      ]
     },
     "execution_count": 568,
     "metadata": {},
     "output_type": "execute_result"
    }
   ],
   "source": [
    "# Applying Multiple conditions (using or function)\n",
    "df[(df['Income'] > 25000) | (df['City'] == 'Chicago')][['City', 'ID', 'Income']]"
   ]
  },
  {
   "cell_type": "markdown",
   "metadata": {},
   "source": [
    "#### Reindexing\n",
    "Multiple tasks can be acheived using reindexing. For example we can reset the existing indexes to default one or we can make an existing column as an index of the DataFrame. Let us have a look at these one by one"
   ]
  },
  {
   "cell_type": "code",
   "execution_count": 569,
   "metadata": {},
   "outputs": [
    {
     "data": {
      "text/html": [
       "<div>\n",
       "<style scoped>\n",
       "    .dataframe tbody tr th:only-of-type {\n",
       "        vertical-align: middle;\n",
       "    }\n",
       "\n",
       "    .dataframe tbody tr th {\n",
       "        vertical-align: top;\n",
       "    }\n",
       "\n",
       "    .dataframe thead th {\n",
       "        text-align: right;\n",
       "    }\n",
       "</style>\n",
       "<table border=\"1\" class=\"dataframe\">\n",
       "  <thead>\n",
       "    <tr style=\"text-align: right;\">\n",
       "      <th></th>\n",
       "      <th>ID</th>\n",
       "      <th>Name</th>\n",
       "      <th>Income</th>\n",
       "      <th>City</th>\n",
       "    </tr>\n",
       "  </thead>\n",
       "  <tbody>\n",
       "    <tr>\n",
       "      <th>X</th>\n",
       "      <td>101</td>\n",
       "      <td>James</td>\n",
       "      <td>50000</td>\n",
       "      <td>Chicago</td>\n",
       "    </tr>\n",
       "    <tr>\n",
       "      <th>T</th>\n",
       "      <td>201</td>\n",
       "      <td>Tom</td>\n",
       "      <td>35000</td>\n",
       "      <td>New York</td>\n",
       "    </tr>\n",
       "    <tr>\n",
       "      <th>R</th>\n",
       "      <td>301</td>\n",
       "      <td>Starc</td>\n",
       "      <td>20000</td>\n",
       "      <td>Dallas</td>\n",
       "    </tr>\n",
       "    <tr>\n",
       "      <th>F</th>\n",
       "      <td>401</td>\n",
       "      <td>Phil</td>\n",
       "      <td>100000</td>\n",
       "      <td>Los Angeles</td>\n",
       "    </tr>\n",
       "    <tr>\n",
       "      <th>K</th>\n",
       "      <td>501</td>\n",
       "      <td>Rick</td>\n",
       "      <td>42000</td>\n",
       "      <td>San Francisco</td>\n",
       "    </tr>\n",
       "  </tbody>\n",
       "</table>\n",
       "</div>"
      ],
      "text/plain": [
       "    ID   Name  Income           City\n",
       "X  101  James   50000        Chicago\n",
       "T  201    Tom   35000       New York\n",
       "R  301  Starc   20000         Dallas\n",
       "F  401   Phil  100000    Los Angeles\n",
       "K  501   Rick   42000  San Francisco"
      ]
     },
     "execution_count": 569,
     "metadata": {},
     "output_type": "execute_result"
    }
   ],
   "source": [
    "# Considering df1 DataFrame\n",
    "df1"
   ]
  },
  {
   "cell_type": "code",
   "execution_count": 570,
   "metadata": {},
   "outputs": [
    {
     "data": {
      "text/html": [
       "<div>\n",
       "<style scoped>\n",
       "    .dataframe tbody tr th:only-of-type {\n",
       "        vertical-align: middle;\n",
       "    }\n",
       "\n",
       "    .dataframe tbody tr th {\n",
       "        vertical-align: top;\n",
       "    }\n",
       "\n",
       "    .dataframe thead th {\n",
       "        text-align: right;\n",
       "    }\n",
       "</style>\n",
       "<table border=\"1\" class=\"dataframe\">\n",
       "  <thead>\n",
       "    <tr style=\"text-align: right;\">\n",
       "      <th></th>\n",
       "      <th>index</th>\n",
       "      <th>ID</th>\n",
       "      <th>Name</th>\n",
       "      <th>Income</th>\n",
       "      <th>City</th>\n",
       "    </tr>\n",
       "  </thead>\n",
       "  <tbody>\n",
       "    <tr>\n",
       "      <th>0</th>\n",
       "      <td>X</td>\n",
       "      <td>101</td>\n",
       "      <td>James</td>\n",
       "      <td>50000</td>\n",
       "      <td>Chicago</td>\n",
       "    </tr>\n",
       "    <tr>\n",
       "      <th>1</th>\n",
       "      <td>T</td>\n",
       "      <td>201</td>\n",
       "      <td>Tom</td>\n",
       "      <td>35000</td>\n",
       "      <td>New York</td>\n",
       "    </tr>\n",
       "    <tr>\n",
       "      <th>2</th>\n",
       "      <td>R</td>\n",
       "      <td>301</td>\n",
       "      <td>Starc</td>\n",
       "      <td>20000</td>\n",
       "      <td>Dallas</td>\n",
       "    </tr>\n",
       "    <tr>\n",
       "      <th>3</th>\n",
       "      <td>F</td>\n",
       "      <td>401</td>\n",
       "      <td>Phil</td>\n",
       "      <td>100000</td>\n",
       "      <td>Los Angeles</td>\n",
       "    </tr>\n",
       "    <tr>\n",
       "      <th>4</th>\n",
       "      <td>K</td>\n",
       "      <td>501</td>\n",
       "      <td>Rick</td>\n",
       "      <td>42000</td>\n",
       "      <td>San Francisco</td>\n",
       "    </tr>\n",
       "  </tbody>\n",
       "</table>\n",
       "</div>"
      ],
      "text/plain": [
       "  index   ID   Name  Income           City\n",
       "0     X  101  James   50000        Chicago\n",
       "1     T  201    Tom   35000       New York\n",
       "2     R  301  Starc   20000         Dallas\n",
       "3     F  401   Phil  100000    Los Angeles\n",
       "4     K  501   Rick   42000  San Francisco"
      ]
     },
     "execution_count": 570,
     "metadata": {},
     "output_type": "execute_result"
    }
   ],
   "source": [
    "# Reset index to default \n",
    "df1.reset_index()"
   ]
  },
  {
   "cell_type": "markdown",
   "metadata": {},
   "source": [
    "So we see here that original index (X, T, R ...) have been converted to a column and a default index has been set. One more important point to note here is that the original DataFrame has not changed at all. We would have to use 'inplace = True' to make that change happen in original DataFrame. Let us quickly try this out`"
   ]
  },
  {
   "cell_type": "code",
   "execution_count": 571,
   "metadata": {},
   "outputs": [],
   "source": [
    "df2 = df1 # I dont want to make changes in the original DataFrame"
   ]
  },
  {
   "cell_type": "code",
   "execution_count": 572,
   "metadata": {},
   "outputs": [
    {
     "data": {
      "text/html": [
       "<div>\n",
       "<style scoped>\n",
       "    .dataframe tbody tr th:only-of-type {\n",
       "        vertical-align: middle;\n",
       "    }\n",
       "\n",
       "    .dataframe tbody tr th {\n",
       "        vertical-align: top;\n",
       "    }\n",
       "\n",
       "    .dataframe thead th {\n",
       "        text-align: right;\n",
       "    }\n",
       "</style>\n",
       "<table border=\"1\" class=\"dataframe\">\n",
       "  <thead>\n",
       "    <tr style=\"text-align: right;\">\n",
       "      <th></th>\n",
       "      <th>ID</th>\n",
       "      <th>Name</th>\n",
       "      <th>Income</th>\n",
       "      <th>City</th>\n",
       "    </tr>\n",
       "  </thead>\n",
       "  <tbody>\n",
       "    <tr>\n",
       "      <th>X</th>\n",
       "      <td>101</td>\n",
       "      <td>James</td>\n",
       "      <td>50000</td>\n",
       "      <td>Chicago</td>\n",
       "    </tr>\n",
       "    <tr>\n",
       "      <th>T</th>\n",
       "      <td>201</td>\n",
       "      <td>Tom</td>\n",
       "      <td>35000</td>\n",
       "      <td>New York</td>\n",
       "    </tr>\n",
       "    <tr>\n",
       "      <th>R</th>\n",
       "      <td>301</td>\n",
       "      <td>Starc</td>\n",
       "      <td>20000</td>\n",
       "      <td>Dallas</td>\n",
       "    </tr>\n",
       "    <tr>\n",
       "      <th>F</th>\n",
       "      <td>401</td>\n",
       "      <td>Phil</td>\n",
       "      <td>100000</td>\n",
       "      <td>Los Angeles</td>\n",
       "    </tr>\n",
       "    <tr>\n",
       "      <th>K</th>\n",
       "      <td>501</td>\n",
       "      <td>Rick</td>\n",
       "      <td>42000</td>\n",
       "      <td>San Francisco</td>\n",
       "    </tr>\n",
       "  </tbody>\n",
       "</table>\n",
       "</div>"
      ],
      "text/plain": [
       "    ID   Name  Income           City\n",
       "X  101  James   50000        Chicago\n",
       "T  201    Tom   35000       New York\n",
       "R  301  Starc   20000         Dallas\n",
       "F  401   Phil  100000    Los Angeles\n",
       "K  501   Rick   42000  San Francisco"
      ]
     },
     "execution_count": 572,
     "metadata": {},
     "output_type": "execute_result"
    }
   ],
   "source": [
    "df2"
   ]
  },
  {
   "cell_type": "code",
   "execution_count": 573,
   "metadata": {},
   "outputs": [],
   "source": [
    "# Resetting the indexing with inplace = True argument\n",
    "df2.reset_index(inplace = True)"
   ]
  },
  {
   "cell_type": "code",
   "execution_count": 574,
   "metadata": {},
   "outputs": [
    {
     "data": {
      "text/html": [
       "<div>\n",
       "<style scoped>\n",
       "    .dataframe tbody tr th:only-of-type {\n",
       "        vertical-align: middle;\n",
       "    }\n",
       "\n",
       "    .dataframe tbody tr th {\n",
       "        vertical-align: top;\n",
       "    }\n",
       "\n",
       "    .dataframe thead th {\n",
       "        text-align: right;\n",
       "    }\n",
       "</style>\n",
       "<table border=\"1\" class=\"dataframe\">\n",
       "  <thead>\n",
       "    <tr style=\"text-align: right;\">\n",
       "      <th></th>\n",
       "      <th>index</th>\n",
       "      <th>ID</th>\n",
       "      <th>Name</th>\n",
       "      <th>Income</th>\n",
       "      <th>City</th>\n",
       "    </tr>\n",
       "  </thead>\n",
       "  <tbody>\n",
       "    <tr>\n",
       "      <th>0</th>\n",
       "      <td>X</td>\n",
       "      <td>101</td>\n",
       "      <td>James</td>\n",
       "      <td>50000</td>\n",
       "      <td>Chicago</td>\n",
       "    </tr>\n",
       "    <tr>\n",
       "      <th>1</th>\n",
       "      <td>T</td>\n",
       "      <td>201</td>\n",
       "      <td>Tom</td>\n",
       "      <td>35000</td>\n",
       "      <td>New York</td>\n",
       "    </tr>\n",
       "    <tr>\n",
       "      <th>2</th>\n",
       "      <td>R</td>\n",
       "      <td>301</td>\n",
       "      <td>Starc</td>\n",
       "      <td>20000</td>\n",
       "      <td>Dallas</td>\n",
       "    </tr>\n",
       "    <tr>\n",
       "      <th>3</th>\n",
       "      <td>F</td>\n",
       "      <td>401</td>\n",
       "      <td>Phil</td>\n",
       "      <td>100000</td>\n",
       "      <td>Los Angeles</td>\n",
       "    </tr>\n",
       "    <tr>\n",
       "      <th>4</th>\n",
       "      <td>K</td>\n",
       "      <td>501</td>\n",
       "      <td>Rick</td>\n",
       "      <td>42000</td>\n",
       "      <td>San Francisco</td>\n",
       "    </tr>\n",
       "  </tbody>\n",
       "</table>\n",
       "</div>"
      ],
      "text/plain": [
       "  index   ID   Name  Income           City\n",
       "0     X  101  James   50000        Chicago\n",
       "1     T  201    Tom   35000       New York\n",
       "2     R  301  Starc   20000         Dallas\n",
       "3     F  401   Phil  100000    Los Angeles\n",
       "4     K  501   Rick   42000  San Francisco"
      ]
     },
     "execution_count": 574,
     "metadata": {},
     "output_type": "execute_result"
    }
   ],
   "source": [
    "df2"
   ]
  },
  {
   "cell_type": "markdown",
   "metadata": {},
   "source": [
    "Let us use one more argument of reset_index function which will drop the index column"
   ]
  },
  {
   "cell_type": "code",
   "execution_count": 576,
   "metadata": {},
   "outputs": [
    {
     "data": {
      "text/html": [
       "<div>\n",
       "<style scoped>\n",
       "    .dataframe tbody tr th:only-of-type {\n",
       "        vertical-align: middle;\n",
       "    }\n",
       "\n",
       "    .dataframe tbody tr th {\n",
       "        vertical-align: top;\n",
       "    }\n",
       "\n",
       "    .dataframe thead th {\n",
       "        text-align: right;\n",
       "    }\n",
       "</style>\n",
       "<table border=\"1\" class=\"dataframe\">\n",
       "  <thead>\n",
       "    <tr style=\"text-align: right;\">\n",
       "      <th></th>\n",
       "      <th>ID</th>\n",
       "      <th>Name</th>\n",
       "      <th>Income</th>\n",
       "      <th>City</th>\n",
       "    </tr>\n",
       "  </thead>\n",
       "  <tbody>\n",
       "    <tr>\n",
       "      <th>0</th>\n",
       "      <td>101</td>\n",
       "      <td>James</td>\n",
       "      <td>50000</td>\n",
       "      <td>Chicago</td>\n",
       "    </tr>\n",
       "    <tr>\n",
       "      <th>1</th>\n",
       "      <td>201</td>\n",
       "      <td>Tom</td>\n",
       "      <td>35000</td>\n",
       "      <td>New York</td>\n",
       "    </tr>\n",
       "    <tr>\n",
       "      <th>2</th>\n",
       "      <td>301</td>\n",
       "      <td>Starc</td>\n",
       "      <td>20000</td>\n",
       "      <td>Dallas</td>\n",
       "    </tr>\n",
       "    <tr>\n",
       "      <th>3</th>\n",
       "      <td>401</td>\n",
       "      <td>Phil</td>\n",
       "      <td>100000</td>\n",
       "      <td>Los Angeles</td>\n",
       "    </tr>\n",
       "    <tr>\n",
       "      <th>4</th>\n",
       "      <td>501</td>\n",
       "      <td>Rick</td>\n",
       "      <td>42000</td>\n",
       "      <td>San Francisco</td>\n",
       "    </tr>\n",
       "    <tr>\n",
       "      <th>5</th>\n",
       "      <td>601</td>\n",
       "      <td>Harry</td>\n",
       "      <td>135000</td>\n",
       "      <td>Vegas</td>\n",
       "    </tr>\n",
       "    <tr>\n",
       "      <th>6</th>\n",
       "      <td>701</td>\n",
       "      <td>Jim</td>\n",
       "      <td>25000</td>\n",
       "      <td>Los Angeles</td>\n",
       "    </tr>\n",
       "    <tr>\n",
       "      <th>7</th>\n",
       "      <td>801</td>\n",
       "      <td>Ricky</td>\n",
       "      <td>75000</td>\n",
       "      <td>Chicago</td>\n",
       "    </tr>\n",
       "  </tbody>\n",
       "</table>\n",
       "</div>"
      ],
      "text/plain": [
       "    ID   Name  Income           City\n",
       "0  101  James   50000        Chicago\n",
       "1  201    Tom   35000       New York\n",
       "2  301  Starc   20000         Dallas\n",
       "3  401   Phil  100000    Los Angeles\n",
       "4  501   Rick   42000  San Francisco\n",
       "5  601  Harry  135000          Vegas\n",
       "6  701    Jim   25000    Los Angeles\n",
       "7  801  Ricky   75000        Chicago"
      ]
     },
     "execution_count": 576,
     "metadata": {},
     "output_type": "execute_result"
    }
   ],
   "source": [
    "# Let us use below DataFrame to check this functionality\n",
    "df"
   ]
  },
  {
   "cell_type": "code",
   "execution_count": 577,
   "metadata": {},
   "outputs": [],
   "source": [
    "df.reset_index(inplace = True, drop = True)"
   ]
  },
  {
   "cell_type": "code",
   "execution_count": 578,
   "metadata": {},
   "outputs": [
    {
     "data": {
      "text/html": [
       "<div>\n",
       "<style scoped>\n",
       "    .dataframe tbody tr th:only-of-type {\n",
       "        vertical-align: middle;\n",
       "    }\n",
       "\n",
       "    .dataframe tbody tr th {\n",
       "        vertical-align: top;\n",
       "    }\n",
       "\n",
       "    .dataframe thead th {\n",
       "        text-align: right;\n",
       "    }\n",
       "</style>\n",
       "<table border=\"1\" class=\"dataframe\">\n",
       "  <thead>\n",
       "    <tr style=\"text-align: right;\">\n",
       "      <th></th>\n",
       "      <th>ID</th>\n",
       "      <th>Name</th>\n",
       "      <th>Income</th>\n",
       "      <th>City</th>\n",
       "    </tr>\n",
       "  </thead>\n",
       "  <tbody>\n",
       "    <tr>\n",
       "      <th>0</th>\n",
       "      <td>101</td>\n",
       "      <td>James</td>\n",
       "      <td>50000</td>\n",
       "      <td>Chicago</td>\n",
       "    </tr>\n",
       "    <tr>\n",
       "      <th>1</th>\n",
       "      <td>201</td>\n",
       "      <td>Tom</td>\n",
       "      <td>35000</td>\n",
       "      <td>New York</td>\n",
       "    </tr>\n",
       "    <tr>\n",
       "      <th>2</th>\n",
       "      <td>301</td>\n",
       "      <td>Starc</td>\n",
       "      <td>20000</td>\n",
       "      <td>Dallas</td>\n",
       "    </tr>\n",
       "    <tr>\n",
       "      <th>3</th>\n",
       "      <td>401</td>\n",
       "      <td>Phil</td>\n",
       "      <td>100000</td>\n",
       "      <td>Los Angeles</td>\n",
       "    </tr>\n",
       "    <tr>\n",
       "      <th>4</th>\n",
       "      <td>501</td>\n",
       "      <td>Rick</td>\n",
       "      <td>42000</td>\n",
       "      <td>San Francisco</td>\n",
       "    </tr>\n",
       "    <tr>\n",
       "      <th>5</th>\n",
       "      <td>601</td>\n",
       "      <td>Harry</td>\n",
       "      <td>135000</td>\n",
       "      <td>Vegas</td>\n",
       "    </tr>\n",
       "    <tr>\n",
       "      <th>6</th>\n",
       "      <td>701</td>\n",
       "      <td>Jim</td>\n",
       "      <td>25000</td>\n",
       "      <td>Los Angeles</td>\n",
       "    </tr>\n",
       "    <tr>\n",
       "      <th>7</th>\n",
       "      <td>801</td>\n",
       "      <td>Ricky</td>\n",
       "      <td>75000</td>\n",
       "      <td>Chicago</td>\n",
       "    </tr>\n",
       "  </tbody>\n",
       "</table>\n",
       "</div>"
      ],
      "text/plain": [
       "    ID   Name  Income           City\n",
       "0  101  James   50000        Chicago\n",
       "1  201    Tom   35000       New York\n",
       "2  301  Starc   20000         Dallas\n",
       "3  401   Phil  100000    Los Angeles\n",
       "4  501   Rick   42000  San Francisco\n",
       "5  601  Harry  135000          Vegas\n",
       "6  701    Jim   25000    Los Angeles\n",
       "7  801  Ricky   75000        Chicago"
      ]
     },
     "execution_count": 578,
     "metadata": {},
     "output_type": "execute_result"
    }
   ],
   "source": [
    "df"
   ]
  },
  {
   "cell_type": "markdown",
   "metadata": {},
   "source": [
    "So we can see here that index has been reset and old index column has also been dropped"
   ]
  },
  {
   "cell_type": "markdown",
   "metadata": {},
   "source": [
    "Let us try to assign an existing column as an index. We will use the above DataFrame."
   ]
  },
  {
   "cell_type": "code",
   "execution_count": 579,
   "metadata": {},
   "outputs": [
    {
     "data": {
      "text/html": [
       "<div>\n",
       "<style scoped>\n",
       "    .dataframe tbody tr th:only-of-type {\n",
       "        vertical-align: middle;\n",
       "    }\n",
       "\n",
       "    .dataframe tbody tr th {\n",
       "        vertical-align: top;\n",
       "    }\n",
       "\n",
       "    .dataframe thead th {\n",
       "        text-align: right;\n",
       "    }\n",
       "</style>\n",
       "<table border=\"1\" class=\"dataframe\">\n",
       "  <thead>\n",
       "    <tr style=\"text-align: right;\">\n",
       "      <th></th>\n",
       "      <th>ID</th>\n",
       "      <th>Name</th>\n",
       "      <th>Income</th>\n",
       "    </tr>\n",
       "    <tr>\n",
       "      <th>City</th>\n",
       "      <th></th>\n",
       "      <th></th>\n",
       "      <th></th>\n",
       "    </tr>\n",
       "  </thead>\n",
       "  <tbody>\n",
       "    <tr>\n",
       "      <th>Chicago</th>\n",
       "      <td>101</td>\n",
       "      <td>James</td>\n",
       "      <td>50000</td>\n",
       "    </tr>\n",
       "    <tr>\n",
       "      <th>New York</th>\n",
       "      <td>201</td>\n",
       "      <td>Tom</td>\n",
       "      <td>35000</td>\n",
       "    </tr>\n",
       "    <tr>\n",
       "      <th>Dallas</th>\n",
       "      <td>301</td>\n",
       "      <td>Starc</td>\n",
       "      <td>20000</td>\n",
       "    </tr>\n",
       "    <tr>\n",
       "      <th>Los Angeles</th>\n",
       "      <td>401</td>\n",
       "      <td>Phil</td>\n",
       "      <td>100000</td>\n",
       "    </tr>\n",
       "    <tr>\n",
       "      <th>San Francisco</th>\n",
       "      <td>501</td>\n",
       "      <td>Rick</td>\n",
       "      <td>42000</td>\n",
       "    </tr>\n",
       "    <tr>\n",
       "      <th>Vegas</th>\n",
       "      <td>601</td>\n",
       "      <td>Harry</td>\n",
       "      <td>135000</td>\n",
       "    </tr>\n",
       "    <tr>\n",
       "      <th>Los Angeles</th>\n",
       "      <td>701</td>\n",
       "      <td>Jim</td>\n",
       "      <td>25000</td>\n",
       "    </tr>\n",
       "    <tr>\n",
       "      <th>Chicago</th>\n",
       "      <td>801</td>\n",
       "      <td>Ricky</td>\n",
       "      <td>75000</td>\n",
       "    </tr>\n",
       "  </tbody>\n",
       "</table>\n",
       "</div>"
      ],
      "text/plain": [
       "                ID   Name  Income\n",
       "City                             \n",
       "Chicago        101  James   50000\n",
       "New York       201    Tom   35000\n",
       "Dallas         301  Starc   20000\n",
       "Los Angeles    401   Phil  100000\n",
       "San Francisco  501   Rick   42000\n",
       "Vegas          601  Harry  135000\n",
       "Los Angeles    701    Jim   25000\n",
       "Chicago        801  Ricky   75000"
      ]
     },
     "execution_count": 579,
     "metadata": {},
     "output_type": "execute_result"
    }
   ],
   "source": [
    "# Setting City as an index\n",
    "df.set_index('City')"
   ]
  },
  {
   "cell_type": "markdown",
   "metadata": {},
   "source": [
    "To make this change happen in original DataFrame, we will have to use inplace = True "
   ]
  },
  {
   "cell_type": "markdown",
   "metadata": {},
   "source": [
    "#### Missing Values"
   ]
  },
  {
   "cell_type": "markdown",
   "metadata": {},
   "source": [
    "Missing values are very important in any Data Preperation process. Treating missing values invloves a lot of steps - Identifying\n",
    "missing values and imputing values. Let us create a DataFrame where we have Missing Values"
   ]
  },
  {
   "cell_type": "code",
   "execution_count": 580,
   "metadata": {},
   "outputs": [],
   "source": [
    "# Consider following data Frame:\n",
    "data = [[101, 'James', 50000, 'Chicago', 27], [201, 'Tom', 35000, 'New York', 33], [301, 'Starc', 20000, 'Dallas', 21], \n",
    "        [401, 'Phil', 100000, np.nan, 40], [501, 'Rick', np.nan, 'San Francisco', np.nan], \n",
    "        [601, 'Harry', 135000, 'Vegas', 44], [701, 'Jim', 25000, 'Los Angeles', 24], [801, 'Ricky', 75000, 'Chicago', np.nan]]"
   ]
  },
  {
   "cell_type": "code",
   "execution_count": 581,
   "metadata": {},
   "outputs": [],
   "source": [
    "columns = ['Id', 'Names', 'Income', 'City', 'Age']"
   ]
  },
  {
   "cell_type": "code",
   "execution_count": 582,
   "metadata": {},
   "outputs": [],
   "source": [
    "df = pd.DataFrame(data, columns = columns)"
   ]
  },
  {
   "cell_type": "code",
   "execution_count": 583,
   "metadata": {},
   "outputs": [
    {
     "data": {
      "text/html": [
       "<div>\n",
       "<style scoped>\n",
       "    .dataframe tbody tr th:only-of-type {\n",
       "        vertical-align: middle;\n",
       "    }\n",
       "\n",
       "    .dataframe tbody tr th {\n",
       "        vertical-align: top;\n",
       "    }\n",
       "\n",
       "    .dataframe thead th {\n",
       "        text-align: right;\n",
       "    }\n",
       "</style>\n",
       "<table border=\"1\" class=\"dataframe\">\n",
       "  <thead>\n",
       "    <tr style=\"text-align: right;\">\n",
       "      <th></th>\n",
       "      <th>Id</th>\n",
       "      <th>Names</th>\n",
       "      <th>Income</th>\n",
       "      <th>City</th>\n",
       "      <th>Age</th>\n",
       "    </tr>\n",
       "  </thead>\n",
       "  <tbody>\n",
       "    <tr>\n",
       "      <th>0</th>\n",
       "      <td>101</td>\n",
       "      <td>James</td>\n",
       "      <td>50000.0</td>\n",
       "      <td>Chicago</td>\n",
       "      <td>27.0</td>\n",
       "    </tr>\n",
       "    <tr>\n",
       "      <th>1</th>\n",
       "      <td>201</td>\n",
       "      <td>Tom</td>\n",
       "      <td>35000.0</td>\n",
       "      <td>New York</td>\n",
       "      <td>33.0</td>\n",
       "    </tr>\n",
       "    <tr>\n",
       "      <th>2</th>\n",
       "      <td>301</td>\n",
       "      <td>Starc</td>\n",
       "      <td>20000.0</td>\n",
       "      <td>Dallas</td>\n",
       "      <td>21.0</td>\n",
       "    </tr>\n",
       "    <tr>\n",
       "      <th>3</th>\n",
       "      <td>401</td>\n",
       "      <td>Phil</td>\n",
       "      <td>100000.0</td>\n",
       "      <td>NaN</td>\n",
       "      <td>40.0</td>\n",
       "    </tr>\n",
       "    <tr>\n",
       "      <th>4</th>\n",
       "      <td>501</td>\n",
       "      <td>Rick</td>\n",
       "      <td>NaN</td>\n",
       "      <td>San Francisco</td>\n",
       "      <td>NaN</td>\n",
       "    </tr>\n",
       "    <tr>\n",
       "      <th>5</th>\n",
       "      <td>601</td>\n",
       "      <td>Harry</td>\n",
       "      <td>135000.0</td>\n",
       "      <td>Vegas</td>\n",
       "      <td>44.0</td>\n",
       "    </tr>\n",
       "    <tr>\n",
       "      <th>6</th>\n",
       "      <td>701</td>\n",
       "      <td>Jim</td>\n",
       "      <td>25000.0</td>\n",
       "      <td>Los Angeles</td>\n",
       "      <td>24.0</td>\n",
       "    </tr>\n",
       "    <tr>\n",
       "      <th>7</th>\n",
       "      <td>801</td>\n",
       "      <td>Ricky</td>\n",
       "      <td>75000.0</td>\n",
       "      <td>Chicago</td>\n",
       "      <td>NaN</td>\n",
       "    </tr>\n",
       "  </tbody>\n",
       "</table>\n",
       "</div>"
      ],
      "text/plain": [
       "    Id  Names    Income           City   Age\n",
       "0  101  James   50000.0        Chicago  27.0\n",
       "1  201    Tom   35000.0       New York  33.0\n",
       "2  301  Starc   20000.0         Dallas  21.0\n",
       "3  401   Phil  100000.0            NaN  40.0\n",
       "4  501   Rick       NaN  San Francisco   NaN\n",
       "5  601  Harry  135000.0          Vegas  44.0\n",
       "6  701    Jim   25000.0    Los Angeles  24.0\n",
       "7  801  Ricky   75000.0        Chicago   NaN"
      ]
     },
     "execution_count": 583,
     "metadata": {},
     "output_type": "execute_result"
    }
   ],
   "source": [
    "df"
   ]
  },
  {
   "cell_type": "markdown",
   "metadata": {},
   "source": [
    "##### Identifying Null/ Missing Values"
   ]
  },
  {
   "cell_type": "code",
   "execution_count": 584,
   "metadata": {},
   "outputs": [
    {
     "data": {
      "text/html": [
       "<div>\n",
       "<style scoped>\n",
       "    .dataframe tbody tr th:only-of-type {\n",
       "        vertical-align: middle;\n",
       "    }\n",
       "\n",
       "    .dataframe tbody tr th {\n",
       "        vertical-align: top;\n",
       "    }\n",
       "\n",
       "    .dataframe thead th {\n",
       "        text-align: right;\n",
       "    }\n",
       "</style>\n",
       "<table border=\"1\" class=\"dataframe\">\n",
       "  <thead>\n",
       "    <tr style=\"text-align: right;\">\n",
       "      <th></th>\n",
       "      <th>Id</th>\n",
       "      <th>Names</th>\n",
       "      <th>Income</th>\n",
       "      <th>City</th>\n",
       "      <th>Age</th>\n",
       "    </tr>\n",
       "  </thead>\n",
       "  <tbody>\n",
       "    <tr>\n",
       "      <th>0</th>\n",
       "      <td>False</td>\n",
       "      <td>False</td>\n",
       "      <td>False</td>\n",
       "      <td>False</td>\n",
       "      <td>False</td>\n",
       "    </tr>\n",
       "    <tr>\n",
       "      <th>1</th>\n",
       "      <td>False</td>\n",
       "      <td>False</td>\n",
       "      <td>False</td>\n",
       "      <td>False</td>\n",
       "      <td>False</td>\n",
       "    </tr>\n",
       "    <tr>\n",
       "      <th>2</th>\n",
       "      <td>False</td>\n",
       "      <td>False</td>\n",
       "      <td>False</td>\n",
       "      <td>False</td>\n",
       "      <td>False</td>\n",
       "    </tr>\n",
       "    <tr>\n",
       "      <th>3</th>\n",
       "      <td>False</td>\n",
       "      <td>False</td>\n",
       "      <td>False</td>\n",
       "      <td>True</td>\n",
       "      <td>False</td>\n",
       "    </tr>\n",
       "    <tr>\n",
       "      <th>4</th>\n",
       "      <td>False</td>\n",
       "      <td>False</td>\n",
       "      <td>True</td>\n",
       "      <td>False</td>\n",
       "      <td>True</td>\n",
       "    </tr>\n",
       "    <tr>\n",
       "      <th>5</th>\n",
       "      <td>False</td>\n",
       "      <td>False</td>\n",
       "      <td>False</td>\n",
       "      <td>False</td>\n",
       "      <td>False</td>\n",
       "    </tr>\n",
       "    <tr>\n",
       "      <th>6</th>\n",
       "      <td>False</td>\n",
       "      <td>False</td>\n",
       "      <td>False</td>\n",
       "      <td>False</td>\n",
       "      <td>False</td>\n",
       "    </tr>\n",
       "    <tr>\n",
       "      <th>7</th>\n",
       "      <td>False</td>\n",
       "      <td>False</td>\n",
       "      <td>False</td>\n",
       "      <td>False</td>\n",
       "      <td>True</td>\n",
       "    </tr>\n",
       "  </tbody>\n",
       "</table>\n",
       "</div>"
      ],
      "text/plain": [
       "      Id  Names  Income   City    Age\n",
       "0  False  False   False  False  False\n",
       "1  False  False   False  False  False\n",
       "2  False  False   False  False  False\n",
       "3  False  False   False   True  False\n",
       "4  False  False    True  False   True\n",
       "5  False  False   False  False  False\n",
       "6  False  False   False  False  False\n",
       "7  False  False   False  False   True"
      ]
     },
     "execution_count": 584,
     "metadata": {},
     "output_type": "execute_result"
    }
   ],
   "source": [
    "df.isnull()"
   ]
  },
  {
   "cell_type": "markdown",
   "metadata": {},
   "source": [
    "Code df.isnull() will check each and every cell and return TRUE or FALSE depending on the condition. It will not be a good idea \n",
    "to run this code over a large DataFrame as it will be difficult to analyze which cell has Missing Value. So let us try to get\n",
    "overall count of Missing Values, count of Missing Values in each column ..."
   ]
  },
  {
   "cell_type": "code",
   "execution_count": 585,
   "metadata": {},
   "outputs": [
    {
     "data": {
      "text/plain": [
       "Id        0\n",
       "Names     0\n",
       "Income    1\n",
       "City      1\n",
       "Age       2\n",
       "dtype: int64"
      ]
     },
     "execution_count": 585,
     "metadata": {},
     "output_type": "execute_result"
    }
   ],
   "source": [
    "# Counting Missing values in each column\n",
    "df.isnull().sum()"
   ]
  },
  {
   "cell_type": "code",
   "execution_count": 586,
   "metadata": {},
   "outputs": [
    {
     "data": {
      "text/plain": [
       "4"
      ]
     },
     "execution_count": 586,
     "metadata": {},
     "output_type": "execute_result"
    }
   ],
   "source": [
    "# Counting total number of Missing values in the entire DataFrame\n",
    "df.isnull().sum().sum()"
   ]
  },
  {
   "cell_type": "markdown",
   "metadata": {},
   "source": [
    "So with above two codes we could easily understand number of missing values present in the entire DataFrame and each column.\n",
    "This gives us more understanding on the data availability for each column also a starting point"
   ]
  },
  {
   "cell_type": "markdown",
   "metadata": {},
   "source": [
    "Let us now go one step further by calculating % of Missing values in each column. This is very important as count does not give\n",
    "a clear picture on data availability, especially when you are comparing missing value distribution of each column. You might\n",
    "be interested in rejecting in a column from your analysis depending on the % of data availability"
   ]
  },
  {
   "cell_type": "code",
   "execution_count": 587,
   "metadata": {},
   "outputs": [
    {
     "data": {
      "text/plain": [
       "Id         0.0\n",
       "Names      0.0\n",
       "Income    12.5\n",
       "City      12.5\n",
       "Age       25.0\n",
       "dtype: float64"
      ]
     },
     "execution_count": 587,
     "metadata": {},
     "output_type": "execute_result"
    }
   ],
   "source": [
    "# Calculating % of Missing values in each column\n",
    "df.isnull().sum() * 100/len(df)"
   ]
  },
  {
   "cell_type": "markdown",
   "metadata": {},
   "source": [
    "If you notice, above output is a series and can be easily converted to a DataFrame. Let us do it"
   ]
  },
  {
   "cell_type": "code",
   "execution_count": 588,
   "metadata": {},
   "outputs": [],
   "source": [
    "x = pd.DataFrame(df.isnull().sum() * 100/len(df))"
   ]
  },
  {
   "cell_type": "code",
   "execution_count": 589,
   "metadata": {},
   "outputs": [
    {
     "data": {
      "text/html": [
       "<div>\n",
       "<style scoped>\n",
       "    .dataframe tbody tr th:only-of-type {\n",
       "        vertical-align: middle;\n",
       "    }\n",
       "\n",
       "    .dataframe tbody tr th {\n",
       "        vertical-align: top;\n",
       "    }\n",
       "\n",
       "    .dataframe thead th {\n",
       "        text-align: right;\n",
       "    }\n",
       "</style>\n",
       "<table border=\"1\" class=\"dataframe\">\n",
       "  <thead>\n",
       "    <tr style=\"text-align: right;\">\n",
       "      <th></th>\n",
       "      <th>0</th>\n",
       "    </tr>\n",
       "  </thead>\n",
       "  <tbody>\n",
       "    <tr>\n",
       "      <th>Id</th>\n",
       "      <td>0.0</td>\n",
       "    </tr>\n",
       "    <tr>\n",
       "      <th>Names</th>\n",
       "      <td>0.0</td>\n",
       "    </tr>\n",
       "    <tr>\n",
       "      <th>Income</th>\n",
       "      <td>12.5</td>\n",
       "    </tr>\n",
       "    <tr>\n",
       "      <th>City</th>\n",
       "      <td>12.5</td>\n",
       "    </tr>\n",
       "    <tr>\n",
       "      <th>Age</th>\n",
       "      <td>25.0</td>\n",
       "    </tr>\n",
       "  </tbody>\n",
       "</table>\n",
       "</div>"
      ],
      "text/plain": [
       "           0\n",
       "Id       0.0\n",
       "Names    0.0\n",
       "Income  12.5\n",
       "City    12.5\n",
       "Age     25.0"
      ]
     },
     "execution_count": 589,
     "metadata": {},
     "output_type": "execute_result"
    }
   ],
   "source": [
    "x"
   ]
  },
  {
   "cell_type": "code",
   "execution_count": 590,
   "metadata": {},
   "outputs": [
    {
     "data": {
      "text/html": [
       "<div>\n",
       "<style scoped>\n",
       "    .dataframe tbody tr th:only-of-type {\n",
       "        vertical-align: middle;\n",
       "    }\n",
       "\n",
       "    .dataframe tbody tr th {\n",
       "        vertical-align: top;\n",
       "    }\n",
       "\n",
       "    .dataframe thead th {\n",
       "        text-align: right;\n",
       "    }\n",
       "</style>\n",
       "<table border=\"1\" class=\"dataframe\">\n",
       "  <thead>\n",
       "    <tr style=\"text-align: right;\">\n",
       "      <th></th>\n",
       "      <th>index</th>\n",
       "      <th>0</th>\n",
       "    </tr>\n",
       "  </thead>\n",
       "  <tbody>\n",
       "    <tr>\n",
       "      <th>0</th>\n",
       "      <td>Id</td>\n",
       "      <td>0.0</td>\n",
       "    </tr>\n",
       "    <tr>\n",
       "      <th>1</th>\n",
       "      <td>Names</td>\n",
       "      <td>0.0</td>\n",
       "    </tr>\n",
       "    <tr>\n",
       "      <th>2</th>\n",
       "      <td>Income</td>\n",
       "      <td>12.5</td>\n",
       "    </tr>\n",
       "    <tr>\n",
       "      <th>3</th>\n",
       "      <td>City</td>\n",
       "      <td>12.5</td>\n",
       "    </tr>\n",
       "    <tr>\n",
       "      <th>4</th>\n",
       "      <td>Age</td>\n",
       "      <td>25.0</td>\n",
       "    </tr>\n",
       "  </tbody>\n",
       "</table>\n",
       "</div>"
      ],
      "text/plain": [
       "    index     0\n",
       "0      Id   0.0\n",
       "1   Names   0.0\n",
       "2  Income  12.5\n",
       "3    City  12.5\n",
       "4     Age  25.0"
      ]
     },
     "execution_count": 590,
     "metadata": {},
     "output_type": "execute_result"
    }
   ],
   "source": [
    "x.reset_index()"
   ]
  },
  {
   "cell_type": "markdown",
   "metadata": {},
   "source": [
    "##### Dropping Null Values"
   ]
  },
  {
   "cell_type": "markdown",
   "metadata": {},
   "source": [
    "It is important to understand on what basis do we drop a column or a row. For example it will be meaningful to drop a row\n",
    "which has most of its data missing or drop a column which has maximum number of data points missing. Let us understand on how to\n",
    "drop Missing values"
   ]
  },
  {
   "cell_type": "code",
   "execution_count": 591,
   "metadata": {},
   "outputs": [
    {
     "data": {
      "text/html": [
       "<div>\n",
       "<style scoped>\n",
       "    .dataframe tbody tr th:only-of-type {\n",
       "        vertical-align: middle;\n",
       "    }\n",
       "\n",
       "    .dataframe tbody tr th {\n",
       "        vertical-align: top;\n",
       "    }\n",
       "\n",
       "    .dataframe thead th {\n",
       "        text-align: right;\n",
       "    }\n",
       "</style>\n",
       "<table border=\"1\" class=\"dataframe\">\n",
       "  <thead>\n",
       "    <tr style=\"text-align: right;\">\n",
       "      <th></th>\n",
       "      <th>Id</th>\n",
       "      <th>Names</th>\n",
       "      <th>Income</th>\n",
       "      <th>City</th>\n",
       "      <th>Age</th>\n",
       "    </tr>\n",
       "  </thead>\n",
       "  <tbody>\n",
       "    <tr>\n",
       "      <th>0</th>\n",
       "      <td>101</td>\n",
       "      <td>James</td>\n",
       "      <td>50000.0</td>\n",
       "      <td>Chicago</td>\n",
       "      <td>27.0</td>\n",
       "    </tr>\n",
       "    <tr>\n",
       "      <th>1</th>\n",
       "      <td>201</td>\n",
       "      <td>Tom</td>\n",
       "      <td>35000.0</td>\n",
       "      <td>New York</td>\n",
       "      <td>33.0</td>\n",
       "    </tr>\n",
       "    <tr>\n",
       "      <th>2</th>\n",
       "      <td>301</td>\n",
       "      <td>Starc</td>\n",
       "      <td>20000.0</td>\n",
       "      <td>Dallas</td>\n",
       "      <td>21.0</td>\n",
       "    </tr>\n",
       "    <tr>\n",
       "      <th>5</th>\n",
       "      <td>601</td>\n",
       "      <td>Harry</td>\n",
       "      <td>135000.0</td>\n",
       "      <td>Vegas</td>\n",
       "      <td>44.0</td>\n",
       "    </tr>\n",
       "    <tr>\n",
       "      <th>6</th>\n",
       "      <td>701</td>\n",
       "      <td>Jim</td>\n",
       "      <td>25000.0</td>\n",
       "      <td>Los Angeles</td>\n",
       "      <td>24.0</td>\n",
       "    </tr>\n",
       "  </tbody>\n",
       "</table>\n",
       "</div>"
      ],
      "text/plain": [
       "    Id  Names    Income         City   Age\n",
       "0  101  James   50000.0      Chicago  27.0\n",
       "1  201    Tom   35000.0     New York  33.0\n",
       "2  301  Starc   20000.0       Dallas  21.0\n",
       "5  601  Harry  135000.0        Vegas  44.0\n",
       "6  701    Jim   25000.0  Los Angeles  24.0"
      ]
     },
     "execution_count": 591,
     "metadata": {},
     "output_type": "execute_result"
    }
   ],
   "source": [
    "# Drop records/ rows having at least one missing value\n",
    "df.dropna()"
   ]
  },
  {
   "cell_type": "code",
   "execution_count": 592,
   "metadata": {},
   "outputs": [
    {
     "data": {
      "text/html": [
       "<div>\n",
       "<style scoped>\n",
       "    .dataframe tbody tr th:only-of-type {\n",
       "        vertical-align: middle;\n",
       "    }\n",
       "\n",
       "    .dataframe tbody tr th {\n",
       "        vertical-align: top;\n",
       "    }\n",
       "\n",
       "    .dataframe thead th {\n",
       "        text-align: right;\n",
       "    }\n",
       "</style>\n",
       "<table border=\"1\" class=\"dataframe\">\n",
       "  <thead>\n",
       "    <tr style=\"text-align: right;\">\n",
       "      <th></th>\n",
       "      <th>Id</th>\n",
       "      <th>Names</th>\n",
       "    </tr>\n",
       "  </thead>\n",
       "  <tbody>\n",
       "    <tr>\n",
       "      <th>0</th>\n",
       "      <td>101</td>\n",
       "      <td>James</td>\n",
       "    </tr>\n",
       "    <tr>\n",
       "      <th>1</th>\n",
       "      <td>201</td>\n",
       "      <td>Tom</td>\n",
       "    </tr>\n",
       "    <tr>\n",
       "      <th>2</th>\n",
       "      <td>301</td>\n",
       "      <td>Starc</td>\n",
       "    </tr>\n",
       "    <tr>\n",
       "      <th>3</th>\n",
       "      <td>401</td>\n",
       "      <td>Phil</td>\n",
       "    </tr>\n",
       "    <tr>\n",
       "      <th>4</th>\n",
       "      <td>501</td>\n",
       "      <td>Rick</td>\n",
       "    </tr>\n",
       "    <tr>\n",
       "      <th>5</th>\n",
       "      <td>601</td>\n",
       "      <td>Harry</td>\n",
       "    </tr>\n",
       "    <tr>\n",
       "      <th>6</th>\n",
       "      <td>701</td>\n",
       "      <td>Jim</td>\n",
       "    </tr>\n",
       "    <tr>\n",
       "      <th>7</th>\n",
       "      <td>801</td>\n",
       "      <td>Ricky</td>\n",
       "    </tr>\n",
       "  </tbody>\n",
       "</table>\n",
       "</div>"
      ],
      "text/plain": [
       "    Id  Names\n",
       "0  101  James\n",
       "1  201    Tom\n",
       "2  301  Starc\n",
       "3  401   Phil\n",
       "4  501   Rick\n",
       "5  601  Harry\n",
       "6  701    Jim\n",
       "7  801  Ricky"
      ]
     },
     "execution_count": 592,
     "metadata": {},
     "output_type": "execute_result"
    }
   ],
   "source": [
    "# Drops columns having at least one missing value\n",
    "df.dropna(axis = 1)"
   ]
  },
  {
   "cell_type": "markdown",
   "metadata": {},
   "source": [
    "So argument axis by default is set to 0 which will delete rows. Agument axis = 1 will drop columns with at least one missing\n",
    "value. Now it will not be fair to drop a row or column with even one missing value. It will be good to analyse the missing \n",
    "value distribution across dataset and then decide on deletion of rows/ columns."
   ]
  },
  {
   "cell_type": "code",
   "execution_count": 593,
   "metadata": {},
   "outputs": [
    {
     "data": {
      "text/html": [
       "<div>\n",
       "<style scoped>\n",
       "    .dataframe tbody tr th:only-of-type {\n",
       "        vertical-align: middle;\n",
       "    }\n",
       "\n",
       "    .dataframe tbody tr th {\n",
       "        vertical-align: top;\n",
       "    }\n",
       "\n",
       "    .dataframe thead th {\n",
       "        text-align: right;\n",
       "    }\n",
       "</style>\n",
       "<table border=\"1\" class=\"dataframe\">\n",
       "  <thead>\n",
       "    <tr style=\"text-align: right;\">\n",
       "      <th></th>\n",
       "      <th>0</th>\n",
       "    </tr>\n",
       "  </thead>\n",
       "  <tbody>\n",
       "    <tr>\n",
       "      <th>Id</th>\n",
       "      <td>0.0</td>\n",
       "    </tr>\n",
       "    <tr>\n",
       "      <th>Names</th>\n",
       "      <td>0.0</td>\n",
       "    </tr>\n",
       "    <tr>\n",
       "      <th>Income</th>\n",
       "      <td>12.5</td>\n",
       "    </tr>\n",
       "    <tr>\n",
       "      <th>City</th>\n",
       "      <td>12.5</td>\n",
       "    </tr>\n",
       "    <tr>\n",
       "      <th>Age</th>\n",
       "      <td>25.0</td>\n",
       "    </tr>\n",
       "  </tbody>\n",
       "</table>\n",
       "</div>"
      ],
      "text/plain": [
       "           0\n",
       "Id       0.0\n",
       "Names    0.0\n",
       "Income  12.5\n",
       "City    12.5\n",
       "Age     25.0"
      ]
     },
     "execution_count": 593,
     "metadata": {},
     "output_type": "execute_result"
    }
   ],
   "source": [
    "# Refering to the 'x' data that we created\n",
    "x"
   ]
  },
  {
   "cell_type": "markdown",
   "metadata": {},
   "source": [
    "Here we see that Age is not present for 25% of the records, so let us try dropping Age from the DataFrame"
   ]
  },
  {
   "cell_type": "code",
   "execution_count": 594,
   "metadata": {},
   "outputs": [
    {
     "data": {
      "text/html": [
       "<div>\n",
       "<style scoped>\n",
       "    .dataframe tbody tr th:only-of-type {\n",
       "        vertical-align: middle;\n",
       "    }\n",
       "\n",
       "    .dataframe tbody tr th {\n",
       "        vertical-align: top;\n",
       "    }\n",
       "\n",
       "    .dataframe thead th {\n",
       "        text-align: right;\n",
       "    }\n",
       "</style>\n",
       "<table border=\"1\" class=\"dataframe\">\n",
       "  <thead>\n",
       "    <tr style=\"text-align: right;\">\n",
       "      <th></th>\n",
       "      <th>Id</th>\n",
       "      <th>Names</th>\n",
       "      <th>Income</th>\n",
       "      <th>City</th>\n",
       "    </tr>\n",
       "  </thead>\n",
       "  <tbody>\n",
       "    <tr>\n",
       "      <th>0</th>\n",
       "      <td>101</td>\n",
       "      <td>James</td>\n",
       "      <td>50000.0</td>\n",
       "      <td>Chicago</td>\n",
       "    </tr>\n",
       "    <tr>\n",
       "      <th>1</th>\n",
       "      <td>201</td>\n",
       "      <td>Tom</td>\n",
       "      <td>35000.0</td>\n",
       "      <td>New York</td>\n",
       "    </tr>\n",
       "    <tr>\n",
       "      <th>2</th>\n",
       "      <td>301</td>\n",
       "      <td>Starc</td>\n",
       "      <td>20000.0</td>\n",
       "      <td>Dallas</td>\n",
       "    </tr>\n",
       "    <tr>\n",
       "      <th>3</th>\n",
       "      <td>401</td>\n",
       "      <td>Phil</td>\n",
       "      <td>100000.0</td>\n",
       "      <td>NaN</td>\n",
       "    </tr>\n",
       "    <tr>\n",
       "      <th>4</th>\n",
       "      <td>501</td>\n",
       "      <td>Rick</td>\n",
       "      <td>NaN</td>\n",
       "      <td>San Francisco</td>\n",
       "    </tr>\n",
       "    <tr>\n",
       "      <th>5</th>\n",
       "      <td>601</td>\n",
       "      <td>Harry</td>\n",
       "      <td>135000.0</td>\n",
       "      <td>Vegas</td>\n",
       "    </tr>\n",
       "    <tr>\n",
       "      <th>6</th>\n",
       "      <td>701</td>\n",
       "      <td>Jim</td>\n",
       "      <td>25000.0</td>\n",
       "      <td>Los Angeles</td>\n",
       "    </tr>\n",
       "    <tr>\n",
       "      <th>7</th>\n",
       "      <td>801</td>\n",
       "      <td>Ricky</td>\n",
       "      <td>75000.0</td>\n",
       "      <td>Chicago</td>\n",
       "    </tr>\n",
       "  </tbody>\n",
       "</table>\n",
       "</div>"
      ],
      "text/plain": [
       "    Id  Names    Income           City\n",
       "0  101  James   50000.0        Chicago\n",
       "1  201    Tom   35000.0       New York\n",
       "2  301  Starc   20000.0         Dallas\n",
       "3  401   Phil  100000.0            NaN\n",
       "4  501   Rick       NaN  San Francisco\n",
       "5  601  Harry  135000.0          Vegas\n",
       "6  701    Jim   25000.0    Los Angeles\n",
       "7  801  Ricky   75000.0        Chicago"
      ]
     },
     "execution_count": 594,
     "metadata": {},
     "output_type": "execute_result"
    }
   ],
   "source": [
    "# Dropping column Age\n",
    "df.drop(['Age'], axis = 1)"
   ]
  },
  {
   "cell_type": "markdown",
   "metadata": {},
   "source": [
    "Now we have seen how we can drop columns. For deciding on the logic for deleting rows/ records we need to check for how many \n",
    "variables the data is missing. For example for a particular record data might be missing for all the variables or for most of\n",
    "the variables. In the above example we have five columns, so let us delete records where data is missing for 2 or more variables.\n",
    "Now let us check on how we can delete rows/ records"
   ]
  },
  {
   "cell_type": "code",
   "execution_count": 596,
   "metadata": {},
   "outputs": [
    {
     "data": {
      "text/html": [
       "<div>\n",
       "<style scoped>\n",
       "    .dataframe tbody tr th:only-of-type {\n",
       "        vertical-align: middle;\n",
       "    }\n",
       "\n",
       "    .dataframe tbody tr th {\n",
       "        vertical-align: top;\n",
       "    }\n",
       "\n",
       "    .dataframe thead th {\n",
       "        text-align: right;\n",
       "    }\n",
       "</style>\n",
       "<table border=\"1\" class=\"dataframe\">\n",
       "  <thead>\n",
       "    <tr style=\"text-align: right;\">\n",
       "      <th></th>\n",
       "      <th>Id</th>\n",
       "      <th>Names</th>\n",
       "      <th>Income</th>\n",
       "      <th>City</th>\n",
       "      <th>Age</th>\n",
       "    </tr>\n",
       "  </thead>\n",
       "  <tbody>\n",
       "    <tr>\n",
       "      <th>0</th>\n",
       "      <td>101</td>\n",
       "      <td>James</td>\n",
       "      <td>50000.0</td>\n",
       "      <td>Chicago</td>\n",
       "      <td>27.0</td>\n",
       "    </tr>\n",
       "    <tr>\n",
       "      <th>1</th>\n",
       "      <td>201</td>\n",
       "      <td>Tom</td>\n",
       "      <td>35000.0</td>\n",
       "      <td>New York</td>\n",
       "      <td>33.0</td>\n",
       "    </tr>\n",
       "    <tr>\n",
       "      <th>2</th>\n",
       "      <td>301</td>\n",
       "      <td>Starc</td>\n",
       "      <td>20000.0</td>\n",
       "      <td>Dallas</td>\n",
       "      <td>21.0</td>\n",
       "    </tr>\n",
       "    <tr>\n",
       "      <th>3</th>\n",
       "      <td>401</td>\n",
       "      <td>Phil</td>\n",
       "      <td>100000.0</td>\n",
       "      <td>NaN</td>\n",
       "      <td>40.0</td>\n",
       "    </tr>\n",
       "    <tr>\n",
       "      <th>5</th>\n",
       "      <td>601</td>\n",
       "      <td>Harry</td>\n",
       "      <td>135000.0</td>\n",
       "      <td>Vegas</td>\n",
       "      <td>44.0</td>\n",
       "    </tr>\n",
       "    <tr>\n",
       "      <th>6</th>\n",
       "      <td>701</td>\n",
       "      <td>Jim</td>\n",
       "      <td>25000.0</td>\n",
       "      <td>Los Angeles</td>\n",
       "      <td>24.0</td>\n",
       "    </tr>\n",
       "    <tr>\n",
       "      <th>7</th>\n",
       "      <td>801</td>\n",
       "      <td>Ricky</td>\n",
       "      <td>75000.0</td>\n",
       "      <td>Chicago</td>\n",
       "      <td>NaN</td>\n",
       "    </tr>\n",
       "  </tbody>\n",
       "</table>\n",
       "</div>"
      ],
      "text/plain": [
       "    Id  Names    Income         City   Age\n",
       "0  101  James   50000.0      Chicago  27.0\n",
       "1  201    Tom   35000.0     New York  33.0\n",
       "2  301  Starc   20000.0       Dallas  21.0\n",
       "3  401   Phil  100000.0          NaN  40.0\n",
       "5  601  Harry  135000.0        Vegas  44.0\n",
       "6  701    Jim   25000.0  Los Angeles  24.0\n",
       "7  801  Ricky   75000.0      Chicago   NaN"
      ]
     },
     "execution_count": 596,
     "metadata": {},
     "output_type": "execute_result"
    }
   ],
   "source": [
    "# Dropping records where data is available for at least 4 of the variables\n",
    "df.dropna(thresh = 4)"
   ]
  },
  {
   "cell_type": "markdown",
   "metadata": {},
   "source": [
    "So row with index 4 has been deleted from the DataFrame as it has data vailable only for 3 variables."
   ]
  },
  {
   "cell_type": "markdown",
   "metadata": {},
   "source": [
    "##### Imputing Missing Values"
   ]
  },
  {
   "cell_type": "markdown",
   "metadata": {},
   "source": [
    "Imputing Null values is nothing but Missing Value Treatment. There are lot of techniques by which you can do this. You can\n",
    "impute the missing value by mean, median, mode or use regression method. Let us discuss impute missing values by mean, median or\n",
    "mode"
   ]
  },
  {
   "cell_type": "code",
   "execution_count": 597,
   "metadata": {},
   "outputs": [
    {
     "data": {
      "text/plain": [
       "0    27.0\n",
       "1    33.0\n",
       "2    21.0\n",
       "3    40.0\n",
       "4    31.5\n",
       "5    44.0\n",
       "6    24.0\n",
       "7    31.5\n",
       "Name: Age, dtype: float64"
      ]
     },
     "execution_count": 597,
     "metadata": {},
     "output_type": "execute_result"
    }
   ],
   "source": [
    "# Imputing missing values of age by mean of age (mean of age will be taken wherever age is present)\n",
    "df['Age'].fillna(df['Age'].mean())"
   ]
  },
  {
   "cell_type": "markdown",
   "metadata": {},
   "source": [
    "So mean age is 31.5 which has been put in place wherever age was missing"
   ]
  },
  {
   "cell_type": "code",
   "execution_count": 598,
   "metadata": {},
   "outputs": [
    {
     "data": {
      "text/plain": [
       "0    27.0\n",
       "1    33.0\n",
       "2    21.0\n",
       "3    40.0\n",
       "4    30.0\n",
       "5    44.0\n",
       "6    24.0\n",
       "7    30.0\n",
       "Name: Age, dtype: float64"
      ]
     },
     "execution_count": 598,
     "metadata": {},
     "output_type": "execute_result"
    }
   ],
   "source": [
    "# Imputing missing values of age by median of age (median of age will be taken wherever age is present)\n",
    "df['Age'].fillna(df['Age'].median())"
   ]
  },
  {
   "cell_type": "markdown",
   "metadata": {},
   "source": [
    "#### Groupby"
   ]
  },
  {
   "cell_type": "markdown",
   "metadata": {},
   "source": [
    "This is very important for summarizing any data. It is used to group data with respect to column using aggregate function like\n",
    "sum or count. People familiar to SQL will have a very good understanding of this. Let us create a dataset on which we can apply\n",
    "groupby function"
   ]
  },
  {
   "cell_type": "code",
   "execution_count": 599,
   "metadata": {},
   "outputs": [],
   "source": [
    "# Consider following data Frame:\n",
    "data = [[101, 'James', 50000, 'Chicago', 27, 'HR', 700000, 'Y'], [201, 'Tom', 35000, 'New York', 33, 'Analytics', 550000, 'Y'], \n",
    "        [301, 'Starc', 20000, 'Dallas', 21, 'IT', 125000, 'N'], [401, 'Phil', 100000, 'Dallas', 40, 'HR', 800000, 'Y'], \n",
    "        [501, 'Rick', np.nan, 'San Francisco', np.nan, 'IT', 75000, 'Y'], \n",
    "        [601, 'Harry', 135000, 'Vegas', 44, 'Marketing', 900000, 'N'], \n",
    "        [701, 'Jim', 25000, 'Los Angeles', 24, 'HR', 350000, 'Y'], \n",
    "        [801, 'Ricky', 75000, 'Chicago', np.nan, 'Analytics', 450000, 'N'],\n",
    "        [901, 'Fin', 85000, 'Vegas', 51, 'Marketing', 600000, 'N'], [1001, 'Grant', 61500, 'New York', 39, 'IT', 75000, 'N'], \n",
    "        [1002, 'Cooper', 31500, 'Dallas', 27, 'IT', 250000, 'N'], \n",
    "        [1003, 'Brand', 40500, 'San Francisco', 49, 'Marketing', 50000, 'N']]"
   ]
  },
  {
   "cell_type": "code",
   "execution_count": 600,
   "metadata": {},
   "outputs": [],
   "source": [
    "columns = ['ID', 'Name', 'Income', 'City', 'Age', 'Department', 'Sales', 'Response']"
   ]
  },
  {
   "cell_type": "code",
   "execution_count": 601,
   "metadata": {},
   "outputs": [],
   "source": [
    "df = pd.DataFrame(data, columns = columns)"
   ]
  },
  {
   "cell_type": "code",
   "execution_count": 602,
   "metadata": {},
   "outputs": [
    {
     "data": {
      "text/html": [
       "<div>\n",
       "<style scoped>\n",
       "    .dataframe tbody tr th:only-of-type {\n",
       "        vertical-align: middle;\n",
       "    }\n",
       "\n",
       "    .dataframe tbody tr th {\n",
       "        vertical-align: top;\n",
       "    }\n",
       "\n",
       "    .dataframe thead th {\n",
       "        text-align: right;\n",
       "    }\n",
       "</style>\n",
       "<table border=\"1\" class=\"dataframe\">\n",
       "  <thead>\n",
       "    <tr style=\"text-align: right;\">\n",
       "      <th></th>\n",
       "      <th>ID</th>\n",
       "      <th>Name</th>\n",
       "      <th>Income</th>\n",
       "      <th>City</th>\n",
       "      <th>Age</th>\n",
       "      <th>Department</th>\n",
       "      <th>Sales</th>\n",
       "      <th>Response</th>\n",
       "    </tr>\n",
       "  </thead>\n",
       "  <tbody>\n",
       "    <tr>\n",
       "      <th>0</th>\n",
       "      <td>101</td>\n",
       "      <td>James</td>\n",
       "      <td>50000.0</td>\n",
       "      <td>Chicago</td>\n",
       "      <td>27.0</td>\n",
       "      <td>HR</td>\n",
       "      <td>700000</td>\n",
       "      <td>Y</td>\n",
       "    </tr>\n",
       "    <tr>\n",
       "      <th>1</th>\n",
       "      <td>201</td>\n",
       "      <td>Tom</td>\n",
       "      <td>35000.0</td>\n",
       "      <td>New York</td>\n",
       "      <td>33.0</td>\n",
       "      <td>Analytics</td>\n",
       "      <td>550000</td>\n",
       "      <td>Y</td>\n",
       "    </tr>\n",
       "    <tr>\n",
       "      <th>2</th>\n",
       "      <td>301</td>\n",
       "      <td>Starc</td>\n",
       "      <td>20000.0</td>\n",
       "      <td>Dallas</td>\n",
       "      <td>21.0</td>\n",
       "      <td>IT</td>\n",
       "      <td>125000</td>\n",
       "      <td>N</td>\n",
       "    </tr>\n",
       "    <tr>\n",
       "      <th>3</th>\n",
       "      <td>401</td>\n",
       "      <td>Phil</td>\n",
       "      <td>100000.0</td>\n",
       "      <td>Dallas</td>\n",
       "      <td>40.0</td>\n",
       "      <td>HR</td>\n",
       "      <td>800000</td>\n",
       "      <td>Y</td>\n",
       "    </tr>\n",
       "    <tr>\n",
       "      <th>4</th>\n",
       "      <td>501</td>\n",
       "      <td>Rick</td>\n",
       "      <td>NaN</td>\n",
       "      <td>San Francisco</td>\n",
       "      <td>NaN</td>\n",
       "      <td>IT</td>\n",
       "      <td>75000</td>\n",
       "      <td>Y</td>\n",
       "    </tr>\n",
       "    <tr>\n",
       "      <th>5</th>\n",
       "      <td>601</td>\n",
       "      <td>Harry</td>\n",
       "      <td>135000.0</td>\n",
       "      <td>Vegas</td>\n",
       "      <td>44.0</td>\n",
       "      <td>Marketing</td>\n",
       "      <td>900000</td>\n",
       "      <td>N</td>\n",
       "    </tr>\n",
       "    <tr>\n",
       "      <th>6</th>\n",
       "      <td>701</td>\n",
       "      <td>Jim</td>\n",
       "      <td>25000.0</td>\n",
       "      <td>Los Angeles</td>\n",
       "      <td>24.0</td>\n",
       "      <td>HR</td>\n",
       "      <td>350000</td>\n",
       "      <td>Y</td>\n",
       "    </tr>\n",
       "    <tr>\n",
       "      <th>7</th>\n",
       "      <td>801</td>\n",
       "      <td>Ricky</td>\n",
       "      <td>75000.0</td>\n",
       "      <td>Chicago</td>\n",
       "      <td>NaN</td>\n",
       "      <td>Analytics</td>\n",
       "      <td>450000</td>\n",
       "      <td>N</td>\n",
       "    </tr>\n",
       "    <tr>\n",
       "      <th>8</th>\n",
       "      <td>901</td>\n",
       "      <td>Fin</td>\n",
       "      <td>85000.0</td>\n",
       "      <td>Vegas</td>\n",
       "      <td>51.0</td>\n",
       "      <td>Marketing</td>\n",
       "      <td>600000</td>\n",
       "      <td>N</td>\n",
       "    </tr>\n",
       "    <tr>\n",
       "      <th>9</th>\n",
       "      <td>1001</td>\n",
       "      <td>Grant</td>\n",
       "      <td>61500.0</td>\n",
       "      <td>New York</td>\n",
       "      <td>39.0</td>\n",
       "      <td>IT</td>\n",
       "      <td>75000</td>\n",
       "      <td>N</td>\n",
       "    </tr>\n",
       "    <tr>\n",
       "      <th>10</th>\n",
       "      <td>1002</td>\n",
       "      <td>Cooper</td>\n",
       "      <td>31500.0</td>\n",
       "      <td>Dallas</td>\n",
       "      <td>27.0</td>\n",
       "      <td>IT</td>\n",
       "      <td>250000</td>\n",
       "      <td>N</td>\n",
       "    </tr>\n",
       "    <tr>\n",
       "      <th>11</th>\n",
       "      <td>1003</td>\n",
       "      <td>Brand</td>\n",
       "      <td>40500.0</td>\n",
       "      <td>San Francisco</td>\n",
       "      <td>49.0</td>\n",
       "      <td>Marketing</td>\n",
       "      <td>50000</td>\n",
       "      <td>N</td>\n",
       "    </tr>\n",
       "  </tbody>\n",
       "</table>\n",
       "</div>"
      ],
      "text/plain": [
       "      ID    Name    Income           City   Age Department   Sales Response\n",
       "0    101   James   50000.0        Chicago  27.0         HR  700000        Y\n",
       "1    201     Tom   35000.0       New York  33.0  Analytics  550000        Y\n",
       "2    301   Starc   20000.0         Dallas  21.0         IT  125000        N\n",
       "3    401    Phil  100000.0         Dallas  40.0         HR  800000        Y\n",
       "4    501    Rick       NaN  San Francisco   NaN         IT   75000        Y\n",
       "5    601   Harry  135000.0          Vegas  44.0  Marketing  900000        N\n",
       "6    701     Jim   25000.0    Los Angeles  24.0         HR  350000        Y\n",
       "7    801   Ricky   75000.0        Chicago   NaN  Analytics  450000        N\n",
       "8    901     Fin   85000.0          Vegas  51.0  Marketing  600000        N\n",
       "9   1001   Grant   61500.0       New York  39.0         IT   75000        N\n",
       "10  1002  Cooper   31500.0         Dallas  27.0         IT  250000        N\n",
       "11  1003   Brand   40500.0  San Francisco  49.0  Marketing   50000        N"
      ]
     },
     "execution_count": 602,
     "metadata": {},
     "output_type": "execute_result"
    }
   ],
   "source": [
    "df"
   ]
  },
  {
   "cell_type": "markdown",
   "metadata": {},
   "source": [
    "Group by process is divided in two 3 steps:\n",
    "1) Identify variables by which we would like to summarize the data\n",
    "2) Create a groupby object and store it in a variable\n",
    "3) Now summarize the data using aggregate functions\n",
    "Let us get started now"
   ]
  },
  {
   "cell_type": "markdown",
   "metadata": {},
   "source": [
    "##### Groupby Single column/ variable"
   ]
  },
  {
   "cell_type": "markdown",
   "metadata": {},
   "source": [
    "Step 1 - Identify variable - City\n",
    "Step 2 - Create a groupby object and store it in a variable"
   ]
  },
  {
   "cell_type": "code",
   "execution_count": 603,
   "metadata": {},
   "outputs": [],
   "source": [
    "by_city = df.groupby('City')"
   ]
  },
  {
   "cell_type": "markdown",
   "metadata": {},
   "source": [
    "Step 3 - Summarize the data using aggregate functions"
   ]
  },
  {
   "cell_type": "code",
   "execution_count": 604,
   "metadata": {},
   "outputs": [
    {
     "data": {
      "text/plain": [
       "City\n",
       "Chicago          1150000\n",
       "Dallas           1175000\n",
       "Los Angeles       350000\n",
       "New York          625000\n",
       "San Francisco     125000\n",
       "Vegas            1500000\n",
       "Name: Sales, dtype: int64"
      ]
     },
     "execution_count": 604,
     "metadata": {},
     "output_type": "execute_result"
    }
   ],
   "source": [
    "# Let us check total sales across cities\n",
    "by_city['Sales'].sum()"
   ]
  },
  {
   "cell_type": "code",
   "execution_count": 605,
   "metadata": {},
   "outputs": [
    {
     "data": {
      "text/plain": [
       "City\n",
       "Chicago          2\n",
       "Dallas           3\n",
       "Los Angeles      1\n",
       "New York         2\n",
       "San Francisco    2\n",
       "Vegas            2\n",
       "Name: ID, dtype: int64"
      ]
     },
     "execution_count": 605,
     "metadata": {},
     "output_type": "execute_result"
    }
   ],
   "source": [
    "# Counting employees across cities\n",
    "by_city['ID'].count()"
   ]
  },
  {
   "cell_type": "code",
   "execution_count": 606,
   "metadata": {},
   "outputs": [
    {
     "data": {
      "text/plain": [
       "City\n",
       "Chicago          27.0\n",
       "Dallas           40.0\n",
       "Los Angeles      24.0\n",
       "New York         39.0\n",
       "San Francisco    49.0\n",
       "Vegas            51.0\n",
       "Name: Age, dtype: float64"
      ]
     },
     "execution_count": 606,
     "metadata": {},
     "output_type": "execute_result"
    }
   ],
   "source": [
    "# Getting max age across cities\n",
    "by_city['Age'].max()"
   ]
  },
  {
   "cell_type": "code",
   "execution_count": 607,
   "metadata": {},
   "outputs": [
    {
     "data": {
      "text/html": [
       "<div>\n",
       "<style scoped>\n",
       "    .dataframe tbody tr th:only-of-type {\n",
       "        vertical-align: middle;\n",
       "    }\n",
       "\n",
       "    .dataframe tbody tr th {\n",
       "        vertical-align: top;\n",
       "    }\n",
       "\n",
       "    .dataframe thead th {\n",
       "        text-align: right;\n",
       "    }\n",
       "</style>\n",
       "<table border=\"1\" class=\"dataframe\">\n",
       "  <thead>\n",
       "    <tr style=\"text-align: right;\">\n",
       "      <th></th>\n",
       "      <th>Income</th>\n",
       "      <th>Sales</th>\n",
       "    </tr>\n",
       "    <tr>\n",
       "      <th>City</th>\n",
       "      <th></th>\n",
       "      <th></th>\n",
       "    </tr>\n",
       "  </thead>\n",
       "  <tbody>\n",
       "    <tr>\n",
       "      <th>Chicago</th>\n",
       "      <td>125000.0</td>\n",
       "      <td>1150000</td>\n",
       "    </tr>\n",
       "    <tr>\n",
       "      <th>Dallas</th>\n",
       "      <td>151500.0</td>\n",
       "      <td>1175000</td>\n",
       "    </tr>\n",
       "    <tr>\n",
       "      <th>Los Angeles</th>\n",
       "      <td>25000.0</td>\n",
       "      <td>350000</td>\n",
       "    </tr>\n",
       "    <tr>\n",
       "      <th>New York</th>\n",
       "      <td>96500.0</td>\n",
       "      <td>625000</td>\n",
       "    </tr>\n",
       "    <tr>\n",
       "      <th>San Francisco</th>\n",
       "      <td>40500.0</td>\n",
       "      <td>125000</td>\n",
       "    </tr>\n",
       "    <tr>\n",
       "      <th>Vegas</th>\n",
       "      <td>220000.0</td>\n",
       "      <td>1500000</td>\n",
       "    </tr>\n",
       "  </tbody>\n",
       "</table>\n",
       "</div>"
      ],
      "text/plain": [
       "                 Income    Sales\n",
       "City                            \n",
       "Chicago        125000.0  1150000\n",
       "Dallas         151500.0  1175000\n",
       "Los Angeles     25000.0   350000\n",
       "New York        96500.0   625000\n",
       "San Francisco   40500.0   125000\n",
       "Vegas          220000.0  1500000"
      ]
     },
     "execution_count": 607,
     "metadata": {},
     "output_type": "execute_result"
    }
   ],
   "source": [
    "by_city['Income', 'Sales'].sum()"
   ]
  },
  {
   "cell_type": "code",
   "execution_count": 608,
   "metadata": {},
   "outputs": [
    {
     "data": {
      "text/html": [
       "<div>\n",
       "<style scoped>\n",
       "    .dataframe tbody tr th:only-of-type {\n",
       "        vertical-align: middle;\n",
       "    }\n",
       "\n",
       "    .dataframe tbody tr th {\n",
       "        vertical-align: top;\n",
       "    }\n",
       "\n",
       "    .dataframe thead th {\n",
       "        text-align: right;\n",
       "    }\n",
       "</style>\n",
       "<table border=\"1\" class=\"dataframe\">\n",
       "  <thead>\n",
       "    <tr style=\"text-align: right;\">\n",
       "      <th></th>\n",
       "      <th>mean</th>\n",
       "      <th>sum</th>\n",
       "      <th>amin</th>\n",
       "      <th>amax</th>\n",
       "      <th>std</th>\n",
       "    </tr>\n",
       "    <tr>\n",
       "      <th>City</th>\n",
       "      <th></th>\n",
       "      <th></th>\n",
       "      <th></th>\n",
       "      <th></th>\n",
       "      <th></th>\n",
       "    </tr>\n",
       "  </thead>\n",
       "  <tbody>\n",
       "    <tr>\n",
       "      <th>Chicago</th>\n",
       "      <td>575000.000000</td>\n",
       "      <td>1150000</td>\n",
       "      <td>450000</td>\n",
       "      <td>700000</td>\n",
       "      <td>176776.695297</td>\n",
       "    </tr>\n",
       "    <tr>\n",
       "      <th>Dallas</th>\n",
       "      <td>391666.666667</td>\n",
       "      <td>1175000</td>\n",
       "      <td>125000</td>\n",
       "      <td>800000</td>\n",
       "      <td>359107.690440</td>\n",
       "    </tr>\n",
       "    <tr>\n",
       "      <th>Los Angeles</th>\n",
       "      <td>350000.000000</td>\n",
       "      <td>350000</td>\n",
       "      <td>350000</td>\n",
       "      <td>350000</td>\n",
       "      <td>NaN</td>\n",
       "    </tr>\n",
       "    <tr>\n",
       "      <th>New York</th>\n",
       "      <td>312500.000000</td>\n",
       "      <td>625000</td>\n",
       "      <td>75000</td>\n",
       "      <td>550000</td>\n",
       "      <td>335875.721064</td>\n",
       "    </tr>\n",
       "    <tr>\n",
       "      <th>San Francisco</th>\n",
       "      <td>62500.000000</td>\n",
       "      <td>125000</td>\n",
       "      <td>50000</td>\n",
       "      <td>75000</td>\n",
       "      <td>17677.669530</td>\n",
       "    </tr>\n",
       "    <tr>\n",
       "      <th>Vegas</th>\n",
       "      <td>750000.000000</td>\n",
       "      <td>1500000</td>\n",
       "      <td>600000</td>\n",
       "      <td>900000</td>\n",
       "      <td>212132.034356</td>\n",
       "    </tr>\n",
       "  </tbody>\n",
       "</table>\n",
       "</div>"
      ],
      "text/plain": [
       "                        mean      sum    amin    amax            std\n",
       "City                                                                \n",
       "Chicago        575000.000000  1150000  450000  700000  176776.695297\n",
       "Dallas         391666.666667  1175000  125000  800000  359107.690440\n",
       "Los Angeles    350000.000000   350000  350000  350000            NaN\n",
       "New York       312500.000000   625000   75000  550000  335875.721064\n",
       "San Francisco   62500.000000   125000   50000   75000   17677.669530\n",
       "Vegas          750000.000000  1500000  600000  900000  212132.034356"
      ]
     },
     "execution_count": 608,
     "metadata": {},
     "output_type": "execute_result"
    }
   ],
   "source": [
    "# Multiple aggregate function\n",
    "by_city['Sales'].agg([np.mean, np.sum, np.min, np.max, np.std])"
   ]
  },
  {
   "cell_type": "markdown",
   "metadata": {},
   "source": [
    "##### Groupby Multiple columns/ variable"
   ]
  },
  {
   "cell_type": "code",
   "execution_count": 609,
   "metadata": {},
   "outputs": [],
   "source": [
    "# Groupby City and Department\n",
    "by_city_dept = df.groupby(['City', 'Department', 'Response'])"
   ]
  },
  {
   "cell_type": "code",
   "execution_count": 610,
   "metadata": {},
   "outputs": [
    {
     "data": {
      "text/html": [
       "<div>\n",
       "<style scoped>\n",
       "    .dataframe tbody tr th:only-of-type {\n",
       "        vertical-align: middle;\n",
       "    }\n",
       "\n",
       "    .dataframe tbody tr th {\n",
       "        vertical-align: top;\n",
       "    }\n",
       "\n",
       "    .dataframe thead th {\n",
       "        text-align: right;\n",
       "    }\n",
       "</style>\n",
       "<table border=\"1\" class=\"dataframe\">\n",
       "  <thead>\n",
       "    <tr style=\"text-align: right;\">\n",
       "      <th></th>\n",
       "      <th></th>\n",
       "      <th></th>\n",
       "      <th>ID</th>\n",
       "    </tr>\n",
       "    <tr>\n",
       "      <th>City</th>\n",
       "      <th>Department</th>\n",
       "      <th>Response</th>\n",
       "      <th></th>\n",
       "    </tr>\n",
       "  </thead>\n",
       "  <tbody>\n",
       "    <tr>\n",
       "      <th rowspan=\"2\" valign=\"top\">Chicago</th>\n",
       "      <th>Analytics</th>\n",
       "      <th>N</th>\n",
       "      <td>1</td>\n",
       "    </tr>\n",
       "    <tr>\n",
       "      <th>HR</th>\n",
       "      <th>Y</th>\n",
       "      <td>1</td>\n",
       "    </tr>\n",
       "    <tr>\n",
       "      <th rowspan=\"2\" valign=\"top\">Dallas</th>\n",
       "      <th>HR</th>\n",
       "      <th>Y</th>\n",
       "      <td>1</td>\n",
       "    </tr>\n",
       "    <tr>\n",
       "      <th>IT</th>\n",
       "      <th>N</th>\n",
       "      <td>2</td>\n",
       "    </tr>\n",
       "    <tr>\n",
       "      <th>Los Angeles</th>\n",
       "      <th>HR</th>\n",
       "      <th>Y</th>\n",
       "      <td>1</td>\n",
       "    </tr>\n",
       "    <tr>\n",
       "      <th rowspan=\"2\" valign=\"top\">New York</th>\n",
       "      <th>Analytics</th>\n",
       "      <th>Y</th>\n",
       "      <td>1</td>\n",
       "    </tr>\n",
       "    <tr>\n",
       "      <th>IT</th>\n",
       "      <th>N</th>\n",
       "      <td>1</td>\n",
       "    </tr>\n",
       "    <tr>\n",
       "      <th rowspan=\"2\" valign=\"top\">San Francisco</th>\n",
       "      <th>IT</th>\n",
       "      <th>Y</th>\n",
       "      <td>1</td>\n",
       "    </tr>\n",
       "    <tr>\n",
       "      <th>Marketing</th>\n",
       "      <th>N</th>\n",
       "      <td>1</td>\n",
       "    </tr>\n",
       "    <tr>\n",
       "      <th>Vegas</th>\n",
       "      <th>Marketing</th>\n",
       "      <th>N</th>\n",
       "      <td>2</td>\n",
       "    </tr>\n",
       "  </tbody>\n",
       "</table>\n",
       "</div>"
      ],
      "text/plain": [
       "                                   ID\n",
       "City          Department Response    \n",
       "Chicago       Analytics  N          1\n",
       "              HR         Y          1\n",
       "Dallas        HR         Y          1\n",
       "              IT         N          2\n",
       "Los Angeles   HR         Y          1\n",
       "New York      Analytics  Y          1\n",
       "              IT         N          1\n",
       "San Francisco IT         Y          1\n",
       "              Marketing  N          1\n",
       "Vegas         Marketing  N          2"
      ]
     },
     "execution_count": 610,
     "metadata": {},
     "output_type": "execute_result"
    }
   ],
   "source": [
    "# Using sum() as an aggregate function\n",
    "pd.DataFrame(by_city_dept['ID'].count())"
   ]
  },
  {
   "cell_type": "markdown",
   "metadata": {},
   "source": [
    "An important observation here, while executing aggregate functions it does not consider Missing values. They are skipped for all\n",
    "the computations"
   ]
  },
  {
   "cell_type": "markdown",
   "metadata": {},
   "source": [
    "#### Concatenation and Merging"
   ]
  },
  {
   "cell_type": "markdown",
   "metadata": {},
   "source": [
    "##### Concatenation"
   ]
  },
  {
   "cell_type": "markdown",
   "metadata": {},
   "source": [
    "Concatenation combines two DataFrames. Function used:\n",
    "pd.concat(objs, axis=0, join='outer', join_axes=None, ignore_index=False)\n",
    "where,\n",
    "objs - DataFrames\n",
    "axis - Along row or column\n",
    "join - Outer or Inner, Outer for union and inner for intersection."
   ]
  },
  {
   "cell_type": "markdown",
   "metadata": {},
   "source": [
    "Let us get started by creating two DataFrames which we can use for understanding concat function"
   ]
  },
  {
   "cell_type": "code",
   "execution_count": 611,
   "metadata": {},
   "outputs": [],
   "source": [
    "# Consider following data Frame:\n",
    "data1 = [[101, 'James', 50000, 'Chicago', 27, 'HR', 700000, 'Y'], \n",
    "         [201, 'Tom', 35000, 'New York', 33, 'Analytics', 550000, 'Y'], \n",
    "         [901, 'Fin', 85000, 'Vegas', 51, 'Marketing', 600000, 'N'], [1001, 'Grant', 61500, 'New York', 39, 'IT', 75000, 'N'], \n",
    "         [1002, 'Cooper', 31500, 'Dallas', 27, 'IT', 250000, 'N'], \n",
    "         [1003, 'Brand', 40500, 'San Francisco', 49, 'Marketing', 50000, 'N']]"
   ]
  },
  {
   "cell_type": "code",
   "execution_count": 612,
   "metadata": {},
   "outputs": [],
   "source": [
    "columns1 = ['ID', 'Name', 'Income', 'City', 'Age', 'Department', 'Sales', 'Response']"
   ]
  },
  {
   "cell_type": "code",
   "execution_count": 613,
   "metadata": {},
   "outputs": [],
   "source": [
    "df1 = pd.DataFrame(data1, columns = columns1)"
   ]
  },
  {
   "cell_type": "code",
   "execution_count": 614,
   "metadata": {},
   "outputs": [
    {
     "data": {
      "text/html": [
       "<div>\n",
       "<style scoped>\n",
       "    .dataframe tbody tr th:only-of-type {\n",
       "        vertical-align: middle;\n",
       "    }\n",
       "\n",
       "    .dataframe tbody tr th {\n",
       "        vertical-align: top;\n",
       "    }\n",
       "\n",
       "    .dataframe thead th {\n",
       "        text-align: right;\n",
       "    }\n",
       "</style>\n",
       "<table border=\"1\" class=\"dataframe\">\n",
       "  <thead>\n",
       "    <tr style=\"text-align: right;\">\n",
       "      <th></th>\n",
       "      <th>ID</th>\n",
       "      <th>Name</th>\n",
       "      <th>Income</th>\n",
       "      <th>City</th>\n",
       "      <th>Age</th>\n",
       "      <th>Department</th>\n",
       "      <th>Sales</th>\n",
       "      <th>Response</th>\n",
       "    </tr>\n",
       "  </thead>\n",
       "  <tbody>\n",
       "    <tr>\n",
       "      <th>0</th>\n",
       "      <td>101</td>\n",
       "      <td>James</td>\n",
       "      <td>50000</td>\n",
       "      <td>Chicago</td>\n",
       "      <td>27</td>\n",
       "      <td>HR</td>\n",
       "      <td>700000</td>\n",
       "      <td>Y</td>\n",
       "    </tr>\n",
       "    <tr>\n",
       "      <th>1</th>\n",
       "      <td>201</td>\n",
       "      <td>Tom</td>\n",
       "      <td>35000</td>\n",
       "      <td>New York</td>\n",
       "      <td>33</td>\n",
       "      <td>Analytics</td>\n",
       "      <td>550000</td>\n",
       "      <td>Y</td>\n",
       "    </tr>\n",
       "    <tr>\n",
       "      <th>2</th>\n",
       "      <td>901</td>\n",
       "      <td>Fin</td>\n",
       "      <td>85000</td>\n",
       "      <td>Vegas</td>\n",
       "      <td>51</td>\n",
       "      <td>Marketing</td>\n",
       "      <td>600000</td>\n",
       "      <td>N</td>\n",
       "    </tr>\n",
       "    <tr>\n",
       "      <th>3</th>\n",
       "      <td>1001</td>\n",
       "      <td>Grant</td>\n",
       "      <td>61500</td>\n",
       "      <td>New York</td>\n",
       "      <td>39</td>\n",
       "      <td>IT</td>\n",
       "      <td>75000</td>\n",
       "      <td>N</td>\n",
       "    </tr>\n",
       "    <tr>\n",
       "      <th>4</th>\n",
       "      <td>1002</td>\n",
       "      <td>Cooper</td>\n",
       "      <td>31500</td>\n",
       "      <td>Dallas</td>\n",
       "      <td>27</td>\n",
       "      <td>IT</td>\n",
       "      <td>250000</td>\n",
       "      <td>N</td>\n",
       "    </tr>\n",
       "    <tr>\n",
       "      <th>5</th>\n",
       "      <td>1003</td>\n",
       "      <td>Brand</td>\n",
       "      <td>40500</td>\n",
       "      <td>San Francisco</td>\n",
       "      <td>49</td>\n",
       "      <td>Marketing</td>\n",
       "      <td>50000</td>\n",
       "      <td>N</td>\n",
       "    </tr>\n",
       "  </tbody>\n",
       "</table>\n",
       "</div>"
      ],
      "text/plain": [
       "     ID    Name  Income           City  Age Department   Sales Response\n",
       "0   101   James   50000        Chicago   27         HR  700000        Y\n",
       "1   201     Tom   35000       New York   33  Analytics  550000        Y\n",
       "2   901     Fin   85000          Vegas   51  Marketing  600000        N\n",
       "3  1001   Grant   61500       New York   39         IT   75000        N\n",
       "4  1002  Cooper   31500         Dallas   27         IT  250000        N\n",
       "5  1003   Brand   40500  San Francisco   49  Marketing   50000        N"
      ]
     },
     "execution_count": 614,
     "metadata": {},
     "output_type": "execute_result"
    }
   ],
   "source": [
    "df1"
   ]
  },
  {
   "cell_type": "code",
   "execution_count": 615,
   "metadata": {},
   "outputs": [],
   "source": [
    "data2 = [[1101, 'James', 50000, 'Chicago', 27, 'HR', 700000, 'Y'], \n",
    "         [2101, 'Tom', 35000, 'New York', 33, 'Analytics', 550000, 'Y'], \n",
    "         [9101, 'Fin', 85000, 'Vegas', 51, 'Marketing', 600000, 'N'], \n",
    "         [11001, 'Grant', 61500, 'New York', 39, 'IT', 75000, 'N'], \n",
    "         [1002, 'Cooper', 31500, 'Dallas', 27, 'IT', 250000, 'N'], \n",
    "         [11003, 'Brand', 40500, 'San Francisco', 49, 'Marketing', 50000, 'N']]"
   ]
  },
  {
   "cell_type": "code",
   "execution_count": 616,
   "metadata": {},
   "outputs": [],
   "source": [
    "columns2 = ['ID', 'Name', 'Income', 'City', 'Age', 'Department', 'Sales', 'Response']"
   ]
  },
  {
   "cell_type": "code",
   "execution_count": 617,
   "metadata": {},
   "outputs": [],
   "source": [
    "df2 = pd.DataFrame(data2, columns = columns2)"
   ]
  },
  {
   "cell_type": "code",
   "execution_count": 618,
   "metadata": {},
   "outputs": [
    {
     "data": {
      "text/html": [
       "<div>\n",
       "<style scoped>\n",
       "    .dataframe tbody tr th:only-of-type {\n",
       "        vertical-align: middle;\n",
       "    }\n",
       "\n",
       "    .dataframe tbody tr th {\n",
       "        vertical-align: top;\n",
       "    }\n",
       "\n",
       "    .dataframe thead th {\n",
       "        text-align: right;\n",
       "    }\n",
       "</style>\n",
       "<table border=\"1\" class=\"dataframe\">\n",
       "  <thead>\n",
       "    <tr style=\"text-align: right;\">\n",
       "      <th></th>\n",
       "      <th>ID</th>\n",
       "      <th>Name</th>\n",
       "      <th>Income</th>\n",
       "      <th>City</th>\n",
       "      <th>Age</th>\n",
       "      <th>Department</th>\n",
       "      <th>Sales</th>\n",
       "      <th>Response</th>\n",
       "    </tr>\n",
       "  </thead>\n",
       "  <tbody>\n",
       "    <tr>\n",
       "      <th>0</th>\n",
       "      <td>1101</td>\n",
       "      <td>James</td>\n",
       "      <td>50000</td>\n",
       "      <td>Chicago</td>\n",
       "      <td>27</td>\n",
       "      <td>HR</td>\n",
       "      <td>700000</td>\n",
       "      <td>Y</td>\n",
       "    </tr>\n",
       "    <tr>\n",
       "      <th>1</th>\n",
       "      <td>2101</td>\n",
       "      <td>Tom</td>\n",
       "      <td>35000</td>\n",
       "      <td>New York</td>\n",
       "      <td>33</td>\n",
       "      <td>Analytics</td>\n",
       "      <td>550000</td>\n",
       "      <td>Y</td>\n",
       "    </tr>\n",
       "    <tr>\n",
       "      <th>2</th>\n",
       "      <td>9101</td>\n",
       "      <td>Fin</td>\n",
       "      <td>85000</td>\n",
       "      <td>Vegas</td>\n",
       "      <td>51</td>\n",
       "      <td>Marketing</td>\n",
       "      <td>600000</td>\n",
       "      <td>N</td>\n",
       "    </tr>\n",
       "    <tr>\n",
       "      <th>3</th>\n",
       "      <td>11001</td>\n",
       "      <td>Grant</td>\n",
       "      <td>61500</td>\n",
       "      <td>New York</td>\n",
       "      <td>39</td>\n",
       "      <td>IT</td>\n",
       "      <td>75000</td>\n",
       "      <td>N</td>\n",
       "    </tr>\n",
       "    <tr>\n",
       "      <th>4</th>\n",
       "      <td>1002</td>\n",
       "      <td>Cooper</td>\n",
       "      <td>31500</td>\n",
       "      <td>Dallas</td>\n",
       "      <td>27</td>\n",
       "      <td>IT</td>\n",
       "      <td>250000</td>\n",
       "      <td>N</td>\n",
       "    </tr>\n",
       "    <tr>\n",
       "      <th>5</th>\n",
       "      <td>11003</td>\n",
       "      <td>Brand</td>\n",
       "      <td>40500</td>\n",
       "      <td>San Francisco</td>\n",
       "      <td>49</td>\n",
       "      <td>Marketing</td>\n",
       "      <td>50000</td>\n",
       "      <td>N</td>\n",
       "    </tr>\n",
       "  </tbody>\n",
       "</table>\n",
       "</div>"
      ],
      "text/plain": [
       "      ID    Name  Income           City  Age Department   Sales Response\n",
       "0   1101   James   50000        Chicago   27         HR  700000        Y\n",
       "1   2101     Tom   35000       New York   33  Analytics  550000        Y\n",
       "2   9101     Fin   85000          Vegas   51  Marketing  600000        N\n",
       "3  11001   Grant   61500       New York   39         IT   75000        N\n",
       "4   1002  Cooper   31500         Dallas   27         IT  250000        N\n",
       "5  11003   Brand   40500  San Francisco   49  Marketing   50000        N"
      ]
     },
     "execution_count": 618,
     "metadata": {},
     "output_type": "execute_result"
    }
   ],
   "source": [
    "df2"
   ]
  },
  {
   "cell_type": "code",
   "execution_count": 619,
   "metadata": {},
   "outputs": [
    {
     "data": {
      "text/html": [
       "<div>\n",
       "<style scoped>\n",
       "    .dataframe tbody tr th:only-of-type {\n",
       "        vertical-align: middle;\n",
       "    }\n",
       "\n",
       "    .dataframe tbody tr th {\n",
       "        vertical-align: top;\n",
       "    }\n",
       "\n",
       "    .dataframe thead th {\n",
       "        text-align: right;\n",
       "    }\n",
       "</style>\n",
       "<table border=\"1\" class=\"dataframe\">\n",
       "  <thead>\n",
       "    <tr style=\"text-align: right;\">\n",
       "      <th></th>\n",
       "      <th>ID</th>\n",
       "      <th>Name</th>\n",
       "      <th>Income</th>\n",
       "      <th>City</th>\n",
       "      <th>Age</th>\n",
       "      <th>Department</th>\n",
       "      <th>Sales</th>\n",
       "      <th>Response</th>\n",
       "    </tr>\n",
       "  </thead>\n",
       "  <tbody>\n",
       "    <tr>\n",
       "      <th>0</th>\n",
       "      <td>101</td>\n",
       "      <td>James</td>\n",
       "      <td>50000</td>\n",
       "      <td>Chicago</td>\n",
       "      <td>27</td>\n",
       "      <td>HR</td>\n",
       "      <td>700000</td>\n",
       "      <td>Y</td>\n",
       "    </tr>\n",
       "    <tr>\n",
       "      <th>1</th>\n",
       "      <td>201</td>\n",
       "      <td>Tom</td>\n",
       "      <td>35000</td>\n",
       "      <td>New York</td>\n",
       "      <td>33</td>\n",
       "      <td>Analytics</td>\n",
       "      <td>550000</td>\n",
       "      <td>Y</td>\n",
       "    </tr>\n",
       "    <tr>\n",
       "      <th>2</th>\n",
       "      <td>901</td>\n",
       "      <td>Fin</td>\n",
       "      <td>85000</td>\n",
       "      <td>Vegas</td>\n",
       "      <td>51</td>\n",
       "      <td>Marketing</td>\n",
       "      <td>600000</td>\n",
       "      <td>N</td>\n",
       "    </tr>\n",
       "    <tr>\n",
       "      <th>3</th>\n",
       "      <td>1001</td>\n",
       "      <td>Grant</td>\n",
       "      <td>61500</td>\n",
       "      <td>New York</td>\n",
       "      <td>39</td>\n",
       "      <td>IT</td>\n",
       "      <td>75000</td>\n",
       "      <td>N</td>\n",
       "    </tr>\n",
       "    <tr>\n",
       "      <th>4</th>\n",
       "      <td>1002</td>\n",
       "      <td>Cooper</td>\n",
       "      <td>31500</td>\n",
       "      <td>Dallas</td>\n",
       "      <td>27</td>\n",
       "      <td>IT</td>\n",
       "      <td>250000</td>\n",
       "      <td>N</td>\n",
       "    </tr>\n",
       "    <tr>\n",
       "      <th>5</th>\n",
       "      <td>1003</td>\n",
       "      <td>Brand</td>\n",
       "      <td>40500</td>\n",
       "      <td>San Francisco</td>\n",
       "      <td>49</td>\n",
       "      <td>Marketing</td>\n",
       "      <td>50000</td>\n",
       "      <td>N</td>\n",
       "    </tr>\n",
       "    <tr>\n",
       "      <th>0</th>\n",
       "      <td>1101</td>\n",
       "      <td>James</td>\n",
       "      <td>50000</td>\n",
       "      <td>Chicago</td>\n",
       "      <td>27</td>\n",
       "      <td>HR</td>\n",
       "      <td>700000</td>\n",
       "      <td>Y</td>\n",
       "    </tr>\n",
       "    <tr>\n",
       "      <th>1</th>\n",
       "      <td>2101</td>\n",
       "      <td>Tom</td>\n",
       "      <td>35000</td>\n",
       "      <td>New York</td>\n",
       "      <td>33</td>\n",
       "      <td>Analytics</td>\n",
       "      <td>550000</td>\n",
       "      <td>Y</td>\n",
       "    </tr>\n",
       "    <tr>\n",
       "      <th>2</th>\n",
       "      <td>9101</td>\n",
       "      <td>Fin</td>\n",
       "      <td>85000</td>\n",
       "      <td>Vegas</td>\n",
       "      <td>51</td>\n",
       "      <td>Marketing</td>\n",
       "      <td>600000</td>\n",
       "      <td>N</td>\n",
       "    </tr>\n",
       "    <tr>\n",
       "      <th>3</th>\n",
       "      <td>11001</td>\n",
       "      <td>Grant</td>\n",
       "      <td>61500</td>\n",
       "      <td>New York</td>\n",
       "      <td>39</td>\n",
       "      <td>IT</td>\n",
       "      <td>75000</td>\n",
       "      <td>N</td>\n",
       "    </tr>\n",
       "    <tr>\n",
       "      <th>4</th>\n",
       "      <td>1002</td>\n",
       "      <td>Cooper</td>\n",
       "      <td>31500</td>\n",
       "      <td>Dallas</td>\n",
       "      <td>27</td>\n",
       "      <td>IT</td>\n",
       "      <td>250000</td>\n",
       "      <td>N</td>\n",
       "    </tr>\n",
       "    <tr>\n",
       "      <th>5</th>\n",
       "      <td>11003</td>\n",
       "      <td>Brand</td>\n",
       "      <td>40500</td>\n",
       "      <td>San Francisco</td>\n",
       "      <td>49</td>\n",
       "      <td>Marketing</td>\n",
       "      <td>50000</td>\n",
       "      <td>N</td>\n",
       "    </tr>\n",
       "  </tbody>\n",
       "</table>\n",
       "</div>"
      ],
      "text/plain": [
       "      ID    Name  Income           City  Age Department   Sales Response\n",
       "0    101   James   50000        Chicago   27         HR  700000        Y\n",
       "1    201     Tom   35000       New York   33  Analytics  550000        Y\n",
       "2    901     Fin   85000          Vegas   51  Marketing  600000        N\n",
       "3   1001   Grant   61500       New York   39         IT   75000        N\n",
       "4   1002  Cooper   31500         Dallas   27         IT  250000        N\n",
       "5   1003   Brand   40500  San Francisco   49  Marketing   50000        N\n",
       "0   1101   James   50000        Chicago   27         HR  700000        Y\n",
       "1   2101     Tom   35000       New York   33  Analytics  550000        Y\n",
       "2   9101     Fin   85000          Vegas   51  Marketing  600000        N\n",
       "3  11001   Grant   61500       New York   39         IT   75000        N\n",
       "4   1002  Cooper   31500         Dallas   27         IT  250000        N\n",
       "5  11003   Brand   40500  San Francisco   49  Marketing   50000        N"
      ]
     },
     "execution_count": 619,
     "metadata": {},
     "output_type": "execute_result"
    }
   ],
   "source": [
    "# Concatenate df1 and df2 and let us observe the result (by default it will take axis = 0)\n",
    "pd.concat([df1,df2])"
   ]
  },
  {
   "cell_type": "markdown",
   "metadata": {},
   "source": [
    "So the DataFrames along with indexes have got appended. We can reset the index of the resultant DataFrame by using \"ignore_index\" argument"
   ]
  },
  {
   "cell_type": "code",
   "execution_count": 620,
   "metadata": {},
   "outputs": [
    {
     "data": {
      "text/html": [
       "<div>\n",
       "<style scoped>\n",
       "    .dataframe tbody tr th:only-of-type {\n",
       "        vertical-align: middle;\n",
       "    }\n",
       "\n",
       "    .dataframe tbody tr th {\n",
       "        vertical-align: top;\n",
       "    }\n",
       "\n",
       "    .dataframe thead th {\n",
       "        text-align: right;\n",
       "    }\n",
       "</style>\n",
       "<table border=\"1\" class=\"dataframe\">\n",
       "  <thead>\n",
       "    <tr style=\"text-align: right;\">\n",
       "      <th></th>\n",
       "      <th>ID</th>\n",
       "      <th>Name</th>\n",
       "      <th>Income</th>\n",
       "      <th>City</th>\n",
       "      <th>Age</th>\n",
       "      <th>Department</th>\n",
       "      <th>Sales</th>\n",
       "      <th>Response</th>\n",
       "    </tr>\n",
       "  </thead>\n",
       "  <tbody>\n",
       "    <tr>\n",
       "      <th>0</th>\n",
       "      <td>101</td>\n",
       "      <td>James</td>\n",
       "      <td>50000</td>\n",
       "      <td>Chicago</td>\n",
       "      <td>27</td>\n",
       "      <td>HR</td>\n",
       "      <td>700000</td>\n",
       "      <td>Y</td>\n",
       "    </tr>\n",
       "    <tr>\n",
       "      <th>1</th>\n",
       "      <td>201</td>\n",
       "      <td>Tom</td>\n",
       "      <td>35000</td>\n",
       "      <td>New York</td>\n",
       "      <td>33</td>\n",
       "      <td>Analytics</td>\n",
       "      <td>550000</td>\n",
       "      <td>Y</td>\n",
       "    </tr>\n",
       "    <tr>\n",
       "      <th>2</th>\n",
       "      <td>901</td>\n",
       "      <td>Fin</td>\n",
       "      <td>85000</td>\n",
       "      <td>Vegas</td>\n",
       "      <td>51</td>\n",
       "      <td>Marketing</td>\n",
       "      <td>600000</td>\n",
       "      <td>N</td>\n",
       "    </tr>\n",
       "    <tr>\n",
       "      <th>3</th>\n",
       "      <td>1001</td>\n",
       "      <td>Grant</td>\n",
       "      <td>61500</td>\n",
       "      <td>New York</td>\n",
       "      <td>39</td>\n",
       "      <td>IT</td>\n",
       "      <td>75000</td>\n",
       "      <td>N</td>\n",
       "    </tr>\n",
       "    <tr>\n",
       "      <th>4</th>\n",
       "      <td>1002</td>\n",
       "      <td>Cooper</td>\n",
       "      <td>31500</td>\n",
       "      <td>Dallas</td>\n",
       "      <td>27</td>\n",
       "      <td>IT</td>\n",
       "      <td>250000</td>\n",
       "      <td>N</td>\n",
       "    </tr>\n",
       "    <tr>\n",
       "      <th>5</th>\n",
       "      <td>1003</td>\n",
       "      <td>Brand</td>\n",
       "      <td>40500</td>\n",
       "      <td>San Francisco</td>\n",
       "      <td>49</td>\n",
       "      <td>Marketing</td>\n",
       "      <td>50000</td>\n",
       "      <td>N</td>\n",
       "    </tr>\n",
       "    <tr>\n",
       "      <th>6</th>\n",
       "      <td>1101</td>\n",
       "      <td>James</td>\n",
       "      <td>50000</td>\n",
       "      <td>Chicago</td>\n",
       "      <td>27</td>\n",
       "      <td>HR</td>\n",
       "      <td>700000</td>\n",
       "      <td>Y</td>\n",
       "    </tr>\n",
       "    <tr>\n",
       "      <th>7</th>\n",
       "      <td>2101</td>\n",
       "      <td>Tom</td>\n",
       "      <td>35000</td>\n",
       "      <td>New York</td>\n",
       "      <td>33</td>\n",
       "      <td>Analytics</td>\n",
       "      <td>550000</td>\n",
       "      <td>Y</td>\n",
       "    </tr>\n",
       "    <tr>\n",
       "      <th>8</th>\n",
       "      <td>9101</td>\n",
       "      <td>Fin</td>\n",
       "      <td>85000</td>\n",
       "      <td>Vegas</td>\n",
       "      <td>51</td>\n",
       "      <td>Marketing</td>\n",
       "      <td>600000</td>\n",
       "      <td>N</td>\n",
       "    </tr>\n",
       "    <tr>\n",
       "      <th>9</th>\n",
       "      <td>11001</td>\n",
       "      <td>Grant</td>\n",
       "      <td>61500</td>\n",
       "      <td>New York</td>\n",
       "      <td>39</td>\n",
       "      <td>IT</td>\n",
       "      <td>75000</td>\n",
       "      <td>N</td>\n",
       "    </tr>\n",
       "    <tr>\n",
       "      <th>10</th>\n",
       "      <td>1002</td>\n",
       "      <td>Cooper</td>\n",
       "      <td>31500</td>\n",
       "      <td>Dallas</td>\n",
       "      <td>27</td>\n",
       "      <td>IT</td>\n",
       "      <td>250000</td>\n",
       "      <td>N</td>\n",
       "    </tr>\n",
       "    <tr>\n",
       "      <th>11</th>\n",
       "      <td>11003</td>\n",
       "      <td>Brand</td>\n",
       "      <td>40500</td>\n",
       "      <td>San Francisco</td>\n",
       "      <td>49</td>\n",
       "      <td>Marketing</td>\n",
       "      <td>50000</td>\n",
       "      <td>N</td>\n",
       "    </tr>\n",
       "  </tbody>\n",
       "</table>\n",
       "</div>"
      ],
      "text/plain": [
       "       ID    Name  Income           City  Age Department   Sales Response\n",
       "0     101   James   50000        Chicago   27         HR  700000        Y\n",
       "1     201     Tom   35000       New York   33  Analytics  550000        Y\n",
       "2     901     Fin   85000          Vegas   51  Marketing  600000        N\n",
       "3    1001   Grant   61500       New York   39         IT   75000        N\n",
       "4    1002  Cooper   31500         Dallas   27         IT  250000        N\n",
       "5    1003   Brand   40500  San Francisco   49  Marketing   50000        N\n",
       "6    1101   James   50000        Chicago   27         HR  700000        Y\n",
       "7    2101     Tom   35000       New York   33  Analytics  550000        Y\n",
       "8    9101     Fin   85000          Vegas   51  Marketing  600000        N\n",
       "9   11001   Grant   61500       New York   39         IT   75000        N\n",
       "10   1002  Cooper   31500         Dallas   27         IT  250000        N\n",
       "11  11003   Brand   40500  San Francisco   49  Marketing   50000        N"
      ]
     },
     "execution_count": 620,
     "metadata": {},
     "output_type": "execute_result"
    }
   ],
   "source": [
    "pd.concat([df1, df2], ignore_index = True)"
   ]
  },
  {
   "cell_type": "markdown",
   "metadata": {},
   "source": [
    "Let us focus on one very important aspect of concat. In SQL we have heard of function called as UNION. It appends two \n",
    "datasets one below the other by making sure that records are unique. On the other hand UNION ALL takes duplicate records into the account.So The above resultant DataFrame is nothing but UNION ALL outcome. Let us see how we can get UNION output of SQL in \n",
    "Python"
   ]
  },
  {
   "cell_type": "code",
   "execution_count": 621,
   "metadata": {},
   "outputs": [
    {
     "data": {
      "text/html": [
       "<div>\n",
       "<style scoped>\n",
       "    .dataframe tbody tr th:only-of-type {\n",
       "        vertical-align: middle;\n",
       "    }\n",
       "\n",
       "    .dataframe tbody tr th {\n",
       "        vertical-align: top;\n",
       "    }\n",
       "\n",
       "    .dataframe thead th {\n",
       "        text-align: right;\n",
       "    }\n",
       "</style>\n",
       "<table border=\"1\" class=\"dataframe\">\n",
       "  <thead>\n",
       "    <tr style=\"text-align: right;\">\n",
       "      <th></th>\n",
       "      <th>index</th>\n",
       "      <th>ID</th>\n",
       "      <th>Name</th>\n",
       "      <th>Income</th>\n",
       "      <th>City</th>\n",
       "      <th>Age</th>\n",
       "      <th>Department</th>\n",
       "      <th>Sales</th>\n",
       "      <th>Response</th>\n",
       "    </tr>\n",
       "  </thead>\n",
       "  <tbody>\n",
       "    <tr>\n",
       "      <th>0</th>\n",
       "      <td>0</td>\n",
       "      <td>101</td>\n",
       "      <td>James</td>\n",
       "      <td>50000</td>\n",
       "      <td>Chicago</td>\n",
       "      <td>27</td>\n",
       "      <td>HR</td>\n",
       "      <td>700000</td>\n",
       "      <td>Y</td>\n",
       "    </tr>\n",
       "    <tr>\n",
       "      <th>1</th>\n",
       "      <td>1</td>\n",
       "      <td>201</td>\n",
       "      <td>Tom</td>\n",
       "      <td>35000</td>\n",
       "      <td>New York</td>\n",
       "      <td>33</td>\n",
       "      <td>Analytics</td>\n",
       "      <td>550000</td>\n",
       "      <td>Y</td>\n",
       "    </tr>\n",
       "    <tr>\n",
       "      <th>2</th>\n",
       "      <td>2</td>\n",
       "      <td>901</td>\n",
       "      <td>Fin</td>\n",
       "      <td>85000</td>\n",
       "      <td>Vegas</td>\n",
       "      <td>51</td>\n",
       "      <td>Marketing</td>\n",
       "      <td>600000</td>\n",
       "      <td>N</td>\n",
       "    </tr>\n",
       "    <tr>\n",
       "      <th>3</th>\n",
       "      <td>3</td>\n",
       "      <td>1001</td>\n",
       "      <td>Grant</td>\n",
       "      <td>61500</td>\n",
       "      <td>New York</td>\n",
       "      <td>39</td>\n",
       "      <td>IT</td>\n",
       "      <td>75000</td>\n",
       "      <td>N</td>\n",
       "    </tr>\n",
       "    <tr>\n",
       "      <th>4</th>\n",
       "      <td>4</td>\n",
       "      <td>1002</td>\n",
       "      <td>Cooper</td>\n",
       "      <td>31500</td>\n",
       "      <td>Dallas</td>\n",
       "      <td>27</td>\n",
       "      <td>IT</td>\n",
       "      <td>250000</td>\n",
       "      <td>N</td>\n",
       "    </tr>\n",
       "    <tr>\n",
       "      <th>5</th>\n",
       "      <td>5</td>\n",
       "      <td>1003</td>\n",
       "      <td>Brand</td>\n",
       "      <td>40500</td>\n",
       "      <td>San Francisco</td>\n",
       "      <td>49</td>\n",
       "      <td>Marketing</td>\n",
       "      <td>50000</td>\n",
       "      <td>N</td>\n",
       "    </tr>\n",
       "    <tr>\n",
       "      <th>6</th>\n",
       "      <td>6</td>\n",
       "      <td>1101</td>\n",
       "      <td>James</td>\n",
       "      <td>50000</td>\n",
       "      <td>Chicago</td>\n",
       "      <td>27</td>\n",
       "      <td>HR</td>\n",
       "      <td>700000</td>\n",
       "      <td>Y</td>\n",
       "    </tr>\n",
       "    <tr>\n",
       "      <th>7</th>\n",
       "      <td>7</td>\n",
       "      <td>2101</td>\n",
       "      <td>Tom</td>\n",
       "      <td>35000</td>\n",
       "      <td>New York</td>\n",
       "      <td>33</td>\n",
       "      <td>Analytics</td>\n",
       "      <td>550000</td>\n",
       "      <td>Y</td>\n",
       "    </tr>\n",
       "    <tr>\n",
       "      <th>8</th>\n",
       "      <td>8</td>\n",
       "      <td>9101</td>\n",
       "      <td>Fin</td>\n",
       "      <td>85000</td>\n",
       "      <td>Vegas</td>\n",
       "      <td>51</td>\n",
       "      <td>Marketing</td>\n",
       "      <td>600000</td>\n",
       "      <td>N</td>\n",
       "    </tr>\n",
       "    <tr>\n",
       "      <th>9</th>\n",
       "      <td>9</td>\n",
       "      <td>11001</td>\n",
       "      <td>Grant</td>\n",
       "      <td>61500</td>\n",
       "      <td>New York</td>\n",
       "      <td>39</td>\n",
       "      <td>IT</td>\n",
       "      <td>75000</td>\n",
       "      <td>N</td>\n",
       "    </tr>\n",
       "    <tr>\n",
       "      <th>10</th>\n",
       "      <td>11</td>\n",
       "      <td>11003</td>\n",
       "      <td>Brand</td>\n",
       "      <td>40500</td>\n",
       "      <td>San Francisco</td>\n",
       "      <td>49</td>\n",
       "      <td>Marketing</td>\n",
       "      <td>50000</td>\n",
       "      <td>N</td>\n",
       "    </tr>\n",
       "  </tbody>\n",
       "</table>\n",
       "</div>"
      ],
      "text/plain": [
       "    index     ID    Name  Income           City  Age Department   Sales  \\\n",
       "0       0    101   James   50000        Chicago   27         HR  700000   \n",
       "1       1    201     Tom   35000       New York   33  Analytics  550000   \n",
       "2       2    901     Fin   85000          Vegas   51  Marketing  600000   \n",
       "3       3   1001   Grant   61500       New York   39         IT   75000   \n",
       "4       4   1002  Cooper   31500         Dallas   27         IT  250000   \n",
       "5       5   1003   Brand   40500  San Francisco   49  Marketing   50000   \n",
       "6       6   1101   James   50000        Chicago   27         HR  700000   \n",
       "7       7   2101     Tom   35000       New York   33  Analytics  550000   \n",
       "8       8   9101     Fin   85000          Vegas   51  Marketing  600000   \n",
       "9       9  11001   Grant   61500       New York   39         IT   75000   \n",
       "10     11  11003   Brand   40500  San Francisco   49  Marketing   50000   \n",
       "\n",
       "   Response  \n",
       "0         Y  \n",
       "1         Y  \n",
       "2         N  \n",
       "3         N  \n",
       "4         N  \n",
       "5         N  \n",
       "6         Y  \n",
       "7         Y  \n",
       "8         N  \n",
       "9         N  \n",
       "10        N  "
      ]
     },
     "execution_count": 621,
     "metadata": {},
     "output_type": "execute_result"
    }
   ],
   "source": [
    "pd.concat([df1, df2], ignore_index=True).drop_duplicates().reset_index()"
   ]
  },
  {
   "cell_type": "markdown",
   "metadata": {},
   "source": [
    "So in the above output the duplicate record issue has been taken care of and also we have reset the index. This is very useful\n",
    "for the data preperation process."
   ]
  },
  {
   "cell_type": "markdown",
   "metadata": {},
   "source": [
    "You can also concatenate DataFrames along columns by passing argument axis = 1. Let us see this with an example"
   ]
  },
  {
   "cell_type": "code",
   "execution_count": 622,
   "metadata": {},
   "outputs": [
    {
     "data": {
      "text/html": [
       "<div>\n",
       "<style scoped>\n",
       "    .dataframe tbody tr th:only-of-type {\n",
       "        vertical-align: middle;\n",
       "    }\n",
       "\n",
       "    .dataframe tbody tr th {\n",
       "        vertical-align: top;\n",
       "    }\n",
       "\n",
       "    .dataframe thead th {\n",
       "        text-align: right;\n",
       "    }\n",
       "</style>\n",
       "<table border=\"1\" class=\"dataframe\">\n",
       "  <thead>\n",
       "    <tr style=\"text-align: right;\">\n",
       "      <th></th>\n",
       "      <th>ID</th>\n",
       "      <th>Name</th>\n",
       "      <th>Income</th>\n",
       "      <th>City</th>\n",
       "      <th>Age</th>\n",
       "      <th>Department</th>\n",
       "      <th>Sales</th>\n",
       "      <th>Response</th>\n",
       "      <th>ID</th>\n",
       "      <th>Name</th>\n",
       "      <th>Income</th>\n",
       "      <th>City</th>\n",
       "      <th>Age</th>\n",
       "      <th>Department</th>\n",
       "      <th>Sales</th>\n",
       "      <th>Response</th>\n",
       "    </tr>\n",
       "  </thead>\n",
       "  <tbody>\n",
       "    <tr>\n",
       "      <th>0</th>\n",
       "      <td>101</td>\n",
       "      <td>James</td>\n",
       "      <td>50000</td>\n",
       "      <td>Chicago</td>\n",
       "      <td>27</td>\n",
       "      <td>HR</td>\n",
       "      <td>700000</td>\n",
       "      <td>Y</td>\n",
       "      <td>1101</td>\n",
       "      <td>James</td>\n",
       "      <td>50000</td>\n",
       "      <td>Chicago</td>\n",
       "      <td>27</td>\n",
       "      <td>HR</td>\n",
       "      <td>700000</td>\n",
       "      <td>Y</td>\n",
       "    </tr>\n",
       "    <tr>\n",
       "      <th>1</th>\n",
       "      <td>201</td>\n",
       "      <td>Tom</td>\n",
       "      <td>35000</td>\n",
       "      <td>New York</td>\n",
       "      <td>33</td>\n",
       "      <td>Analytics</td>\n",
       "      <td>550000</td>\n",
       "      <td>Y</td>\n",
       "      <td>2101</td>\n",
       "      <td>Tom</td>\n",
       "      <td>35000</td>\n",
       "      <td>New York</td>\n",
       "      <td>33</td>\n",
       "      <td>Analytics</td>\n",
       "      <td>550000</td>\n",
       "      <td>Y</td>\n",
       "    </tr>\n",
       "    <tr>\n",
       "      <th>2</th>\n",
       "      <td>901</td>\n",
       "      <td>Fin</td>\n",
       "      <td>85000</td>\n",
       "      <td>Vegas</td>\n",
       "      <td>51</td>\n",
       "      <td>Marketing</td>\n",
       "      <td>600000</td>\n",
       "      <td>N</td>\n",
       "      <td>9101</td>\n",
       "      <td>Fin</td>\n",
       "      <td>85000</td>\n",
       "      <td>Vegas</td>\n",
       "      <td>51</td>\n",
       "      <td>Marketing</td>\n",
       "      <td>600000</td>\n",
       "      <td>N</td>\n",
       "    </tr>\n",
       "    <tr>\n",
       "      <th>3</th>\n",
       "      <td>1001</td>\n",
       "      <td>Grant</td>\n",
       "      <td>61500</td>\n",
       "      <td>New York</td>\n",
       "      <td>39</td>\n",
       "      <td>IT</td>\n",
       "      <td>75000</td>\n",
       "      <td>N</td>\n",
       "      <td>11001</td>\n",
       "      <td>Grant</td>\n",
       "      <td>61500</td>\n",
       "      <td>New York</td>\n",
       "      <td>39</td>\n",
       "      <td>IT</td>\n",
       "      <td>75000</td>\n",
       "      <td>N</td>\n",
       "    </tr>\n",
       "    <tr>\n",
       "      <th>4</th>\n",
       "      <td>1002</td>\n",
       "      <td>Cooper</td>\n",
       "      <td>31500</td>\n",
       "      <td>Dallas</td>\n",
       "      <td>27</td>\n",
       "      <td>IT</td>\n",
       "      <td>250000</td>\n",
       "      <td>N</td>\n",
       "      <td>1002</td>\n",
       "      <td>Cooper</td>\n",
       "      <td>31500</td>\n",
       "      <td>Dallas</td>\n",
       "      <td>27</td>\n",
       "      <td>IT</td>\n",
       "      <td>250000</td>\n",
       "      <td>N</td>\n",
       "    </tr>\n",
       "    <tr>\n",
       "      <th>5</th>\n",
       "      <td>1003</td>\n",
       "      <td>Brand</td>\n",
       "      <td>40500</td>\n",
       "      <td>San Francisco</td>\n",
       "      <td>49</td>\n",
       "      <td>Marketing</td>\n",
       "      <td>50000</td>\n",
       "      <td>N</td>\n",
       "      <td>11003</td>\n",
       "      <td>Brand</td>\n",
       "      <td>40500</td>\n",
       "      <td>San Francisco</td>\n",
       "      <td>49</td>\n",
       "      <td>Marketing</td>\n",
       "      <td>50000</td>\n",
       "      <td>N</td>\n",
       "    </tr>\n",
       "  </tbody>\n",
       "</table>\n",
       "</div>"
      ],
      "text/plain": [
       "     ID    Name  Income           City  Age Department   Sales Response  \\\n",
       "0   101   James   50000        Chicago   27         HR  700000        Y   \n",
       "1   201     Tom   35000       New York   33  Analytics  550000        Y   \n",
       "2   901     Fin   85000          Vegas   51  Marketing  600000        N   \n",
       "3  1001   Grant   61500       New York   39         IT   75000        N   \n",
       "4  1002  Cooper   31500         Dallas   27         IT  250000        N   \n",
       "5  1003   Brand   40500  San Francisco   49  Marketing   50000        N   \n",
       "\n",
       "      ID    Name  Income           City  Age Department   Sales Response  \n",
       "0   1101   James   50000        Chicago   27         HR  700000        Y  \n",
       "1   2101     Tom   35000       New York   33  Analytics  550000        Y  \n",
       "2   9101     Fin   85000          Vegas   51  Marketing  600000        N  \n",
       "3  11001   Grant   61500       New York   39         IT   75000        N  \n",
       "4   1002  Cooper   31500         Dallas   27         IT  250000        N  \n",
       "5  11003   Brand   40500  San Francisco   49  Marketing   50000        N  "
      ]
     },
     "execution_count": 622,
     "metadata": {},
     "output_type": "execute_result"
    }
   ],
   "source": [
    "pd.concat([df1, df2], axis = 1)"
   ]
  },
  {
   "cell_type": "markdown",
   "metadata": {},
   "source": [
    "It matches the row indexes and then concatenates the DataFrames. In case indexes are not matching then it will fill values by \n",
    "NaN"
   ]
  },
  {
   "cell_type": "markdown",
   "metadata": {},
   "source": [
    "##### Merging/ Joining"
   ]
  },
  {
   "cell_type": "markdown",
   "metadata": {},
   "source": [
    "Very important concept and same as joing in SQL. It will be good to understand this in detail as Data Preperation might require\n",
    "you to work on multiple Datasets having common primary key. Let us get started:"
   ]
  },
  {
   "cell_type": "markdown",
   "metadata": {},
   "source": [
    "Syntax - \n",
    "pd.merge(left, right, how='inner', on=None, left_on=None, right_on=None, left_index=False, right_index=False, sort=True)\n",
    "where,\n",
    "left/ right - DataFrames\n",
    "on - Column on which DataFrames are to be joined. Must be present in both the DataFrames\n",
    "left_on - Column from left DataFrame used as key for joining\n",
    "right_on - Column from right DataFrame used as key for joining\n",
    "left_index - Use left DataFrame index for joining\n",
    "right_index - Use right DataFrame index for joining\n",
    "sort - Sort the result in lexicographical order"
   ]
  },
  {
   "cell_type": "code",
   "execution_count": null,
   "metadata": {},
   "outputs": [],
   "source": [
    "Let us get started by creating two DataFrames which we can use for understanding merge function"
   ]
  },
  {
   "cell_type": "code",
   "execution_count": 463,
   "metadata": {},
   "outputs": [],
   "source": [
    "# Consider following data Frame:\n",
    "data1 =  [[101, 'James', 50000, 'Chicago', 27, 'HR', 700000, 'Y'], \n",
    "         [201, 'Tom', 35000, 'New York', 33, 'Analytics', 550000, 'Y'], \n",
    "         [901, 'Fin', 85000, 'Vegas', 51, 'Marketing', 600000, 'N'], \n",
    "         [1001, 'Grant', 61500, 'New York', 39, 'IT', 75000, 'N'], \n",
    "         [1002, 'Cooper', 31500, 'Dallas', 27, 'IT', 250000, 'N'], \n",
    "         [1003, 'Brand', 40500, 'San Francisco', 49, 'Marketing', 50000, 'N']]"
   ]
  },
  {
   "cell_type": "code",
   "execution_count": 464,
   "metadata": {},
   "outputs": [],
   "source": [
    "columns1 = ['ID', 'Name', 'Income', 'City', 'Age', 'Department', 'Sales', 'Response']"
   ]
  },
  {
   "cell_type": "code",
   "execution_count": 465,
   "metadata": {},
   "outputs": [],
   "source": [
    "df1 = pd.DataFrame(data1, columns = columns1)"
   ]
  },
  {
   "cell_type": "code",
   "execution_count": 466,
   "metadata": {},
   "outputs": [
    {
     "data": {
      "text/html": [
       "<div>\n",
       "<style scoped>\n",
       "    .dataframe tbody tr th:only-of-type {\n",
       "        vertical-align: middle;\n",
       "    }\n",
       "\n",
       "    .dataframe tbody tr th {\n",
       "        vertical-align: top;\n",
       "    }\n",
       "\n",
       "    .dataframe thead th {\n",
       "        text-align: right;\n",
       "    }\n",
       "</style>\n",
       "<table border=\"1\" class=\"dataframe\">\n",
       "  <thead>\n",
       "    <tr style=\"text-align: right;\">\n",
       "      <th></th>\n",
       "      <th>ID</th>\n",
       "      <th>Name</th>\n",
       "      <th>Income</th>\n",
       "      <th>City</th>\n",
       "      <th>Age</th>\n",
       "      <th>Department</th>\n",
       "      <th>Sales</th>\n",
       "      <th>Response</th>\n",
       "    </tr>\n",
       "  </thead>\n",
       "  <tbody>\n",
       "    <tr>\n",
       "      <th>0</th>\n",
       "      <td>101</td>\n",
       "      <td>James</td>\n",
       "      <td>50000</td>\n",
       "      <td>Chicago</td>\n",
       "      <td>27</td>\n",
       "      <td>HR</td>\n",
       "      <td>700000</td>\n",
       "      <td>Y</td>\n",
       "    </tr>\n",
       "    <tr>\n",
       "      <th>1</th>\n",
       "      <td>201</td>\n",
       "      <td>Tom</td>\n",
       "      <td>35000</td>\n",
       "      <td>New York</td>\n",
       "      <td>33</td>\n",
       "      <td>Analytics</td>\n",
       "      <td>550000</td>\n",
       "      <td>Y</td>\n",
       "    </tr>\n",
       "    <tr>\n",
       "      <th>2</th>\n",
       "      <td>901</td>\n",
       "      <td>Fin</td>\n",
       "      <td>85000</td>\n",
       "      <td>Vegas</td>\n",
       "      <td>51</td>\n",
       "      <td>Marketing</td>\n",
       "      <td>600000</td>\n",
       "      <td>N</td>\n",
       "    </tr>\n",
       "    <tr>\n",
       "      <th>3</th>\n",
       "      <td>1001</td>\n",
       "      <td>Grant</td>\n",
       "      <td>61500</td>\n",
       "      <td>New York</td>\n",
       "      <td>39</td>\n",
       "      <td>IT</td>\n",
       "      <td>75000</td>\n",
       "      <td>N</td>\n",
       "    </tr>\n",
       "    <tr>\n",
       "      <th>4</th>\n",
       "      <td>1002</td>\n",
       "      <td>Cooper</td>\n",
       "      <td>31500</td>\n",
       "      <td>Dallas</td>\n",
       "      <td>27</td>\n",
       "      <td>IT</td>\n",
       "      <td>250000</td>\n",
       "      <td>N</td>\n",
       "    </tr>\n",
       "    <tr>\n",
       "      <th>5</th>\n",
       "      <td>1003</td>\n",
       "      <td>Brand</td>\n",
       "      <td>40500</td>\n",
       "      <td>San Francisco</td>\n",
       "      <td>49</td>\n",
       "      <td>Marketing</td>\n",
       "      <td>50000</td>\n",
       "      <td>N</td>\n",
       "    </tr>\n",
       "  </tbody>\n",
       "</table>\n",
       "</div>"
      ],
      "text/plain": [
       "     ID    Name  Income           City  Age Department   Sales Response\n",
       "0   101   James   50000        Chicago   27         HR  700000        Y\n",
       "1   201     Tom   35000       New York   33  Analytics  550000        Y\n",
       "2   901     Fin   85000          Vegas   51  Marketing  600000        N\n",
       "3  1001   Grant   61500       New York   39         IT   75000        N\n",
       "4  1002  Cooper   31500         Dallas   27         IT  250000        N\n",
       "5  1003   Brand   40500  San Francisco   49  Marketing   50000        N"
      ]
     },
     "execution_count": 466,
     "metadata": {},
     "output_type": "execute_result"
    }
   ],
   "source": [
    "df1"
   ]
  },
  {
   "cell_type": "code",
   "execution_count": 467,
   "metadata": {},
   "outputs": [],
   "source": [
    "# Consider following data Frame:\n",
    "data2 = [[101, 'Married', 'PG'], [201, 'Single', 'Graduate'], [901, 'Married', 'HSC'], [1001, 'Single', 'Graduate'], \n",
    "        [1002, 'Married', 'Graduate'], [1003, 'Married', 'PG']]"
   ]
  },
  {
   "cell_type": "code",
   "execution_count": 468,
   "metadata": {},
   "outputs": [],
   "source": [
    "columns2 = ['ID', 'Marital_Status', 'Education']"
   ]
  },
  {
   "cell_type": "code",
   "execution_count": 469,
   "metadata": {},
   "outputs": [],
   "source": [
    "df2 = pd.DataFrame(data = data2, columns = columns2)"
   ]
  },
  {
   "cell_type": "code",
   "execution_count": 470,
   "metadata": {},
   "outputs": [
    {
     "data": {
      "text/html": [
       "<div>\n",
       "<style scoped>\n",
       "    .dataframe tbody tr th:only-of-type {\n",
       "        vertical-align: middle;\n",
       "    }\n",
       "\n",
       "    .dataframe tbody tr th {\n",
       "        vertical-align: top;\n",
       "    }\n",
       "\n",
       "    .dataframe thead th {\n",
       "        text-align: right;\n",
       "    }\n",
       "</style>\n",
       "<table border=\"1\" class=\"dataframe\">\n",
       "  <thead>\n",
       "    <tr style=\"text-align: right;\">\n",
       "      <th></th>\n",
       "      <th>ID</th>\n",
       "      <th>Marital_Status</th>\n",
       "      <th>Education</th>\n",
       "    </tr>\n",
       "  </thead>\n",
       "  <tbody>\n",
       "    <tr>\n",
       "      <th>0</th>\n",
       "      <td>101</td>\n",
       "      <td>Married</td>\n",
       "      <td>PG</td>\n",
       "    </tr>\n",
       "    <tr>\n",
       "      <th>1</th>\n",
       "      <td>201</td>\n",
       "      <td>Single</td>\n",
       "      <td>Graduate</td>\n",
       "    </tr>\n",
       "    <tr>\n",
       "      <th>2</th>\n",
       "      <td>901</td>\n",
       "      <td>Married</td>\n",
       "      <td>HSC</td>\n",
       "    </tr>\n",
       "    <tr>\n",
       "      <th>3</th>\n",
       "      <td>1001</td>\n",
       "      <td>Single</td>\n",
       "      <td>Graduate</td>\n",
       "    </tr>\n",
       "    <tr>\n",
       "      <th>4</th>\n",
       "      <td>1002</td>\n",
       "      <td>Married</td>\n",
       "      <td>Graduate</td>\n",
       "    </tr>\n",
       "    <tr>\n",
       "      <th>5</th>\n",
       "      <td>1003</td>\n",
       "      <td>Married</td>\n",
       "      <td>PG</td>\n",
       "    </tr>\n",
       "  </tbody>\n",
       "</table>\n",
       "</div>"
      ],
      "text/plain": [
       "     ID Marital_Status Education\n",
       "0   101        Married        PG\n",
       "1   201         Single  Graduate\n",
       "2   901        Married       HSC\n",
       "3  1001         Single  Graduate\n",
       "4  1002        Married  Graduate\n",
       "5  1003        Married        PG"
      ]
     },
     "execution_count": 470,
     "metadata": {},
     "output_type": "execute_result"
    }
   ],
   "source": [
    "df2"
   ]
  },
  {
   "cell_type": "code",
   "execution_count": 472,
   "metadata": {},
   "outputs": [
    {
     "data": {
      "text/html": [
       "<div>\n",
       "<style scoped>\n",
       "    .dataframe tbody tr th:only-of-type {\n",
       "        vertical-align: middle;\n",
       "    }\n",
       "\n",
       "    .dataframe tbody tr th {\n",
       "        vertical-align: top;\n",
       "    }\n",
       "\n",
       "    .dataframe thead th {\n",
       "        text-align: right;\n",
       "    }\n",
       "</style>\n",
       "<table border=\"1\" class=\"dataframe\">\n",
       "  <thead>\n",
       "    <tr style=\"text-align: right;\">\n",
       "      <th></th>\n",
       "      <th>ID</th>\n",
       "      <th>Name</th>\n",
       "      <th>Income</th>\n",
       "      <th>City</th>\n",
       "      <th>Age</th>\n",
       "      <th>Department</th>\n",
       "      <th>Sales</th>\n",
       "      <th>Response</th>\n",
       "      <th>Marital_Status</th>\n",
       "      <th>Education</th>\n",
       "    </tr>\n",
       "  </thead>\n",
       "  <tbody>\n",
       "    <tr>\n",
       "      <th>0</th>\n",
       "      <td>101</td>\n",
       "      <td>James</td>\n",
       "      <td>50000</td>\n",
       "      <td>Chicago</td>\n",
       "      <td>27</td>\n",
       "      <td>HR</td>\n",
       "      <td>700000</td>\n",
       "      <td>Y</td>\n",
       "      <td>Married</td>\n",
       "      <td>PG</td>\n",
       "    </tr>\n",
       "    <tr>\n",
       "      <th>1</th>\n",
       "      <td>201</td>\n",
       "      <td>Tom</td>\n",
       "      <td>35000</td>\n",
       "      <td>New York</td>\n",
       "      <td>33</td>\n",
       "      <td>Analytics</td>\n",
       "      <td>550000</td>\n",
       "      <td>Y</td>\n",
       "      <td>Single</td>\n",
       "      <td>Graduate</td>\n",
       "    </tr>\n",
       "    <tr>\n",
       "      <th>2</th>\n",
       "      <td>901</td>\n",
       "      <td>Fin</td>\n",
       "      <td>85000</td>\n",
       "      <td>Vegas</td>\n",
       "      <td>51</td>\n",
       "      <td>Marketing</td>\n",
       "      <td>600000</td>\n",
       "      <td>N</td>\n",
       "      <td>Married</td>\n",
       "      <td>HSC</td>\n",
       "    </tr>\n",
       "    <tr>\n",
       "      <th>3</th>\n",
       "      <td>1001</td>\n",
       "      <td>Grant</td>\n",
       "      <td>61500</td>\n",
       "      <td>New York</td>\n",
       "      <td>39</td>\n",
       "      <td>IT</td>\n",
       "      <td>75000</td>\n",
       "      <td>N</td>\n",
       "      <td>Single</td>\n",
       "      <td>Graduate</td>\n",
       "    </tr>\n",
       "    <tr>\n",
       "      <th>4</th>\n",
       "      <td>1002</td>\n",
       "      <td>Cooper</td>\n",
       "      <td>31500</td>\n",
       "      <td>Dallas</td>\n",
       "      <td>27</td>\n",
       "      <td>IT</td>\n",
       "      <td>250000</td>\n",
       "      <td>N</td>\n",
       "      <td>Married</td>\n",
       "      <td>Graduate</td>\n",
       "    </tr>\n",
       "    <tr>\n",
       "      <th>5</th>\n",
       "      <td>1003</td>\n",
       "      <td>Brand</td>\n",
       "      <td>40500</td>\n",
       "      <td>San Francisco</td>\n",
       "      <td>49</td>\n",
       "      <td>Marketing</td>\n",
       "      <td>50000</td>\n",
       "      <td>N</td>\n",
       "      <td>Married</td>\n",
       "      <td>PG</td>\n",
       "    </tr>\n",
       "  </tbody>\n",
       "</table>\n",
       "</div>"
      ],
      "text/plain": [
       "     ID    Name  Income           City  Age Department   Sales Response  \\\n",
       "0   101   James   50000        Chicago   27         HR  700000        Y   \n",
       "1   201     Tom   35000       New York   33  Analytics  550000        Y   \n",
       "2   901     Fin   85000          Vegas   51  Marketing  600000        N   \n",
       "3  1001   Grant   61500       New York   39         IT   75000        N   \n",
       "4  1002  Cooper   31500         Dallas   27         IT  250000        N   \n",
       "5  1003   Brand   40500  San Francisco   49  Marketing   50000        N   \n",
       "\n",
       "  Marital_Status Education  \n",
       "0        Married        PG  \n",
       "1         Single  Graduate  \n",
       "2        Married       HSC  \n",
       "3         Single  Graduate  \n",
       "4        Married  Graduate  \n",
       "5        Married        PG  "
      ]
     },
     "execution_count": 472,
     "metadata": {},
     "output_type": "execute_result"
    }
   ],
   "source": [
    "# Inner join to get all the columns of df1 and df2 in the same table\n",
    "pd.merge(df1,df2, how = 'inner', on = 'ID')"
   ]
  },
  {
   "cell_type": "code",
   "execution_count": 473,
   "metadata": {},
   "outputs": [
    {
     "data": {
      "text/html": [
       "<div>\n",
       "<style scoped>\n",
       "    .dataframe tbody tr th:only-of-type {\n",
       "        vertical-align: middle;\n",
       "    }\n",
       "\n",
       "    .dataframe tbody tr th {\n",
       "        vertical-align: top;\n",
       "    }\n",
       "\n",
       "    .dataframe thead th {\n",
       "        text-align: right;\n",
       "    }\n",
       "</style>\n",
       "<table border=\"1\" class=\"dataframe\">\n",
       "  <thead>\n",
       "    <tr style=\"text-align: right;\">\n",
       "      <th></th>\n",
       "      <th>ID</th>\n",
       "      <th>Name</th>\n",
       "      <th>Income</th>\n",
       "      <th>City</th>\n",
       "      <th>Age</th>\n",
       "      <th>Department</th>\n",
       "      <th>Sales</th>\n",
       "      <th>Response</th>\n",
       "      <th>Marital_Status</th>\n",
       "      <th>Education</th>\n",
       "    </tr>\n",
       "  </thead>\n",
       "  <tbody>\n",
       "    <tr>\n",
       "      <th>0</th>\n",
       "      <td>101</td>\n",
       "      <td>James</td>\n",
       "      <td>50000</td>\n",
       "      <td>Chicago</td>\n",
       "      <td>27</td>\n",
       "      <td>HR</td>\n",
       "      <td>700000</td>\n",
       "      <td>Y</td>\n",
       "      <td>Married</td>\n",
       "      <td>PG</td>\n",
       "    </tr>\n",
       "    <tr>\n",
       "      <th>1</th>\n",
       "      <td>201</td>\n",
       "      <td>Tom</td>\n",
       "      <td>35000</td>\n",
       "      <td>New York</td>\n",
       "      <td>33</td>\n",
       "      <td>Analytics</td>\n",
       "      <td>550000</td>\n",
       "      <td>Y</td>\n",
       "      <td>Single</td>\n",
       "      <td>Graduate</td>\n",
       "    </tr>\n",
       "    <tr>\n",
       "      <th>2</th>\n",
       "      <td>901</td>\n",
       "      <td>Fin</td>\n",
       "      <td>85000</td>\n",
       "      <td>Vegas</td>\n",
       "      <td>51</td>\n",
       "      <td>Marketing</td>\n",
       "      <td>600000</td>\n",
       "      <td>N</td>\n",
       "      <td>Married</td>\n",
       "      <td>HSC</td>\n",
       "    </tr>\n",
       "    <tr>\n",
       "      <th>3</th>\n",
       "      <td>1001</td>\n",
       "      <td>Grant</td>\n",
       "      <td>61500</td>\n",
       "      <td>New York</td>\n",
       "      <td>39</td>\n",
       "      <td>IT</td>\n",
       "      <td>75000</td>\n",
       "      <td>N</td>\n",
       "      <td>Single</td>\n",
       "      <td>Graduate</td>\n",
       "    </tr>\n",
       "    <tr>\n",
       "      <th>4</th>\n",
       "      <td>1002</td>\n",
       "      <td>Cooper</td>\n",
       "      <td>31500</td>\n",
       "      <td>Dallas</td>\n",
       "      <td>27</td>\n",
       "      <td>IT</td>\n",
       "      <td>250000</td>\n",
       "      <td>N</td>\n",
       "      <td>Married</td>\n",
       "      <td>Graduate</td>\n",
       "    </tr>\n",
       "    <tr>\n",
       "      <th>5</th>\n",
       "      <td>1003</td>\n",
       "      <td>Brand</td>\n",
       "      <td>40500</td>\n",
       "      <td>San Francisco</td>\n",
       "      <td>49</td>\n",
       "      <td>Marketing</td>\n",
       "      <td>50000</td>\n",
       "      <td>N</td>\n",
       "      <td>Married</td>\n",
       "      <td>PG</td>\n",
       "    </tr>\n",
       "  </tbody>\n",
       "</table>\n",
       "</div>"
      ],
      "text/plain": [
       "     ID    Name  Income           City  Age Department   Sales Response  \\\n",
       "0   101   James   50000        Chicago   27         HR  700000        Y   \n",
       "1   201     Tom   35000       New York   33  Analytics  550000        Y   \n",
       "2   901     Fin   85000          Vegas   51  Marketing  600000        N   \n",
       "3  1001   Grant   61500       New York   39         IT   75000        N   \n",
       "4  1002  Cooper   31500         Dallas   27         IT  250000        N   \n",
       "5  1003   Brand   40500  San Francisco   49  Marketing   50000        N   \n",
       "\n",
       "  Marital_Status Education  \n",
       "0        Married        PG  \n",
       "1         Single  Graduate  \n",
       "2        Married       HSC  \n",
       "3         Single  Graduate  \n",
       "4        Married  Graduate  \n",
       "5        Married        PG  "
      ]
     },
     "execution_count": 473,
     "metadata": {},
     "output_type": "execute_result"
    }
   ],
   "source": [
    "# Left join to get all the columns of df1 and df2 in the same table\n",
    "pd.merge(df1,df2, how = 'left', on = 'ID')"
   ]
  },
  {
   "cell_type": "code",
   "execution_count": 474,
   "metadata": {},
   "outputs": [
    {
     "data": {
      "text/html": [
       "<div>\n",
       "<style scoped>\n",
       "    .dataframe tbody tr th:only-of-type {\n",
       "        vertical-align: middle;\n",
       "    }\n",
       "\n",
       "    .dataframe tbody tr th {\n",
       "        vertical-align: top;\n",
       "    }\n",
       "\n",
       "    .dataframe thead th {\n",
       "        text-align: right;\n",
       "    }\n",
       "</style>\n",
       "<table border=\"1\" class=\"dataframe\">\n",
       "  <thead>\n",
       "    <tr style=\"text-align: right;\">\n",
       "      <th></th>\n",
       "      <th>ID</th>\n",
       "      <th>Name</th>\n",
       "      <th>Income</th>\n",
       "      <th>City</th>\n",
       "      <th>Age</th>\n",
       "      <th>Department</th>\n",
       "      <th>Sales</th>\n",
       "      <th>Response</th>\n",
       "      <th>Marital_Status</th>\n",
       "      <th>Education</th>\n",
       "    </tr>\n",
       "  </thead>\n",
       "  <tbody>\n",
       "    <tr>\n",
       "      <th>0</th>\n",
       "      <td>101</td>\n",
       "      <td>James</td>\n",
       "      <td>50000</td>\n",
       "      <td>Chicago</td>\n",
       "      <td>27</td>\n",
       "      <td>HR</td>\n",
       "      <td>700000</td>\n",
       "      <td>Y</td>\n",
       "      <td>Married</td>\n",
       "      <td>PG</td>\n",
       "    </tr>\n",
       "    <tr>\n",
       "      <th>1</th>\n",
       "      <td>201</td>\n",
       "      <td>Tom</td>\n",
       "      <td>35000</td>\n",
       "      <td>New York</td>\n",
       "      <td>33</td>\n",
       "      <td>Analytics</td>\n",
       "      <td>550000</td>\n",
       "      <td>Y</td>\n",
       "      <td>Single</td>\n",
       "      <td>Graduate</td>\n",
       "    </tr>\n",
       "    <tr>\n",
       "      <th>2</th>\n",
       "      <td>901</td>\n",
       "      <td>Fin</td>\n",
       "      <td>85000</td>\n",
       "      <td>Vegas</td>\n",
       "      <td>51</td>\n",
       "      <td>Marketing</td>\n",
       "      <td>600000</td>\n",
       "      <td>N</td>\n",
       "      <td>Married</td>\n",
       "      <td>HSC</td>\n",
       "    </tr>\n",
       "    <tr>\n",
       "      <th>3</th>\n",
       "      <td>1001</td>\n",
       "      <td>Grant</td>\n",
       "      <td>61500</td>\n",
       "      <td>New York</td>\n",
       "      <td>39</td>\n",
       "      <td>IT</td>\n",
       "      <td>75000</td>\n",
       "      <td>N</td>\n",
       "      <td>Single</td>\n",
       "      <td>Graduate</td>\n",
       "    </tr>\n",
       "    <tr>\n",
       "      <th>4</th>\n",
       "      <td>1002</td>\n",
       "      <td>Cooper</td>\n",
       "      <td>31500</td>\n",
       "      <td>Dallas</td>\n",
       "      <td>27</td>\n",
       "      <td>IT</td>\n",
       "      <td>250000</td>\n",
       "      <td>N</td>\n",
       "      <td>Married</td>\n",
       "      <td>Graduate</td>\n",
       "    </tr>\n",
       "    <tr>\n",
       "      <th>5</th>\n",
       "      <td>1003</td>\n",
       "      <td>Brand</td>\n",
       "      <td>40500</td>\n",
       "      <td>San Francisco</td>\n",
       "      <td>49</td>\n",
       "      <td>Marketing</td>\n",
       "      <td>50000</td>\n",
       "      <td>N</td>\n",
       "      <td>Married</td>\n",
       "      <td>PG</td>\n",
       "    </tr>\n",
       "  </tbody>\n",
       "</table>\n",
       "</div>"
      ],
      "text/plain": [
       "     ID    Name  Income           City  Age Department   Sales Response  \\\n",
       "0   101   James   50000        Chicago   27         HR  700000        Y   \n",
       "1   201     Tom   35000       New York   33  Analytics  550000        Y   \n",
       "2   901     Fin   85000          Vegas   51  Marketing  600000        N   \n",
       "3  1001   Grant   61500       New York   39         IT   75000        N   \n",
       "4  1002  Cooper   31500         Dallas   27         IT  250000        N   \n",
       "5  1003   Brand   40500  San Francisco   49  Marketing   50000        N   \n",
       "\n",
       "  Marital_Status Education  \n",
       "0        Married        PG  \n",
       "1         Single  Graduate  \n",
       "2        Married       HSC  \n",
       "3         Single  Graduate  \n",
       "4        Married  Graduate  \n",
       "5        Married        PG  "
      ]
     },
     "execution_count": 474,
     "metadata": {},
     "output_type": "execute_result"
    }
   ],
   "source": [
    "# Right join to get all the columns of df1 and df2 in the same table\n",
    "pd.merge(df1,df2, how = 'right', on = 'ID')"
   ]
  },
  {
   "cell_type": "code",
   "execution_count": 476,
   "metadata": {},
   "outputs": [
    {
     "data": {
      "text/html": [
       "<div>\n",
       "<style scoped>\n",
       "    .dataframe tbody tr th:only-of-type {\n",
       "        vertical-align: middle;\n",
       "    }\n",
       "\n",
       "    .dataframe tbody tr th {\n",
       "        vertical-align: top;\n",
       "    }\n",
       "\n",
       "    .dataframe thead th {\n",
       "        text-align: right;\n",
       "    }\n",
       "</style>\n",
       "<table border=\"1\" class=\"dataframe\">\n",
       "  <thead>\n",
       "    <tr style=\"text-align: right;\">\n",
       "      <th></th>\n",
       "      <th>ID</th>\n",
       "      <th>Name</th>\n",
       "      <th>Age</th>\n",
       "      <th>Marital_Status</th>\n",
       "      <th>Education</th>\n",
       "    </tr>\n",
       "  </thead>\n",
       "  <tbody>\n",
       "    <tr>\n",
       "      <th>0</th>\n",
       "      <td>101</td>\n",
       "      <td>James</td>\n",
       "      <td>27</td>\n",
       "      <td>Married</td>\n",
       "      <td>PG</td>\n",
       "    </tr>\n",
       "    <tr>\n",
       "      <th>1</th>\n",
       "      <td>201</td>\n",
       "      <td>Tom</td>\n",
       "      <td>33</td>\n",
       "      <td>Single</td>\n",
       "      <td>Graduate</td>\n",
       "    </tr>\n",
       "    <tr>\n",
       "      <th>2</th>\n",
       "      <td>901</td>\n",
       "      <td>Fin</td>\n",
       "      <td>51</td>\n",
       "      <td>Married</td>\n",
       "      <td>HSC</td>\n",
       "    </tr>\n",
       "    <tr>\n",
       "      <th>3</th>\n",
       "      <td>1001</td>\n",
       "      <td>Grant</td>\n",
       "      <td>39</td>\n",
       "      <td>Single</td>\n",
       "      <td>Graduate</td>\n",
       "    </tr>\n",
       "    <tr>\n",
       "      <th>4</th>\n",
       "      <td>1002</td>\n",
       "      <td>Cooper</td>\n",
       "      <td>27</td>\n",
       "      <td>Married</td>\n",
       "      <td>Graduate</td>\n",
       "    </tr>\n",
       "    <tr>\n",
       "      <th>5</th>\n",
       "      <td>1003</td>\n",
       "      <td>Brand</td>\n",
       "      <td>49</td>\n",
       "      <td>Married</td>\n",
       "      <td>PG</td>\n",
       "    </tr>\n",
       "  </tbody>\n",
       "</table>\n",
       "</div>"
      ],
      "text/plain": [
       "     ID    Name  Age Marital_Status Education\n",
       "0   101   James   27        Married        PG\n",
       "1   201     Tom   33         Single  Graduate\n",
       "2   901     Fin   51        Married       HSC\n",
       "3  1001   Grant   39         Single  Graduate\n",
       "4  1002  Cooper   27        Married  Graduate\n",
       "5  1003   Brand   49        Married        PG"
      ]
     },
     "execution_count": 476,
     "metadata": {},
     "output_type": "execute_result"
    }
   ],
   "source": [
    "# Selecting few columns from df1 and all from df2\n",
    "pd.merge(df1[['ID', 'Name', 'Age']], df2, how = 'left', on = 'ID')"
   ]
  },
  {
   "cell_type": "markdown",
   "metadata": {},
   "source": [
    "Like in SQL in Pandas also tables can be joined based on two columns. Just add the other column in \"on\" argument in double square brackets"
   ]
  },
  {
   "cell_type": "markdown",
   "metadata": {},
   "source": [
    "#### Operations"
   ]
  },
  {
   "cell_type": "code",
   "execution_count": 623,
   "metadata": {},
   "outputs": [
    {
     "data": {
      "text/html": [
       "<div>\n",
       "<style scoped>\n",
       "    .dataframe tbody tr th:only-of-type {\n",
       "        vertical-align: middle;\n",
       "    }\n",
       "\n",
       "    .dataframe tbody tr th {\n",
       "        vertical-align: top;\n",
       "    }\n",
       "\n",
       "    .dataframe thead th {\n",
       "        text-align: right;\n",
       "    }\n",
       "</style>\n",
       "<table border=\"1\" class=\"dataframe\">\n",
       "  <thead>\n",
       "    <tr style=\"text-align: right;\">\n",
       "      <th></th>\n",
       "      <th>ID</th>\n",
       "      <th>Name</th>\n",
       "      <th>Income</th>\n",
       "      <th>City</th>\n",
       "      <th>Age</th>\n",
       "      <th>Department</th>\n",
       "      <th>Sales</th>\n",
       "      <th>Response</th>\n",
       "    </tr>\n",
       "  </thead>\n",
       "  <tbody>\n",
       "    <tr>\n",
       "      <th>0</th>\n",
       "      <td>101</td>\n",
       "      <td>James</td>\n",
       "      <td>50000.0</td>\n",
       "      <td>Chicago</td>\n",
       "      <td>27.0</td>\n",
       "      <td>HR</td>\n",
       "      <td>700000</td>\n",
       "      <td>Y</td>\n",
       "    </tr>\n",
       "    <tr>\n",
       "      <th>1</th>\n",
       "      <td>201</td>\n",
       "      <td>Tom</td>\n",
       "      <td>35000.0</td>\n",
       "      <td>New York</td>\n",
       "      <td>33.0</td>\n",
       "      <td>Analytics</td>\n",
       "      <td>550000</td>\n",
       "      <td>Y</td>\n",
       "    </tr>\n",
       "    <tr>\n",
       "      <th>2</th>\n",
       "      <td>301</td>\n",
       "      <td>Starc</td>\n",
       "      <td>20000.0</td>\n",
       "      <td>Dallas</td>\n",
       "      <td>21.0</td>\n",
       "      <td>IT</td>\n",
       "      <td>125000</td>\n",
       "      <td>N</td>\n",
       "    </tr>\n",
       "    <tr>\n",
       "      <th>3</th>\n",
       "      <td>401</td>\n",
       "      <td>Phil</td>\n",
       "      <td>100000.0</td>\n",
       "      <td>Dallas</td>\n",
       "      <td>40.0</td>\n",
       "      <td>HR</td>\n",
       "      <td>800000</td>\n",
       "      <td>Y</td>\n",
       "    </tr>\n",
       "    <tr>\n",
       "      <th>4</th>\n",
       "      <td>501</td>\n",
       "      <td>Rick</td>\n",
       "      <td>NaN</td>\n",
       "      <td>San Francisco</td>\n",
       "      <td>NaN</td>\n",
       "      <td>IT</td>\n",
       "      <td>75000</td>\n",
       "      <td>Y</td>\n",
       "    </tr>\n",
       "    <tr>\n",
       "      <th>5</th>\n",
       "      <td>601</td>\n",
       "      <td>Harry</td>\n",
       "      <td>135000.0</td>\n",
       "      <td>Vegas</td>\n",
       "      <td>44.0</td>\n",
       "      <td>Marketing</td>\n",
       "      <td>900000</td>\n",
       "      <td>N</td>\n",
       "    </tr>\n",
       "    <tr>\n",
       "      <th>6</th>\n",
       "      <td>701</td>\n",
       "      <td>Jim</td>\n",
       "      <td>25000.0</td>\n",
       "      <td>Los Angeles</td>\n",
       "      <td>24.0</td>\n",
       "      <td>HR</td>\n",
       "      <td>350000</td>\n",
       "      <td>Y</td>\n",
       "    </tr>\n",
       "    <tr>\n",
       "      <th>7</th>\n",
       "      <td>801</td>\n",
       "      <td>Ricky</td>\n",
       "      <td>75000.0</td>\n",
       "      <td>Chicago</td>\n",
       "      <td>NaN</td>\n",
       "      <td>Analytics</td>\n",
       "      <td>450000</td>\n",
       "      <td>N</td>\n",
       "    </tr>\n",
       "    <tr>\n",
       "      <th>8</th>\n",
       "      <td>901</td>\n",
       "      <td>Fin</td>\n",
       "      <td>85000.0</td>\n",
       "      <td>Vegas</td>\n",
       "      <td>51.0</td>\n",
       "      <td>Marketing</td>\n",
       "      <td>600000</td>\n",
       "      <td>N</td>\n",
       "    </tr>\n",
       "    <tr>\n",
       "      <th>9</th>\n",
       "      <td>1001</td>\n",
       "      <td>Grant</td>\n",
       "      <td>61500.0</td>\n",
       "      <td>New York</td>\n",
       "      <td>39.0</td>\n",
       "      <td>IT</td>\n",
       "      <td>75000</td>\n",
       "      <td>N</td>\n",
       "    </tr>\n",
       "    <tr>\n",
       "      <th>10</th>\n",
       "      <td>1002</td>\n",
       "      <td>Cooper</td>\n",
       "      <td>31500.0</td>\n",
       "      <td>Dallas</td>\n",
       "      <td>27.0</td>\n",
       "      <td>IT</td>\n",
       "      <td>250000</td>\n",
       "      <td>N</td>\n",
       "    </tr>\n",
       "    <tr>\n",
       "      <th>11</th>\n",
       "      <td>1003</td>\n",
       "      <td>Brand</td>\n",
       "      <td>40500.0</td>\n",
       "      <td>San Francisco</td>\n",
       "      <td>49.0</td>\n",
       "      <td>Marketing</td>\n",
       "      <td>50000</td>\n",
       "      <td>N</td>\n",
       "    </tr>\n",
       "  </tbody>\n",
       "</table>\n",
       "</div>"
      ],
      "text/plain": [
       "      ID    Name    Income           City   Age Department   Sales Response\n",
       "0    101   James   50000.0        Chicago  27.0         HR  700000        Y\n",
       "1    201     Tom   35000.0       New York  33.0  Analytics  550000        Y\n",
       "2    301   Starc   20000.0         Dallas  21.0         IT  125000        N\n",
       "3    401    Phil  100000.0         Dallas  40.0         HR  800000        Y\n",
       "4    501    Rick       NaN  San Francisco   NaN         IT   75000        Y\n",
       "5    601   Harry  135000.0          Vegas  44.0  Marketing  900000        N\n",
       "6    701     Jim   25000.0    Los Angeles  24.0         HR  350000        Y\n",
       "7    801   Ricky   75000.0        Chicago   NaN  Analytics  450000        N\n",
       "8    901     Fin   85000.0          Vegas  51.0  Marketing  600000        N\n",
       "9   1001   Grant   61500.0       New York  39.0         IT   75000        N\n",
       "10  1002  Cooper   31500.0         Dallas  27.0         IT  250000        N\n",
       "11  1003   Brand   40500.0  San Francisco  49.0  Marketing   50000        N"
      ]
     },
     "execution_count": 623,
     "metadata": {},
     "output_type": "execute_result"
    }
   ],
   "source": [
    "# We would be using following DataFrame for understanding few functions\n",
    "df"
   ]
  },
  {
   "cell_type": "markdown",
   "metadata": {},
   "source": [
    "##### No. of rows and columns in a DataFrame"
   ]
  },
  {
   "cell_type": "code",
   "execution_count": 625,
   "metadata": {},
   "outputs": [
    {
     "data": {
      "text/plain": [
       "(12, 8)"
      ]
     },
     "execution_count": 625,
     "metadata": {},
     "output_type": "execute_result"
    }
   ],
   "source": [
    "# df.shape gives number of rows and columns in a DataFrame (rows, columns)\n",
    "df.shape"
   ]
  },
  {
   "cell_type": "markdown",
   "metadata": {},
   "source": [
    "While preparing data for developing a model it is always important to check if the dataset is unique at primary key level i.e.\n",
    "there are no duplicate records (until and unless required depending on the use case). In SQL we can use count() and \n",
    "count (distinct <primary_key>) functions to check if my dataset is unique or not. "
   ]
  },
  {
   "cell_type": "markdown",
   "metadata": {},
   "source": [
    "In Python we can use df.shape function to check the total number of records and df['<primary_key>'].nunique() function to check unique number of records in a DataFrame. let us check this on the above DataFrame"
   ]
  },
  {
   "cell_type": "markdown",
   "metadata": {},
   "source": [
    "##### Count of unique elements in a column"
   ]
  },
  {
   "cell_type": "code",
   "execution_count": 627,
   "metadata": {},
   "outputs": [
    {
     "data": {
      "text/plain": [
       "12"
      ]
     },
     "execution_count": 627,
     "metadata": {},
     "output_type": "execute_result"
    }
   ],
   "source": [
    "# ID here is primary key, so getting count of unique IDs in our Dataset\n",
    "df['ID'].nunique()"
   ]
  },
  {
   "cell_type": "code",
   "execution_count": 629,
   "metadata": {},
   "outputs": [
    {
     "data": {
      "text/plain": [
       "12"
      ]
     },
     "execution_count": 629,
     "metadata": {},
     "output_type": "execute_result"
    }
   ],
   "source": [
    "# We can get this count using one more method\n",
    "len(df['ID'].unique())"
   ]
  },
  {
   "cell_type": "markdown",
   "metadata": {},
   "source": [
    "##### Unique elements in a  column"
   ]
  },
  {
   "cell_type": "markdown",
   "metadata": {},
   "source": [
    "df.unique() function gets all the unique values for a particular column in a DataFrame"
   ]
  },
  {
   "cell_type": "code",
   "execution_count": 478,
   "metadata": {},
   "outputs": [
    {
     "data": {
      "text/plain": [
       "array(['Chicago', 'New York', 'Dallas', 'San Francisco', 'Vegas',\n",
       "       'Los Angeles'], dtype=object)"
      ]
     },
     "execution_count": 478,
     "metadata": {},
     "output_type": "execute_result"
    }
   ],
   "source": [
    "df['City'].unique()"
   ]
  },
  {
   "cell_type": "markdown",
   "metadata": {},
   "source": [
    "City column has 6 unique cities which is the output of unique() function "
   ]
  },
  {
   "cell_type": "markdown",
   "metadata": {},
   "source": [
    "##### Count of unique elements in a column"
   ]
  },
  {
   "cell_type": "code",
   "execution_count": 485,
   "metadata": {},
   "outputs": [
    {
     "data": {
      "text/plain": [
       "6"
      ]
     },
     "execution_count": 485,
     "metadata": {},
     "output_type": "execute_result"
    }
   ],
   "source": [
    "df['City'].nunique()"
   ]
  },
  {
   "cell_type": "code",
   "execution_count": 486,
   "metadata": {},
   "outputs": [
    {
     "data": {
      "text/plain": [
       "6"
      ]
     },
     "execution_count": 486,
     "metadata": {},
     "output_type": "execute_result"
    }
   ],
   "source": [
    "# We can get this count using one more method\n",
    "len(df['City'].unique())"
   ]
  },
  {
   "cell_type": "markdown",
   "metadata": {},
   "source": [
    "##### Frequency distribution or count of each element in a column"
   ]
  },
  {
   "cell_type": "code",
   "execution_count": 491,
   "metadata": {},
   "outputs": [
    {
     "data": {
      "text/plain": [
       "Dallas           3\n",
       "Vegas            2\n",
       "Chicago          2\n",
       "San Francisco    2\n",
       "New York         2\n",
       "Los Angeles      1\n",
       "Name: City, dtype: int64"
      ]
     },
     "execution_count": 491,
     "metadata": {},
     "output_type": "execute_result"
    }
   ],
   "source": [
    "df['City'].value_counts()"
   ]
  },
  {
   "cell_type": "markdown",
   "metadata": {},
   "source": [
    "##### Sorting"
   ]
  },
  {
   "cell_type": "code",
   "execution_count": 502,
   "metadata": {},
   "outputs": [
    {
     "data": {
      "text/html": [
       "<div>\n",
       "<style scoped>\n",
       "    .dataframe tbody tr th:only-of-type {\n",
       "        vertical-align: middle;\n",
       "    }\n",
       "\n",
       "    .dataframe tbody tr th {\n",
       "        vertical-align: top;\n",
       "    }\n",
       "\n",
       "    .dataframe thead th {\n",
       "        text-align: right;\n",
       "    }\n",
       "</style>\n",
       "<table border=\"1\" class=\"dataframe\">\n",
       "  <thead>\n",
       "    <tr style=\"text-align: right;\">\n",
       "      <th></th>\n",
       "      <th>ID</th>\n",
       "      <th>Name</th>\n",
       "      <th>Income</th>\n",
       "      <th>City</th>\n",
       "      <th>Age</th>\n",
       "      <th>Department</th>\n",
       "      <th>Sales</th>\n",
       "      <th>Response</th>\n",
       "    </tr>\n",
       "  </thead>\n",
       "  <tbody>\n",
       "    <tr>\n",
       "      <th>2</th>\n",
       "      <td>301</td>\n",
       "      <td>Starc</td>\n",
       "      <td>20000.0</td>\n",
       "      <td>Dallas</td>\n",
       "      <td>21.0</td>\n",
       "      <td>IT</td>\n",
       "      <td>125000</td>\n",
       "      <td>N</td>\n",
       "    </tr>\n",
       "    <tr>\n",
       "      <th>6</th>\n",
       "      <td>701</td>\n",
       "      <td>Jim</td>\n",
       "      <td>25000.0</td>\n",
       "      <td>Los Angeles</td>\n",
       "      <td>24.0</td>\n",
       "      <td>HR</td>\n",
       "      <td>350000</td>\n",
       "      <td>Y</td>\n",
       "    </tr>\n",
       "    <tr>\n",
       "      <th>10</th>\n",
       "      <td>1002</td>\n",
       "      <td>Cooper</td>\n",
       "      <td>31500.0</td>\n",
       "      <td>Dallas</td>\n",
       "      <td>27.0</td>\n",
       "      <td>IT</td>\n",
       "      <td>250000</td>\n",
       "      <td>N</td>\n",
       "    </tr>\n",
       "    <tr>\n",
       "      <th>1</th>\n",
       "      <td>201</td>\n",
       "      <td>Tom</td>\n",
       "      <td>35000.0</td>\n",
       "      <td>New York</td>\n",
       "      <td>33.0</td>\n",
       "      <td>Analytics</td>\n",
       "      <td>550000</td>\n",
       "      <td>Y</td>\n",
       "    </tr>\n",
       "    <tr>\n",
       "      <th>11</th>\n",
       "      <td>1003</td>\n",
       "      <td>Brand</td>\n",
       "      <td>40500.0</td>\n",
       "      <td>San Francisco</td>\n",
       "      <td>49.0</td>\n",
       "      <td>Marketing</td>\n",
       "      <td>50000</td>\n",
       "      <td>N</td>\n",
       "    </tr>\n",
       "    <tr>\n",
       "      <th>0</th>\n",
       "      <td>101</td>\n",
       "      <td>James</td>\n",
       "      <td>50000.0</td>\n",
       "      <td>Chicago</td>\n",
       "      <td>27.0</td>\n",
       "      <td>HR</td>\n",
       "      <td>700000</td>\n",
       "      <td>Y</td>\n",
       "    </tr>\n",
       "    <tr>\n",
       "      <th>9</th>\n",
       "      <td>1001</td>\n",
       "      <td>Grant</td>\n",
       "      <td>61500.0</td>\n",
       "      <td>New York</td>\n",
       "      <td>39.0</td>\n",
       "      <td>IT</td>\n",
       "      <td>75000</td>\n",
       "      <td>N</td>\n",
       "    </tr>\n",
       "    <tr>\n",
       "      <th>7</th>\n",
       "      <td>801</td>\n",
       "      <td>Ricky</td>\n",
       "      <td>75000.0</td>\n",
       "      <td>Chicago</td>\n",
       "      <td>NaN</td>\n",
       "      <td>Analytics</td>\n",
       "      <td>450000</td>\n",
       "      <td>N</td>\n",
       "    </tr>\n",
       "    <tr>\n",
       "      <th>8</th>\n",
       "      <td>901</td>\n",
       "      <td>Fin</td>\n",
       "      <td>85000.0</td>\n",
       "      <td>Vegas</td>\n",
       "      <td>51.0</td>\n",
       "      <td>Marketing</td>\n",
       "      <td>600000</td>\n",
       "      <td>N</td>\n",
       "    </tr>\n",
       "    <tr>\n",
       "      <th>3</th>\n",
       "      <td>401</td>\n",
       "      <td>Phil</td>\n",
       "      <td>100000.0</td>\n",
       "      <td>Dallas</td>\n",
       "      <td>40.0</td>\n",
       "      <td>HR</td>\n",
       "      <td>800000</td>\n",
       "      <td>Y</td>\n",
       "    </tr>\n",
       "    <tr>\n",
       "      <th>5</th>\n",
       "      <td>601</td>\n",
       "      <td>Harry</td>\n",
       "      <td>135000.0</td>\n",
       "      <td>Vegas</td>\n",
       "      <td>44.0</td>\n",
       "      <td>Marketing</td>\n",
       "      <td>900000</td>\n",
       "      <td>N</td>\n",
       "    </tr>\n",
       "    <tr>\n",
       "      <th>4</th>\n",
       "      <td>501</td>\n",
       "      <td>Rick</td>\n",
       "      <td>NaN</td>\n",
       "      <td>San Francisco</td>\n",
       "      <td>NaN</td>\n",
       "      <td>IT</td>\n",
       "      <td>75000</td>\n",
       "      <td>Y</td>\n",
       "    </tr>\n",
       "  </tbody>\n",
       "</table>\n",
       "</div>"
      ],
      "text/plain": [
       "      ID    Name    Income           City   Age Department   Sales Response\n",
       "2    301   Starc   20000.0         Dallas  21.0         IT  125000        N\n",
       "6    701     Jim   25000.0    Los Angeles  24.0         HR  350000        Y\n",
       "10  1002  Cooper   31500.0         Dallas  27.0         IT  250000        N\n",
       "1    201     Tom   35000.0       New York  33.0  Analytics  550000        Y\n",
       "11  1003   Brand   40500.0  San Francisco  49.0  Marketing   50000        N\n",
       "0    101   James   50000.0        Chicago  27.0         HR  700000        Y\n",
       "9   1001   Grant   61500.0       New York  39.0         IT   75000        N\n",
       "7    801   Ricky   75000.0        Chicago   NaN  Analytics  450000        N\n",
       "8    901     Fin   85000.0          Vegas  51.0  Marketing  600000        N\n",
       "3    401    Phil  100000.0         Dallas  40.0         HR  800000        Y\n",
       "5    601   Harry  135000.0          Vegas  44.0  Marketing  900000        N\n",
       "4    501    Rick       NaN  San Francisco   NaN         IT   75000        Y"
      ]
     },
     "execution_count": 502,
     "metadata": {},
     "output_type": "execute_result"
    }
   ],
   "source": [
    "# By default sort_values will sort in ascending order by the column you have specified\n",
    "df.sort_values('Income')"
   ]
  },
  {
   "cell_type": "code",
   "execution_count": 503,
   "metadata": {},
   "outputs": [
    {
     "data": {
      "text/html": [
       "<div>\n",
       "<style scoped>\n",
       "    .dataframe tbody tr th:only-of-type {\n",
       "        vertical-align: middle;\n",
       "    }\n",
       "\n",
       "    .dataframe tbody tr th {\n",
       "        vertical-align: top;\n",
       "    }\n",
       "\n",
       "    .dataframe thead th {\n",
       "        text-align: right;\n",
       "    }\n",
       "</style>\n",
       "<table border=\"1\" class=\"dataframe\">\n",
       "  <thead>\n",
       "    <tr style=\"text-align: right;\">\n",
       "      <th></th>\n",
       "      <th>ID</th>\n",
       "      <th>Name</th>\n",
       "      <th>Income</th>\n",
       "      <th>City</th>\n",
       "      <th>Age</th>\n",
       "      <th>Department</th>\n",
       "      <th>Sales</th>\n",
       "      <th>Response</th>\n",
       "    </tr>\n",
       "  </thead>\n",
       "  <tbody>\n",
       "    <tr>\n",
       "      <th>5</th>\n",
       "      <td>601</td>\n",
       "      <td>Harry</td>\n",
       "      <td>135000.0</td>\n",
       "      <td>Vegas</td>\n",
       "      <td>44.0</td>\n",
       "      <td>Marketing</td>\n",
       "      <td>900000</td>\n",
       "      <td>N</td>\n",
       "    </tr>\n",
       "    <tr>\n",
       "      <th>3</th>\n",
       "      <td>401</td>\n",
       "      <td>Phil</td>\n",
       "      <td>100000.0</td>\n",
       "      <td>Dallas</td>\n",
       "      <td>40.0</td>\n",
       "      <td>HR</td>\n",
       "      <td>800000</td>\n",
       "      <td>Y</td>\n",
       "    </tr>\n",
       "    <tr>\n",
       "      <th>8</th>\n",
       "      <td>901</td>\n",
       "      <td>Fin</td>\n",
       "      <td>85000.0</td>\n",
       "      <td>Vegas</td>\n",
       "      <td>51.0</td>\n",
       "      <td>Marketing</td>\n",
       "      <td>600000</td>\n",
       "      <td>N</td>\n",
       "    </tr>\n",
       "    <tr>\n",
       "      <th>7</th>\n",
       "      <td>801</td>\n",
       "      <td>Ricky</td>\n",
       "      <td>75000.0</td>\n",
       "      <td>Chicago</td>\n",
       "      <td>NaN</td>\n",
       "      <td>Analytics</td>\n",
       "      <td>450000</td>\n",
       "      <td>N</td>\n",
       "    </tr>\n",
       "    <tr>\n",
       "      <th>9</th>\n",
       "      <td>1001</td>\n",
       "      <td>Grant</td>\n",
       "      <td>61500.0</td>\n",
       "      <td>New York</td>\n",
       "      <td>39.0</td>\n",
       "      <td>IT</td>\n",
       "      <td>75000</td>\n",
       "      <td>N</td>\n",
       "    </tr>\n",
       "    <tr>\n",
       "      <th>0</th>\n",
       "      <td>101</td>\n",
       "      <td>James</td>\n",
       "      <td>50000.0</td>\n",
       "      <td>Chicago</td>\n",
       "      <td>27.0</td>\n",
       "      <td>HR</td>\n",
       "      <td>700000</td>\n",
       "      <td>Y</td>\n",
       "    </tr>\n",
       "    <tr>\n",
       "      <th>11</th>\n",
       "      <td>1003</td>\n",
       "      <td>Brand</td>\n",
       "      <td>40500.0</td>\n",
       "      <td>San Francisco</td>\n",
       "      <td>49.0</td>\n",
       "      <td>Marketing</td>\n",
       "      <td>50000</td>\n",
       "      <td>N</td>\n",
       "    </tr>\n",
       "    <tr>\n",
       "      <th>1</th>\n",
       "      <td>201</td>\n",
       "      <td>Tom</td>\n",
       "      <td>35000.0</td>\n",
       "      <td>New York</td>\n",
       "      <td>33.0</td>\n",
       "      <td>Analytics</td>\n",
       "      <td>550000</td>\n",
       "      <td>Y</td>\n",
       "    </tr>\n",
       "    <tr>\n",
       "      <th>10</th>\n",
       "      <td>1002</td>\n",
       "      <td>Cooper</td>\n",
       "      <td>31500.0</td>\n",
       "      <td>Dallas</td>\n",
       "      <td>27.0</td>\n",
       "      <td>IT</td>\n",
       "      <td>250000</td>\n",
       "      <td>N</td>\n",
       "    </tr>\n",
       "    <tr>\n",
       "      <th>6</th>\n",
       "      <td>701</td>\n",
       "      <td>Jim</td>\n",
       "      <td>25000.0</td>\n",
       "      <td>Los Angeles</td>\n",
       "      <td>24.0</td>\n",
       "      <td>HR</td>\n",
       "      <td>350000</td>\n",
       "      <td>Y</td>\n",
       "    </tr>\n",
       "    <tr>\n",
       "      <th>2</th>\n",
       "      <td>301</td>\n",
       "      <td>Starc</td>\n",
       "      <td>20000.0</td>\n",
       "      <td>Dallas</td>\n",
       "      <td>21.0</td>\n",
       "      <td>IT</td>\n",
       "      <td>125000</td>\n",
       "      <td>N</td>\n",
       "    </tr>\n",
       "    <tr>\n",
       "      <th>4</th>\n",
       "      <td>501</td>\n",
       "      <td>Rick</td>\n",
       "      <td>NaN</td>\n",
       "      <td>San Francisco</td>\n",
       "      <td>NaN</td>\n",
       "      <td>IT</td>\n",
       "      <td>75000</td>\n",
       "      <td>Y</td>\n",
       "    </tr>\n",
       "  </tbody>\n",
       "</table>\n",
       "</div>"
      ],
      "text/plain": [
       "      ID    Name    Income           City   Age Department   Sales Response\n",
       "5    601   Harry  135000.0          Vegas  44.0  Marketing  900000        N\n",
       "3    401    Phil  100000.0         Dallas  40.0         HR  800000        Y\n",
       "8    901     Fin   85000.0          Vegas  51.0  Marketing  600000        N\n",
       "7    801   Ricky   75000.0        Chicago   NaN  Analytics  450000        N\n",
       "9   1001   Grant   61500.0       New York  39.0         IT   75000        N\n",
       "0    101   James   50000.0        Chicago  27.0         HR  700000        Y\n",
       "11  1003   Brand   40500.0  San Francisco  49.0  Marketing   50000        N\n",
       "1    201     Tom   35000.0       New York  33.0  Analytics  550000        Y\n",
       "10  1002  Cooper   31500.0         Dallas  27.0         IT  250000        N\n",
       "6    701     Jim   25000.0    Los Angeles  24.0         HR  350000        Y\n",
       "2    301   Starc   20000.0         Dallas  21.0         IT  125000        N\n",
       "4    501    Rick       NaN  San Francisco   NaN         IT   75000        Y"
      ]
     },
     "execution_count": 503,
     "metadata": {},
     "output_type": "execute_result"
    }
   ],
   "source": [
    "# Sorting in descending order\n",
    "df.sort_values('Income', ascending = False)"
   ]
  },
  {
   "cell_type": "code",
   "execution_count": 505,
   "metadata": {},
   "outputs": [
    {
     "data": {
      "text/html": [
       "<div>\n",
       "<style scoped>\n",
       "    .dataframe tbody tr th:only-of-type {\n",
       "        vertical-align: middle;\n",
       "    }\n",
       "\n",
       "    .dataframe tbody tr th {\n",
       "        vertical-align: top;\n",
       "    }\n",
       "\n",
       "    .dataframe thead th {\n",
       "        text-align: right;\n",
       "    }\n",
       "</style>\n",
       "<table border=\"1\" class=\"dataframe\">\n",
       "  <thead>\n",
       "    <tr style=\"text-align: right;\">\n",
       "      <th></th>\n",
       "      <th>ID</th>\n",
       "      <th>Name</th>\n",
       "      <th>Income</th>\n",
       "      <th>City</th>\n",
       "      <th>Age</th>\n",
       "      <th>Department</th>\n",
       "      <th>Sales</th>\n",
       "      <th>Response</th>\n",
       "    </tr>\n",
       "  </thead>\n",
       "  <tbody>\n",
       "    <tr>\n",
       "      <th>5</th>\n",
       "      <td>601</td>\n",
       "      <td>Harry</td>\n",
       "      <td>135000.0</td>\n",
       "      <td>Vegas</td>\n",
       "      <td>44.0</td>\n",
       "      <td>Marketing</td>\n",
       "      <td>900000</td>\n",
       "      <td>N</td>\n",
       "    </tr>\n",
       "    <tr>\n",
       "      <th>8</th>\n",
       "      <td>901</td>\n",
       "      <td>Fin</td>\n",
       "      <td>85000.0</td>\n",
       "      <td>Vegas</td>\n",
       "      <td>51.0</td>\n",
       "      <td>Marketing</td>\n",
       "      <td>600000</td>\n",
       "      <td>N</td>\n",
       "    </tr>\n",
       "    <tr>\n",
       "      <th>4</th>\n",
       "      <td>501</td>\n",
       "      <td>Rick</td>\n",
       "      <td>NaN</td>\n",
       "      <td>San Francisco</td>\n",
       "      <td>NaN</td>\n",
       "      <td>IT</td>\n",
       "      <td>75000</td>\n",
       "      <td>Y</td>\n",
       "    </tr>\n",
       "    <tr>\n",
       "      <th>11</th>\n",
       "      <td>1003</td>\n",
       "      <td>Brand</td>\n",
       "      <td>40500.0</td>\n",
       "      <td>San Francisco</td>\n",
       "      <td>49.0</td>\n",
       "      <td>Marketing</td>\n",
       "      <td>50000</td>\n",
       "      <td>N</td>\n",
       "    </tr>\n",
       "    <tr>\n",
       "      <th>1</th>\n",
       "      <td>201</td>\n",
       "      <td>Tom</td>\n",
       "      <td>35000.0</td>\n",
       "      <td>New York</td>\n",
       "      <td>33.0</td>\n",
       "      <td>Analytics</td>\n",
       "      <td>550000</td>\n",
       "      <td>Y</td>\n",
       "    </tr>\n",
       "    <tr>\n",
       "      <th>9</th>\n",
       "      <td>1001</td>\n",
       "      <td>Grant</td>\n",
       "      <td>61500.0</td>\n",
       "      <td>New York</td>\n",
       "      <td>39.0</td>\n",
       "      <td>IT</td>\n",
       "      <td>75000</td>\n",
       "      <td>N</td>\n",
       "    </tr>\n",
       "    <tr>\n",
       "      <th>6</th>\n",
       "      <td>701</td>\n",
       "      <td>Jim</td>\n",
       "      <td>25000.0</td>\n",
       "      <td>Los Angeles</td>\n",
       "      <td>24.0</td>\n",
       "      <td>HR</td>\n",
       "      <td>350000</td>\n",
       "      <td>Y</td>\n",
       "    </tr>\n",
       "    <tr>\n",
       "      <th>3</th>\n",
       "      <td>401</td>\n",
       "      <td>Phil</td>\n",
       "      <td>100000.0</td>\n",
       "      <td>Dallas</td>\n",
       "      <td>40.0</td>\n",
       "      <td>HR</td>\n",
       "      <td>800000</td>\n",
       "      <td>Y</td>\n",
       "    </tr>\n",
       "    <tr>\n",
       "      <th>10</th>\n",
       "      <td>1002</td>\n",
       "      <td>Cooper</td>\n",
       "      <td>31500.0</td>\n",
       "      <td>Dallas</td>\n",
       "      <td>27.0</td>\n",
       "      <td>IT</td>\n",
       "      <td>250000</td>\n",
       "      <td>N</td>\n",
       "    </tr>\n",
       "    <tr>\n",
       "      <th>2</th>\n",
       "      <td>301</td>\n",
       "      <td>Starc</td>\n",
       "      <td>20000.0</td>\n",
       "      <td>Dallas</td>\n",
       "      <td>21.0</td>\n",
       "      <td>IT</td>\n",
       "      <td>125000</td>\n",
       "      <td>N</td>\n",
       "    </tr>\n",
       "    <tr>\n",
       "      <th>0</th>\n",
       "      <td>101</td>\n",
       "      <td>James</td>\n",
       "      <td>50000.0</td>\n",
       "      <td>Chicago</td>\n",
       "      <td>27.0</td>\n",
       "      <td>HR</td>\n",
       "      <td>700000</td>\n",
       "      <td>Y</td>\n",
       "    </tr>\n",
       "    <tr>\n",
       "      <th>7</th>\n",
       "      <td>801</td>\n",
       "      <td>Ricky</td>\n",
       "      <td>75000.0</td>\n",
       "      <td>Chicago</td>\n",
       "      <td>NaN</td>\n",
       "      <td>Analytics</td>\n",
       "      <td>450000</td>\n",
       "      <td>N</td>\n",
       "    </tr>\n",
       "  </tbody>\n",
       "</table>\n",
       "</div>"
      ],
      "text/plain": [
       "      ID    Name    Income           City   Age Department   Sales Response\n",
       "5    601   Harry  135000.0          Vegas  44.0  Marketing  900000        N\n",
       "8    901     Fin   85000.0          Vegas  51.0  Marketing  600000        N\n",
       "4    501    Rick       NaN  San Francisco   NaN         IT   75000        Y\n",
       "11  1003   Brand   40500.0  San Francisco  49.0  Marketing   50000        N\n",
       "1    201     Tom   35000.0       New York  33.0  Analytics  550000        Y\n",
       "9   1001   Grant   61500.0       New York  39.0         IT   75000        N\n",
       "6    701     Jim   25000.0    Los Angeles  24.0         HR  350000        Y\n",
       "3    401    Phil  100000.0         Dallas  40.0         HR  800000        Y\n",
       "10  1002  Cooper   31500.0         Dallas  27.0         IT  250000        N\n",
       "2    301   Starc   20000.0         Dallas  21.0         IT  125000        N\n",
       "0    101   James   50000.0        Chicago  27.0         HR  700000        Y\n",
       "7    801   Ricky   75000.0        Chicago   NaN  Analytics  450000        N"
      ]
     },
     "execution_count": 505,
     "metadata": {},
     "output_type": "execute_result"
    }
   ],
   "source": [
    "# Sorting in descending order by two clumns. This is similar to order by in sql\n",
    "df.sort_values(['City', 'Sales'], ascending = False)"
   ]
  },
  {
   "cell_type": "markdown",
   "metadata": {},
   "source": [
    "Indexes will remain attached to as that of original DataFrame"
   ]
  }
 ],
 "metadata": {
  "kernelspec": {
   "display_name": "Python 3",
   "language": "python",
   "name": "python3"
  },
  "language_info": {
   "codemirror_mode": {
    "name": "ipython",
    "version": 3
   },
   "file_extension": ".py",
   "mimetype": "text/x-python",
   "name": "python",
   "nbconvert_exporter": "python",
   "pygments_lexer": "ipython3",
   "version": "3.6.5"
  }
 },
 "nbformat": 4,
 "nbformat_minor": 2
}
